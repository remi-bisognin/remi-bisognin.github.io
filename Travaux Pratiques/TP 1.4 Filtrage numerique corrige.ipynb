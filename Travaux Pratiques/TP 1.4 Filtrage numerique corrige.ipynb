{
 "cells": [
  {
   "cell_type": "markdown",
   "metadata": {},
   "source": [
    "# Exercice sur le Théorème de Shanonn\n",
    "\n",
    "On souhaite réaliser l’échantillonnage d’un signal $s(t)$. Les paramètres de l’échantillonnage sont : $N$ nombre de points et $f_e$ fréquence d’échantillonnage.\n",
    "\n",
    "\n",
    "1. Pour $N = 1000$ et $f_e = 20$ kHz\n",
    "    - Que valent la période d’échantillonnage et l’intervalle minimum entre deux raies  ?\n",
    "        - $T_e$ = 1/$f_e$ = 50 µs et $\\Delta$f = 1/$T_a$ = 1/(N$T_e$) = $f_e$/N = 20 Hz\n",
    "    - Comment s’applique le théorème de Shannon dans ces conditions ?\n",
    "        - $f_{max}$ < $f_e$/2 soit $f_{max}$ < 10 kHz \n",
    "    - Comment diminuer l’intervalle minimum entre deux raies ?\n",
    "        - augmenter N\n",
    "    - Comment échantillonner un signal de fréquence plus élevée ?\n",
    "        - augmenter f_e\n",
    "    \n",
    "\n",
    "2. Le nombre de points d’échantillonnage est imposé pour un oscilloscope. Proposer une valeur de durée d'acquisition $t_{\\mathrm{obs}}$ pour visualiser deux signaux sinusoïdaux de fréquences 4000 et 4020 Hz avec $N = 4096$.\n",
    "\n",
    "    - $\\Delta f$ < 20 Hz donc 1/$t_{\\mathrm{obs}}$ < 20 Hz donc $t_{\\mathrm{obs}}$ > 50 ms\n",
    "    - $f_{max}$ = 4020 Hz donc 8040 Hz < $f_e$ donc 8040 Hz < N/$t_{\\mathrm{obs}}$ donc $t_{\\mathrm{obs}}$ < 0.5 s\n",
    "    - on peut donc choisir n'importe quelle valeur dans 0.05 s < $t_{\\mathrm{obs}}$ < 0.5 s\n",
    "\n",
    "\n",
    "3. On souhaite visualiser le spectre de Fourier d’un signal créneau d’amplitude 5,0 V et de fréquence 100 Hz. Le programme suivant en Python permet de visualiser un signal et le spectre de Fourier. Cet algorithme sera utilisé dans l’exercice suivant. Proposer une valeur de $N$ et de la fréquence d’échantillonnage."
   ]
  },
  {
   "cell_type": "code",
   "execution_count": 2,
   "metadata": {},
   "outputs": [
    {
     "data": {
      "text/plain": [
       "[<matplotlib.lines.Line2D at 0x14da08c7278>]"
      ]
     },
     "execution_count": 2,
     "metadata": {},
     "output_type": "execute_result"
    },
    {
     "data": {
      "image/png": "[encoded data removed]",
      "text/plain": [
       "<Figure size 432x288 with 1 Axes>"
      ]
     },
     "metadata": {
      "needs_background": "light"
     },
     "output_type": "display_data"
    }
   ],
   "source": [
    "import numpy as np\n",
    "import matplotlib.pyplot as plt\n",
    "N = 4000\n",
    "F = 100\n",
    "Fe = 10000\n",
    "Te, deltaF = 1/Fe, Fe/N\n",
    "T = 1/F\n",
    "vT, vF = np.arange(N)*Te, np.arange(N)*deltaF\n",
    "S = np.zeros(N)\n",
    "Nb_pts_signal = round(T/Te)\n",
    "for i in range(N) :\n",
    "    j = i % Nb_pts_signal #j=modulo(i,Nb_pts_signal)\n",
    "    if j < (Nb_pts_signal/2) :\n",
    "        S[i] = 5\n",
    "    else :\n",
    "        S[i] = -5\n",
    "TF_Se = np.fft.fft(S)\n",
    "plt.plot(vF[ :N//2], 1/N*2*abs(TF_Se[ :N//2]))"
   ]
  },
  {
   "cell_type": "markdown",
   "metadata": {},
   "source": [
    "# Exercice sur le filtrage numérique\n",
    "\n",
    "\n",
    "On souhaite réaliser un filtrage numérique avec un passe-bas du premier ordre. La période\n",
    "d’échantillonnage est notée $T_e$. Le signal numérisé est stocké dans une liste de taille $N$, notée $V_E$,\n",
    "contenant l’ensemble des valeurs $V_E\\left(nT_e\\right)$ accessible par la commande $Ve[n]$ avec $n \\in [0,N − 1]$\n",
    "en Python.\n",
    "\n",
    "\n",
    "1. Déterminer l’équation différentielle reliant l’entrée $V_E$ et la sortie $V_S$ aux bornes du condensateur pour un circuit RC série. Définir $\\omega_c$, la pulsation de coupure à -3 dB.\n",
    "    - $RC\\dfrac{dV_S}{dt}+V_S = V_E$\n",
    "    - $\\omega_c$ = 1/RC\n",
    "\n",
    "2. On veut construire la suite $V_S[k] = V_S(kT_e)$ pour $k$ variant de 0 à $N−1$.\n",
    "    - Intégrer l’équation différentielle entre les points de mesures $kT_e$ et $(k+1)T_e$. On utilise la méthode des trapèzes qui donne \n",
    "    \\begin{equation*}\n",
    "    \\int_{kT_e}^{(k+1)T_e} V_S(t)dt \\simeq \\dfrac{V_S((k+1)T_e) + V_S(kT_e) }{2}T_e\n",
    "    \\end{equation*}\n",
    "        - $\\dfrac{1}{\\omega_c}(V_S((k+1)T_e) - V_S(kT_e)) + \\dfrac{V_S((k+1)T_e) + V_S(kT_e) }{2}T_e = \\dfrac{V_E((k+1)T_e) + V_E(kT_e) }{2}T_e$\n",
    "    - Montrer que la relation de récurrence peut se mettre sous la forme :\n",
    "    \\begin{equation*}\n",
    "    VS[k + 1] = AVS[k] + B(VE[k + 1] + VE[k])\n",
    "    \\end{equation*}\n",
    "        - $(V_S((k+1)T_e) - V_S(kT_e)) + \\dfrac{V_S((k+1)T_e) + V_S(kT_e) }{2}\\omega_cT_e = \\dfrac{V_E((k+1)T_e) + V_E(kT_e) }{2}\\omega_cT_e$\n",
    "        - $(1+\\dfrac{\\omega_cT_e}{2})V_S((k+1)T_e) =  (1- \\dfrac{\\omega_cT_e}{2})V_S(kT_e) + \\dfrac{\\omega_cT_e}{2}(V_E((k+1)T_e) + V_E(kT_e))$\n",
    "    - Exprimer $A$ et $B$ en fonction de $T_e$, et $\\omega_c$.\n",
    "        - $A = \\dfrac{2-\\omega_cT_e}{2+\\omega_cT_e}$ et $B = \\dfrac{\\omega_cT_e}{2+\\omega_cT_e}$\n",
    "\n",
    "3. On part de VS[0] = 0.\n",
    "    - En s’aidant de l’énoncé de l’exercice précédent, réaliser un programme Python permettant de créer un signal d’entrée constitué de 1024 points avec une fréquence d’échantillonnage de 1200 Hz, et visualiser le signal ainsi que son spectre.\n",
    "    - Ecrire un programme mettant en oeuvre la relation de récurence de la question précédente afin de calculer le signal de sortie après passage dans le filtre\n",
    "    - Visualiser le signal de sortie ainsi que son spectre."
   ]
  },
  {
   "cell_type": "code",
   "execution_count": 8,
   "metadata": {},
   "outputs": [
    {
     "data": {
      "text/plain": [
       "Text(0, 0.5, '$A(v_{e})$')"
      ]
     },
     "execution_count": 8,
     "metadata": {},
     "output_type": "execute_result"
    },
    {
     "data": {
      "image/png": "[encoded data removed]",
      "text/plain": [
       "<Figure size 432x288 with 2 Axes>"
      ]
     },
     "metadata": {
      "needs_background": "light"
     },
     "output_type": "display_data"
    }
   ],
   "source": [
    "N = 1024\n",
    "Fe = 1200\n",
    "F = 1200/1024*10\n",
    "Te, deltaF = 1/Fe, Fe/N\n",
    "T = 1/F\n",
    "vT, vF = np.arange(N)*Te, np.arange(N)*deltaF\n",
    "Se = np.zeros(N)\n",
    "Nb_pts_signal = round(T/Te)\n",
    "for i in range(N) :\n",
    "    j = i % Nb_pts_signal #j=modulo(i,Nb_pts_signal)\n",
    "    if j < (Nb_pts_signal/2) :\n",
    "        Se[i] = 5\n",
    "    else :\n",
    "        Se[i] = -5\n",
    "TF_Se = np.fft.fft(Se)\n",
    "\n",
    "plt.subplots_adjust(hspace=.5)\n",
    "plt.subplots_adjust(wspace=.5)\n",
    "plt.subplot(211)\n",
    "plt.plot(vT[:],Se[:])\n",
    "plt.xlabel('t (s)')\n",
    "plt.ylabel('$v_{e}$')\n",
    "plt.subplot(212)\n",
    "plt.plot(vF[ :N//2], 1/N*2*abs(TF_Se[ :N//2]))\n",
    "plt.xlabel('F (Hz)')\n",
    "plt.ylabel('$A(v_{e})$')"
   ]
  },
  {
   "cell_type": "code",
   "execution_count": 9,
   "metadata": {},
   "outputs": [],
   "source": [
    "fc = 20\n",
    "omegac = 2*np.pi*fc\n",
    "A = (2.0-omegac*Te)/(2.0+omegac*Te)\n",
    "B = omegac*Te/(2.0+omegac*Te)\n",
    "\n",
    "Ss = np.zeros(N)\n",
    "for i in range(N-1) :\n",
    "    Ss[i+1] = A*Ss[i]+B*(Se[i+1]+Se[i])"
   ]
  },
  {
   "cell_type": "code",
   "execution_count": 10,
   "metadata": {},
   "outputs": [
    {
     "data": {
      "text/plain": [
       "Text(0, 0.5, '$A(v_{s})$')"
      ]
     },
     "execution_count": 10,
     "metadata": {},
     "output_type": "execute_result"
    },
    {
     "data": {
      "image/png": "[encoded data removed]",
      "text/plain": [
       "<Figure size 432x288 with 2 Axes>"
      ]
     },
     "metadata": {
      "needs_background": "light"
     },
     "output_type": "display_data"
    }
   ],
   "source": [
    "TF_Ss = np.fft.fft(Ss)\n",
    "\n",
    "plt.subplots_adjust(hspace=.5)\n",
    "plt.subplots_adjust(wspace=.5)\n",
    "plt.subplot(211)\n",
    "plt.plot(vT[:],Ss[:])\n",
    "plt.xlabel('t (s)')\n",
    "plt.ylabel('$v_{s}$')\n",
    "plt.subplot(212)\n",
    "plt.plot(vF[ :N//2], 1/N*2*abs(TF_Ss[ :N//2]))\n",
    "plt.xlabel('F (Hz)')\n",
    "plt.ylabel('$A(v_{s})$')"
   ]
  },
  {
   "cell_type": "markdown",
   "metadata": {},
   "source": [
    "# Pour expérimenter sur un son audio\n",
    "\n",
    "Voici une liste de librairies qui seront utile pour manipuler un fichier son avec Python."
   ]
  },
  {
   "cell_type": "code",
   "execution_count": null,
   "metadata": {},
   "outputs": [],
   "source": [
    "import wave\n",
    "import math\n",
    "import binascii\n",
    "import winsound\n",
    "import struct\n",
    "import os\n",
    "import scipy.io.wavfile\n",
    "import scipy"
   ]
  },
  {
   "cell_type": "markdown",
   "metadata": {},
   "source": [
    "Choisissez ensuite un signal d'entrée constitué de deux harmoniques de fréquence $f_a$ et $f_b$ et via par exemple les paramètres suivants"
   ]
  },
  {
   "cell_type": "code",
   "execution_count": null,
   "metadata": {},
   "outputs": [],
   "source": [
    "Ta = 2 #durée d'acquisition en seconde du signal\n",
    "Fe = 44100 #fréquence d'échantillonnage en Hz pour signaux audio\n",
    "f_a = 220 # fréquence en Hz de l'harmonique a présente dans le signal\n",
    "f_b = 220*(2**4) # fréquence en Hz de l'harmonique b présente dans le signal\n",
    "niveau = 1 # niveau sonore des hauts-parleur\n",
    "nbCanal = 2    # stéreo\n",
    "nbOctet = 1    # taille d'un échantillon : 1 octet = 8 bits"
   ]
  },
  {
   "cell_type": "markdown",
   "metadata": {},
   "source": [
    "Après avoir calculé et affiché le signal d'entré $V_e$, vous pourrez écrire dans un fichier audio .wav votre signal audio à l'aide des lignes de commande suivantes"
   ]
  },
  {
   "cell_type": "code",
   "execution_count": null,
   "metadata": {},
   "outputs": [],
   "source": [
    "NomFichier = 'son.wav'\n",
    "Monson = wave.open(NomFichier,'w')\n",
    "parametres = (nbCanal,nbOctet,Fe,N,'NONE','not compressed')# tuple\n",
    "Monson.setparams(parametres)    # création de l'en-tête (44 octets)\n",
    "for i in range(0,N):\n",
    "    # canal gauche\n",
    "    # 127.5 + 0.5 pour arrondir à l'entier le plus proche\n",
    "    valG = wave.struct.pack('B',int(128.0 + 127.5*0.5*ve[i]))\n",
    "    # canal droit\n",
    "    valD = wave.struct.pack('B',int(128.0 + 127.5*0.5*ve[i]))\n",
    "    Monson.writeframes(valG + valD) # écriture frame\n",
    "\n",
    "Monson.close()"
   ]
  },
  {
   "cell_type": "markdown",
   "metadata": {},
   "source": [
    "Pour écouter ce même fichier audio .wav à l'aide de la librairie winsound vous pouvez utiliser les lignes de commandes suivantes"
   ]
  },
  {
   "cell_type": "code",
   "execution_count": null,
   "metadata": {},
   "outputs": [],
   "source": [
    "Fichier = open(NomFichier,'rb')\n",
    "data = Fichier.read()\n",
    "tailleFichier = len(data)\n",
    "print('\\nTaille du fichier',NomFichier, ':', tailleFichier,'octets')\n",
    "print(\"Lecture du contenu de l'en-tête (44 octets) :\")\n",
    "print(binascii.hexlify(data[0:44]))\n",
    "print(\"Nombre d'octets de données :\",tailleFichier - 44)\n",
    "Fichier.close()\n",
    "winsound.PlaySound('son.wav',winsound.SND_FILENAME)"
   ]
  },
  {
   "cell_type": "markdown",
   "metadata": {},
   "source": [
    "Vous pouvez ensuite mettre en oeuvre le filtrage numérique de ce signal d'entrée et écouter le signal de sortie en écrivant votre signal de sortie dans un nouveau fichier .wav et en le lisant à l'aide de winsound."
   ]
  }
 ],
 "metadata": {
  "kernelspec": {
   "display_name": "Python 3",
   "language": "python",
   "name": "python3"
  },
  "language_info": {
   "codemirror_mode": {
    "name": "ipython",
    "version": 3
   },
   "file_extension": ".py",
   "mimetype": "text/x-python",
   "name": "python",
   "nbconvert_exporter": "python",
   "pygments_lexer": "ipython3",
   "version": "3.7.3"
  }
 },
 "nbformat": 4,
 "nbformat_minor": 2
}
