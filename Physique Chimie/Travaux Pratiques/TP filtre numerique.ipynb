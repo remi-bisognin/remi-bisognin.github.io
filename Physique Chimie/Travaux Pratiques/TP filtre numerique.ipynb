{
 "cells": [
  {
   "cell_type": "markdown",
   "metadata": {},
   "source": [
    "Dans ce TP vous allez mettre en oeuvre une chaine complète de traitement numérique d'un enregistrement audio : un capteur, un CAN, votre ordinateur comme traitement numérique et CNA, et vos écouteurs.\n",
    "\n",
    "# Numérisation du signal analogique\n",
    "\n",
    "Branchez la sortie analogique de votre micro sur la carte d'acquisition et utilisez Latis pro pour commander la carte d'acquisition.\n",
    "\n",
    "Pour éviter que les étapes de traitement numérique ne prennent trop temps de calcul, vous choisirez un temps d'acquisition de moins de 10s.\n",
    "\n",
    "Choisissez une période d'échantillonnage qui permette de numériser votre voix correctement. Vous pouvez faire une recherche sur les caractéristiques de la voix pour cela.\n",
    "\n",
    "Enregistrez votre voix et exportez vos données dans un fichier \"data.txt\" avec des nombres séparées par des tabulations et dont le séparateur décimal est un point. Après exportation vous pourrez effacer manuellement l'en-tête du fichier texte.\n",
    "\n",
    "Pour visualiser le résultats nous avons besoin des librairies"
   ]
  },
  {
   "cell_type": "code",
   "execution_count": null,
   "metadata": {},
   "outputs": [],
   "source": [
    "import numpy as np\n",
    "import matplotlib.pyplot as plt"
   ]
  },
  {
   "cell_type": "markdown",
   "metadata": {},
   "source": [
    "Puis nous pouvons utiliser la fonction np.loadtxt pour importer les données"
   ]
  },
  {
   "cell_type": "code",
   "execution_count": null,
   "metadata": {},
   "outputs": [],
   "source": [
    "data = np.loadtxt(\"data.txt\")"
   ]
  },
  {
   "cell_type": "markdown",
   "metadata": {},
   "source": [
    "Pour visualiser la façon dont les données sont enregistrée dans data vous pouvez d'abord utiliser la fonction print, puis faire un graphe."
   ]
  },
  {
   "cell_type": "code",
   "execution_count": null,
   "metadata": {},
   "outputs": [],
   "source": [
    "print(data)"
   ]
  },
  {
   "cell_type": "code",
   "execution_count": null,
   "metadata": {},
   "outputs": [],
   "source": [
    "t = # récupérer ici la liste des temps\n",
    "e = #  récupérer ici la liste des tensions\n",
    "x = # ce que vous voulez tracer en abscisse\n",
    "y = # ce que vous voulez tracer en ordonnée\n",
    "plt.plot(x,y,'.', label=\"ma légende\")\n",
    "plt.ylabel('axe des ordonnées')\n",
    "plt.xlabel(\"axe des abscisses\")\n",
    "plt.grid(True)\n",
    "#plt.xticks([min(x), max(x)],\n",
    "#       [r'$0$', r'$T_a$'])\n",
    "#plt.yticks([min(y), 0, max(y)],\n",
    "#       [r'$-A$', r'$0$', r'$A$'])\n",
    "\n",
    "plt.legend(loc='upper right')\n",
    "plt.title('Titre du graphique', loc = 'center', y = -0.25)\n",
    "plt.figtext(0,-0.1 ,'Commentaire du graphique',)\n",
    "\n",
    "#plt.savefig(\"mafigure.pdf\")\n",
    "\n",
    "plt.show()"
   ]
  },
  {
   "cell_type": "markdown",
   "metadata": {},
   "source": [
    "On peut aussi calculer la représentation en série de Fourier du signal numérisé à l'aide de la fonction np.fft.fft(). Cette fonction retourne la liste des amplitudes complexes de chaques harmoniques de la décomposition en série de Fourier.\n",
    "\n",
    "Chaques harmoniques sont séparées d'une résolution spectrale $\\delta f$ donc les fréquences correspondantes sont $0$, $\\delta f$, $2\\delta f$, $3\\delta f$, ...\n",
    "\n",
    "Calculez puis tracez le spectre du signal d'entrée."
   ]
  },
  {
   "cell_type": "code",
   "execution_count": null,
   "metadata": {},
   "outputs": [],
   "source": [
    "N = # récupérer ici le nombre de point\n",
    "Te = # récupérer ici la période d'échantillonnage\n",
    "Fe = # calculer la fréquence d'échantillonnage\n",
    "deltaF = # calculer la résolution spectrale\n",
    "\n",
    "f = np.arange(N)*deltaF\n",
    "TF_e = np.fft.fft(e)\n",
    "\n",
    "x = # ce que vous voulez tracer en abscisse\n",
    "y = # ce que vous voulez tracer en ordonnée\n",
    "plt.plot(x,y,'.', label=\"ma légende\")\n",
    "plt.ylabel('axe des ordonnées')\n",
    "plt.xlabel(\"axe des abscisses\")\n",
    "plt.grid(True)\n",
    "#plt.xticks([min(x), max(x)],\n",
    "#       [r'$0$', r'$T_a$'])\n",
    "#plt.yticks([min(y), 0, max(y)],\n",
    "#       [r'$-A$', r'$0$', r'$A$'])\n",
    "\n",
    "plt.legend(loc='upper right')\n",
    "plt.title('Titre du graphique', loc = 'center', y = -0.25)\n",
    "plt.figtext(0,-0.1 ,'Commentaire du graphique',)\n",
    "\n",
    "#plt.savefig(\"mafigure.pdf\")\n",
    "\n",
    "plt.show()"
   ]
  },
  {
   "cell_type": "markdown",
   "metadata": {},
   "source": [
    "Pour mieux visualiser l'échelle en fréquence on peut choisir de la tracer en échelle logarithmique via la commande plt.xscale('log')"
   ]
  },
  {
   "cell_type": "code",
   "execution_count": null,
   "metadata": {},
   "outputs": [],
   "source": [
    "plt.plot(x,y,'.', label=\"ma légende\")\n",
    "plt.ylabel('axe des ordonnées')\n",
    "plt.xlabel(\"axe des abscisses\")\n",
    "plt.grid(True)\n",
    "#plt.xticks([min(x), max(x)],\n",
    "#       [r'$0$', r'$T_a$'])\n",
    "#plt.yticks([min(y), 0, max(y)],\n",
    "#       [r'$-A$', r'$0$', r'$A$'])\n",
    "\n",
    "plt.legend(loc='upper right')\n",
    "plt.title('Titre du graphique', loc = 'center', y = -0.25)\n",
    "plt.figtext(0,-0.1 ,'Commentaire du graphique',)\n",
    "\n",
    "plt.xscale('log') # commande pour afficher l'axe des x en échelle logarithmique\n",
    "\n",
    "#plt.savefig(\"mafigure.pdf\")\n",
    "\n",
    "plt.show()"
   ]
  },
  {
   "cell_type": "markdown",
   "metadata": {},
   "source": [
    "# Conversion Numérique Analogique\n",
    "\n",
    "Avant de faire un traitement numérique du signal on peut s'assurer que le signal est correctement numérisé en le ré-écoutant après une conversion numérique analogique.\n",
    "\n",
    "Branchez vos écouteurs/casques sur l'ordinateur, l'objectif de cette partie sera alors d'écouter votre enregistrement en l'enregistrant dans un format .wav\n",
    "\n",
    "Pour encoder le fichier nous aurons besoin des librairies suivantes."
   ]
  },
  {
   "cell_type": "code",
   "execution_count": null,
   "metadata": {},
   "outputs": [],
   "source": [
    "import wave\n",
    "import math\n",
    "import binascii\n",
    "import winsound\n",
    "import struct\n",
    "import os\n",
    "import scipy.io.wavfile\n",
    "import scipy"
   ]
  },
  {
   "cell_type": "markdown",
   "metadata": {},
   "source": [
    "La fréquence d'échantillonnage d'un fichier .wav est fixé à 44,1kHz nous devons donc adapter l'enregistrement pour obtenir une suite d'échantillons avec cette fréquence d'échantillonnage.\n",
    "\n",
    "Pour cela nous allons utiliser la fonction np.interp(twav, t, e) qui pour une liste d'échantillon e pris aux instants de la liste t, donne la liste des échantillons les plus proches pris aux instants twav."
   ]
  },
  {
   "cell_type": "code",
   "execution_count": null,
   "metadata": {},
   "outputs": [],
   "source": [
    "Ta = # calculer ici la durée d'acquisition\n",
    "Fwav = 44100\n",
    "Twav = # calculer ici la durée entre deux points du signal .wav\n",
    "\n",
    "Nwav = int(np.floor(Ta*Fwav))\n",
    "\n",
    "twav = # calculer ici la liste des instants où sont pris les échantillons dans le fichier .wav\n",
    "\n",
    "ewav = np.interp(twav,t,e)"
   ]
  },
  {
   "cell_type": "markdown",
   "metadata": {},
   "source": [
    "On peut s'assurer que l'interpolation est correcte en traçant les échantillons numérisés et les échantillons interpolés sur un même graphique."
   ]
  },
  {
   "cell_type": "code",
   "execution_count": null,
   "metadata": {},
   "outputs": [],
   "source": [
    "x = # ce que vous voulez tracer en abscisse\n",
    "y = # ce que vous voulez tracer en ordonnée\n",
    "plt.plot(x,y,'o', label=\"ma légende\")\n",
    "\n",
    "x = # ce que vous voulez tracer en abscisse\n",
    "y = # ce que vous voulez tracer en ordonnée\n",
    "plt.plot(x,y,'.', label=\"ma légende\")\n",
    "\n",
    "plt.ylabel('axe des ordonnées')\n",
    "plt.xlabel(\"axe des abscisses\")\n",
    "plt.grid(True)\n",
    "#plt.xticks([min(x), max(x)],\n",
    "#       [r'$0$', r'$T_a$'])\n",
    "#plt.yticks([min(y), 0, max(y)],\n",
    "#       [r'$-A$', r'$0$', r'$A$'])\n",
    "\n",
    "plt.legend(loc='upper right')\n",
    "plt.title('Titre du graphique', loc = 'center', y = -0.25)\n",
    "plt.figtext(0,-0.1 ,'Commentaire du graphique',)\n",
    "\n",
    "#plt.savefig(\"mafigure.pdf\")\n",
    "\n",
    "plt.show()"
   ]
  },
  {
   "cell_type": "markdown",
   "metadata": {},
   "source": [
    "Chaque valeur de tension doit être maintenant convertie en un nombre entier correspondant à un nombre binaire. Le signal sera encodé sur 1 octect donc il faut encoder toutes les valeurs sur un nombre entier allant de 0 à 255.\n",
    "\n",
    "La liste de valeur ewav doit donc être convertie en une liste de nombres entiers ebinaire allant de 0 à 255."
   ]
  },
  {
   "cell_type": "code",
   "execution_count": null,
   "metadata": {},
   "outputs": [],
   "source": [
    "maximum = np.max(abs(ewav))\n",
    "\n",
    "ebinaire = np.zeros(Nwav, dtype = np.int16)\n",
    "\n",
    "for i in range(Nwav):\n",
    "    ebinaire[i] = # calculer le nombre entier entre 0 et 255 correspondant à la tension e[i]"
   ]
  },
  {
   "cell_type": "markdown",
   "metadata": {},
   "source": [
    "On peut visualiser cette conversion en traçant ebinaire"
   ]
  },
  {
   "cell_type": "code",
   "execution_count": null,
   "metadata": {},
   "outputs": [],
   "source": [
    "x = # ce que vous voulez tracer en abscisse\n",
    "y = # ce que vous voulez tracer en ordonnée\n",
    "plt.plot(x,y,'.', label=\"ma légende\")\n",
    "\n",
    "plt.ylabel('axe des ordonnées')\n",
    "plt.xlabel(\"axe des abscisses\")\n",
    "plt.grid(True)\n",
    "#plt.xticks([min(x), max(x)],\n",
    "#       [r'$0$', r'$T_a$'])\n",
    "plt.yticks([0, 127, 255],\n",
    "       [r'$0$', r'$127$', r'$255$'])\n",
    "\n",
    "plt.legend(loc='upper right')\n",
    "plt.title('Titre du graphique', loc = 'center', y = -0.25)\n",
    "plt.figtext(0,-0.1 ,'Commentaire du graphique',)\n",
    "\n",
    "#plt.savefig(\"mafigure.pdf\")\n",
    "\n",
    "plt.show()"
   ]
  },
  {
   "cell_type": "markdown",
   "metadata": {},
   "source": [
    "Les lignes de commmandes suivantes écrivent le fichier .wav sur l'ordinateur"
   ]
  },
  {
   "cell_type": "code",
   "execution_count": null,
   "metadata": {},
   "outputs": [],
   "source": [
    "niveau = 1 # niveau sonore des hauts-parleur\n",
    "nbCanal = 2    # stéreo\n",
    "nbOctet = 1    # taille d'un échantillon : 1 octet = 8 bits\n",
    "\n",
    "NomFichier = 'son.wav'\n",
    "Monson = wave.open(NomFichier,'w')\n",
    "parametres = (nbCanal,nbOctet,Fwav,Nwav,'NONE','not compressed')# tuple\n",
    "Monson.setparams(parametres)    # création de l'en-tête (44 octets)\n",
    "\n",
    "for i in range(Nwav):\n",
    "    # canal gauche\n",
    "    valG = wave.struct.pack('B',ebinaire[i])\n",
    "    # canal droit\n",
    "    valD = valG\n",
    "    Monson.writeframes(valG + valD) # écriture frame\n",
    "\n",
    "Monson.close()"
   ]
  },
  {
   "cell_type": "markdown",
   "metadata": {},
   "source": [
    "Vous pouvez alors vous écoutez en lisant directement le fichier son.\n",
    "\n",
    "# Filtrage numérique\n",
    "\n",
    "L'objectif dans cette partie est de calculer numériquement un signal s filtré à partir du signal numérisé e.\n",
    "\n",
    "Nous avons établit en cours une relation de récurrence qui relie pour un filtre passe-bas RC les échantillons s aux échantillons e.\n",
    "Ecrire une fonction filtre_passe_bas(fc, Te, e) qui prend en argument fc la fréquence de coupure du filtre, Te la période d'échantillonnage de e, et e les échantillons et qui retourne s le signal numérique filtré."
   ]
  },
  {
   "cell_type": "code",
   "execution_count": null,
   "metadata": {},
   "outputs": [],
   "source": [
    "def filtre_passe_bas(fc, Te, e):\n",
    "    omegac = 2*np.pi*fc\n",
    "    A = # coefficient de la suite de récurrence correspondant à un filtre RC\n",
    "    B = # coefficient de la suite de récurrence correspondant à un filtre RC\n",
    "    s = np.zeros(N)\n",
    "    \n",
    "    for i in range(N-1) :\n",
    "        s[i+1] = A*s[i]+B*(e[i+1]+e[i]) # suite de récurrence correspondant à l'éq. diff. d'un filtre RC\n",
    "    \n",
    "    return s"
   ]
  },
  {
   "cell_type": "markdown",
   "metadata": {},
   "source": [
    "Tester votre filtre en comparant les spectres du signal numérisé, avant et après filtrage."
   ]
  },
  {
   "cell_type": "code",
   "execution_count": null,
   "metadata": {},
   "outputs": [],
   "source": [
    "fc = # la fréquence de coupure de votre filtre\n",
    "s = filtre_passe_bas(fc, Te, e)\n",
    "\n",
    "TF_s = np.fft.fft(s)\n",
    "\n",
    "x = # ce que vous voulez tracer en abscisse\n",
    "y = # ce que vous voulez tracer en ordonnée\n",
    "plt.plot(x,y,'.', label=\"ma légende\")\n",
    "\n",
    "x = # ce que vous voulez tracer en abscisse\n",
    "y = # ce que vous voulez tracer en ordonnée\n",
    "plt.plot(x,y,'.', label=\"ma légende\")\n",
    "\n",
    "plt.ylabel('axe des ordonnées')\n",
    "plt.xlabel(\"axe des abscisses\")\n",
    "plt.grid(True)\n",
    "#plt.xticks([min(x), max(x)],\n",
    "#       [r'$0$', r'$T_a$'])\n",
    "#plt.yticks([min(y), 0, max(y)],\n",
    "#       [r'$-A$', r'$0$', r'$A$'])\n",
    "\n",
    "plt.legend(loc='upper right')\n",
    "plt.title('Titre du graphique', loc = 'center', y = -0.25)\n",
    "plt.figtext(0,-0.1 ,'Commentaire du graphique',)\n",
    "plt.xscale('log')\n",
    "\n",
    "#plt.savefig(\"mafigure.pdf\")\n",
    "\n",
    "plt.show()"
   ]
  },
  {
   "cell_type": "markdown",
   "metadata": {},
   "source": [
    "En reprenant la procédure de conversion numérique analogique pour le signal filtré s, vous pouvez maintenant écouter votre voix filtrée."
   ]
  },
  {
   "cell_type": "code",
   "execution_count": null,
   "metadata": {},
   "outputs": [],
   "source": []
  },
  {
   "cell_type": "markdown",
   "metadata": {},
   "source": [
    "D'autres type de filtre sont possibles, vous pouvez concevoir un filtre numérique qui vous fait répéter votre enregistrement 2 fois plus vite. Ecoutez le résultat, que remarquez vous ?"
   ]
  },
  {
   "cell_type": "code",
   "execution_count": null,
   "metadata": {},
   "outputs": [],
   "source": []
  }
 ],
 "metadata": {
  "kernelspec": {
   "display_name": "Python 3",
   "language": "python",
   "name": "python3"
  },
  "language_info": {
   "codemirror_mode": {
    "name": "ipython",
    "version": 3
   },
   "file_extension": ".py",
   "mimetype": "text/x-python",
   "name": "python",
   "nbconvert_exporter": "python",
   "pygments_lexer": "ipython3",
   "version": "3.7.3"
  }
 },
 "nbformat": 4,
 "nbformat_minor": 2
}
