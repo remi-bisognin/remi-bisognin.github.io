{
 "cells": [
  {
   "cell_type": "markdown",
   "metadata": {},
   "source": [
    "Nous allons traiter numériquement l'exercice: \"Ailette de refroidissement du TD\" pour apporter une solution numérique en dehors du régime permanent.\n",
    "\n",
    "# Ailette de refroidissement\n",
    "\n",
    "On considère une tige de cuivre cylindrique de rayon $a = 5$ mm, de longueur $L$. En $x = 0$, la tige de cuivre est en contact avec un milieu à la température $T_0 = 330$ K. Tout le reste de la tige est en contact avec l'air ambiant de température uniforme $T_e = 300$ K. On appelle $\\lambda = 400$ W.m$^{-1}$.K$^{-1}$ la conductivité thermique du cuivre et $h = 12$ W.m$^{-2}$.K$^{-1}$ le coefficient de transfert conducto-convectif entre la tige de cuivre et l'air. On pose $\\delta = \\sqrt{\\frac{\\lambda a}{2h}}$\n",
    "\n",
    "On rappelle la loi de Newton: $\\delta Q = h(T_s-T_f)dSdt$ à l'interface solide/fluide avec $T_s$ la température du solide et $T_f$ la température du fluide."
   ]
  },
  {
   "cell_type": "markdown",
   "metadata": {},
   "source": [
    "# Solution numérique en régime transitoire\n",
    "\n",
    "L'équation différentielle vérifiée par $T(x,t)$ s'exprime comme $\\frac{\\partial T}{\\partial t} = D\\left[ \\frac{\\partial^2 T}{\\partial x^2} - \\frac{1}{\\delta^2}\\left(T-T_0\\right)\\right]$\n",
    "\n",
    "## Adimensionnement de l'équation aux dérivées partielles\n",
    "\n",
    "Afin de résoudre cette équation différentielle de manière numérique on va introduire des grandeurs sans dimension qui seront calculées numériquement. Nous allons donc effectuer des changements de variables pour adimensionner cette équation.\n",
    "\n",
    "$\\bullet$ Remplacer dans l'équation précédente la température $T$ par $\\tilde{T}$ tel que $T = T_e\\tilde{T}$.\n",
    "\n",
    "$\\bullet$ Remplacer dans l'équation précédente la position $x$ par $\\tilde{x}$ tel que $x = \\delta\\times\\tilde{x}$.\n",
    "\n",
    "$\\bullet$ Remplacer dans l'équation précédente le temps $t$ par $\\tilde{t}$ tel que $t = \\frac{\\delta^2}{D} \\tilde{t}$.\n",
    "\n",
    "On obtient ainsi l'équation différentielle adimensionnée $\\frac{\\partial \\tilde{T}}{\\partial \\tilde{t}} = \\left[ \\frac{\\partial^2 \\tilde{T}}{\\partial \\tilde{x}^2} - \\left(\\tilde{T}-1\\right)\\right]$\n",
    "\n",
    "## Conditions initiales et conditions aux limites\n",
    "\n",
    "Afin de résoudre une équation aux dérivées partielles on a besoin d'y ajouter des conditions initiales et des conditions aux limites.\n",
    "\n",
    "Initialement l'ailette vient d'être aposée sur la partie chaude. La partie en contact avec la partie chaude atteint instantanément la température $T_0$. Le reste est encore la température extérieure $T_e$.\n",
    "\n",
    "$\\bullet$ Ecrire la condition initiale pour $\\tilde{T}(\\tilde{x}>0, t=0)$\n",
    "\n",
    "$\\bullet$ Ecrire la condition au limite pour $\\tilde{T}(\\tilde{x} = 0, t)$\n",
    "\n",
    "$\\bullet$ Ecrire la condition au limite pour $\\tilde{T}(\\tilde{x} = \\tilde{x}_{max}, t)$ à partir de la condition au limite sur la densité de flux thermique et la loi de Fourier."
   ]
  },
  {
   "cell_type": "markdown",
   "metadata": {},
   "source": [
    "## Programmation\n",
    "\n",
    "Nous allons écrire le programme qui calcule numériquement toutes les valeurs de $T(x,t)$."
   ]
  },
  {
   "cell_type": "markdown",
   "metadata": {},
   "source": [
    "Il faut importer les librairies :"
   ]
  },
  {
   "cell_type": "code",
   "execution_count": null,
   "metadata": {},
   "outputs": [],
   "source": [
    "import numpy as np\n",
    "import matplotlib.pyplot as plt"
   ]
  },
  {
   "cell_type": "markdown",
   "metadata": {},
   "source": [
    "Il faut ensuite définir les paramètres du problème en début de programme"
   ]
  },
  {
   "cell_type": "code",
   "execution_count": null,
   "metadata": {},
   "outputs": [],
   "source": [
    "T_0 =\n",
    "T_e =\n",
    "t_max =\n",
    "x_max ="
   ]
  },
  {
   "cell_type": "markdown",
   "metadata": {},
   "source": [
    "Il faut ensuite choisir le nombre de points que l'on veut allouer au calcul."
   ]
  },
  {
   "cell_type": "code",
   "execution_count": null,
   "metadata": {},
   "outputs": [],
   "source": [
    "n_x ="
   ]
  },
  {
   "cell_type": "markdown",
   "metadata": {},
   "source": [
    "Ces variables déterminent les autres."
   ]
  },
  {
   "cell_type": "code",
   "execution_count": null,
   "metadata": {},
   "outputs": [],
   "source": [
    "dx = # Calculer le pas entre deux positions\n",
    "\n",
    "n_t = np.int(10*(2*dx**(-2)*t_max)) #  Pour la stabilité de la résolution numérique nous fixons ce nombre de point temporels\n",
    "\n",
    "dt = # Calculer le pas entre deux instants\n",
    "\n",
    "T = np.zeros((n_x,n_t)) # Initialisation du tableau de zéro dans lequel nous calculerons les valeurs de température. Le premier indice définira la position et le second le temps.\n",
    "\n",
    "T[0,:] = # Remplir dans ce tableau les valeurs limites de température\n",
    "\n",
    "T[1:,0] = # Remplir dans ce tableau les valeurs initiales de température"
   ]
  },
  {
   "cell_type": "markdown",
   "metadata": {},
   "source": [
    "$\\bullet$ L'équation aux dérivées partielles adimensionnées $\\frac{\\partial \\tilde{T}}{\\partial \\tilde{t}} = \\left[ \\frac{\\partial^2 \\tilde{T}}{\\partial \\tilde{x}^2} - \\left(\\tilde{T}-1\\right)\\right]$ peut-être discrétisé à l'aide des formules:\n",
    "\n",
    "$\\tilde{T}(\\tilde{x},\\tilde{t}+d\\tilde{t}) - \\tilde{T}(\\tilde{x},\\tilde{t}) = \\frac{\\partial \\tilde{T}}{\\partial \\tilde{t}} d\\tilde{t}$\n",
    "\n",
    "$\\tilde{T}(\\tilde{x}+d\\tilde{x},\\tilde{t}) - \\tilde{T}(\\tilde{x},\\tilde{t}) = \\frac{\\partial \\tilde{T}}{\\partial \\tilde{x}} d\\tilde{x}$\n",
    "\n",
    "$\\tilde{T}(\\tilde{x}+d\\tilde{x},\\tilde{t}) + \\tilde{T}(\\tilde{x}-d\\tilde{x},\\tilde{t}) - 2\\tilde{T}(\\tilde{x},\\tilde{t}) = \\frac{\\partial^2 \\tilde{T}}{\\partial \\tilde{x}^2} d\\tilde{x}^2$\n",
    "\n",
    "En déduire une expression de $\\tilde{T}(\\tilde{x},\\tilde{t}+d\\tilde{t})$ en fonction de $\\tilde{T}(\\tilde{x},\\tilde{t})$, $\\tilde{T}(\\tilde{x}+d\\tilde{x},\\tilde{t})$, $\\tilde{T}(\\tilde{x}-d\\tilde{x},\\tilde{t})$."
   ]
  },
  {
   "cell_type": "markdown",
   "metadata": {},
   "source": [
    "$\\bullet$ implémenter cette expression pour exprimer les indices de $\\tilde{x}$ pour calculer $\\tilde{T}(\\tilde{x},d\\tilde{t})$, avec $\\tilde{x}$ allant de $d\\tilde{x}$ à $\\tilde{x}_{max}-d\\tilde{x}$.\n",
    "\n",
    "$\\bullet$ utiliser la deuxième condition au limite pour calculer $\\tilde{T}(\\tilde{x}_{max},d\\tilde{t})$\n",
    "\n",
    "$\\bullet$ implémenter ces deux dernière étapes dans une boucle sur les indices de $\\tilde{t}$ pour calculer $\\tilde{T}(\\tilde{x},\\tilde{t})$"
   ]
  },
  {
   "cell_type": "code",
   "execution_count": null,
   "metadata": {},
   "outputs": [],
   "source": [
    "indices = np.arange(n_x-2)+1 # on calcule tous les indices de position à la fois\n",
    "\n",
    "for i in range(n_t-1) : # on fait une boucle sur les indices de temps\n",
    "    T[indices,i+1] = # calcul de la température à l'instant d'après\n",
    "    T[n_x-1,i+1] = # condition aux limites"
   ]
  },
  {
   "cell_type": "markdown",
   "metadata": {},
   "source": [
    "## Représentation des résultats\n",
    "\n",
    "Les lignes de commandes ci-dessous permettent de tracer quelques évolutions de températures en fonction de la position ou du temps."
   ]
  },
  {
   "cell_type": "code",
   "execution_count": null,
   "metadata": {},
   "outputs": [],
   "source": [
    "x = np.linspace(0,x_max-dx,n_x)\n",
    "t = np.linspace(0,t_max-dt,n_t)\n",
    "\n",
    "plt.figure()\n",
    "\n",
    "plt.subplot(121)\n",
    "plt.plot(x,T[:,0])\n",
    "plt.plot(x,T[:,np.int(n_t*(x_max**2)/(4*t_max))])\n",
    "plt.plot(x,T[:,n_t-1])\n",
    "\n",
    "plt.subplot(122)\n",
    "plt.plot(t,T[0,:])\n",
    "plt.plot(t,T[np.int(n_x/2),:])\n",
    "plt.plot(t,T[n_x-1,:])\n",
    "\n",
    "plt.show()"
   ]
  },
  {
   "cell_type": "markdown",
   "metadata": {},
   "source": [
    "Les lignes de commandes ci-dessous permettent de représenter le champs de température de l'ailette à différent instant."
   ]
  },
  {
   "cell_type": "code",
   "execution_count": null,
   "metadata": {},
   "outputs": [],
   "source": [
    "y = [0, 1]\n",
    "\n",
    "plt.figure()\n",
    "\n",
    "#for i in range(5):\n",
    "plt.subplot(151)\n",
    "temp = np.zeros((n_x,2))\n",
    "temp[:,0] = T[:,np.int(0*(n_t-1)/4)]\n",
    "temp[:,1] = T[:,np.int(0*(n_t-1)/4)]\n",
    "plt.contourf(y,x,temp,cmap='hot')\n",
    "plt.clim([T_0, T_c])\n",
    "\n",
    "plt.subplot(152)\n",
    "temp = np.zeros((n_x,2))\n",
    "temp[:,0] = T[:,np.int(1*(n_t-1)/4)]\n",
    "temp[:,1] = T[:,np.int(1*(n_t-1)/4)]\n",
    "plt.contourf(y,x,temp,cmap='hot')\n",
    "plt.clim([T_0, T_c])\n",
    "\n",
    "plt.subplot(153)\n",
    "temp = np.zeros((n_x,2))\n",
    "temp[:,0] = T[:,np.int(2*(n_t-1)/4)]\n",
    "temp[:,1] = T[:,np.int(2*(n_t-1)/4)]\n",
    "plt.contourf(y,x,temp,cmap='hot')\n",
    "plt.clim([T_0, T_c])\n",
    "\n",
    "plt.subplot(154)\n",
    "temp = np.zeros((n_x,2))\n",
    "temp[:,0] = T[:,np.int(3*(n_t-1)/4)]\n",
    "temp[:,1] = T[:,np.int(3*(n_t-1)/4)]\n",
    "plt.contourf(y,x,temp,cmap='hot')\n",
    "plt.clim([T_0, T_c])\n",
    "\n",
    "plt.subplot(155)\n",
    "temp = np.zeros((n_x,2))\n",
    "temp[:,0] = T[:,np.int(4*(n_t-1)/4)]\n",
    "temp[:,1] = T[:,np.int(4*(n_t-1)/4)]\n",
    "plt.contourf(y,x,temp,cmap='hot')\n",
    "plt.clim([T_0, T_c])\n",
    "\n",
    "plt.show()"
   ]
  },
  {
   "cell_type": "markdown",
   "metadata": {},
   "source": [
    "Mesurer à l'aide d'une caméra thermique et comparer vos résultats avec vos calculs numériques."
   ]
  }
 ],
 "metadata": {
  "kernelspec": {
   "display_name": "Python 3",
   "language": "python",
   "name": "python3"
  },
  "language_info": {
   "codemirror_mode": {
    "name": "ipython",
    "version": 3
   },
   "file_extension": ".py",
   "mimetype": "text/x-python",
   "name": "python",
   "nbconvert_exporter": "python",
   "pygments_lexer": "ipython3",
   "version": "3.7.3"
  }
 },
 "nbformat": 4,
 "nbformat_minor": 2
}
