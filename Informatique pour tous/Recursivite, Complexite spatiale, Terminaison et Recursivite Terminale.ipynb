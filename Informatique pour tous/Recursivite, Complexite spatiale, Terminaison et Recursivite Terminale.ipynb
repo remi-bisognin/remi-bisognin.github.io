{
 "cells": [
  {
   "cell_type": "markdown",
   "metadata": {},
   "source": [
    "# Complexité spatiale\n",
    "\n",
    "La complexité spatiale est analogue à la complexité temporelle, sauf qu'on évalue l'espace mémoire nécessaire à l'exécution de la fonction en fonction de la taille des données.\n",
    "\n",
    "Prenons l'exemple de la fonction itérative de calcul de la puissance n-ième de x"
   ]
  },
  {
   "cell_type": "code",
   "execution_count": 1,
   "metadata": {},
   "outputs": [],
   "source": [
    "def puissance_iterative(x,n) :\n",
    "    resultat = 1\n",
    "    for i in range(n):\n",
    "        resultat = x*resultat\n",
    "    return resultat"
   ]
  },
  {
   "cell_type": "markdown",
   "metadata": {},
   "source": [
    "Ce programme exécute une boucle de 0 à n-1 et affecte la nouvelle valeur de resultat. L'espace mémoire utilisé est juste 1 nombre stocké dans la variable resultat. On obtient donc une complexité spatiale C(n) = O(1), elle est indépendante de $n$. "
   ]
  },
  {
   "cell_type": "markdown",
   "metadata": {},
   "source": [
    "Prenons maintenant l'exemple de la fonction récursive"
   ]
  },
  {
   "cell_type": "code",
   "execution_count": 2,
   "metadata": {},
   "outputs": [],
   "source": [
    "def puissance_recursive(x,n) :\n",
    "    if n==0 :\n",
    "        resultat = 1\n",
    "        return resultat\n",
    "    else :\n",
    "        resultat = x*puissance_recursive(x,n-1)\n",
    "        return resultat"
   ]
  },
  {
   "cell_type": "markdown",
   "metadata": {},
   "source": [
    "Cette fois-ci un appel de la fonction puissance_recursive consiste à stocker une valeur de résultat. Pour un appel de la fonction, on a donc une complexité spatiale de O(1). Mais n appels récursifs sont stockés dans la pile d'appels lors de l'exécution de la fonction, en effet puissance(x,n) demande d'appeler puissance(x,n-1) puis puissance(x,n-2) puis ... jusqu'au critère d'arrêt puissance(x,0). Donc la complexité spatiale totale est de $C(n) = n\\times O(1) = O(n)$, elle est linéaire."
   ]
  },
  {
   "cell_type": "markdown",
   "metadata": {},
   "source": [
    "Enfin pour la fonction récursive accélérée"
   ]
  },
  {
   "cell_type": "code",
   "execution_count": 3,
   "metadata": {},
   "outputs": [],
   "source": [
    "def puissance_rapide(x, n):\n",
    "    if n == 0:\n",
    "        return 1\n",
    "    else:\n",
    "        r = puissance_rapide(x, n // 2)\n",
    "        if n % 2 == 0:\n",
    "            return r * r\n",
    "        else:\n",
    "            return x * r * r"
   ]
  },
  {
   "cell_type": "markdown",
   "metadata": {},
   "source": [
    "Encore une fois on stocke un nombre r pour un appel donc la complexité d'un appel est $O(1)$. Pour calculer le nombre d'appels on introduit k tel que $n = 2^k$ et on fait réalise les appels suivant puissance_rapide(x, $n = 2^k$ ), puis puissance_rapide(x, $n/2 = 2^{k-1}$ ),  puis puissance_rapide(x, $n/4 = 2^{k-2}$ ), ... Donc on effectue $k = log_2(n)$ appels. La complexité spatiale de la fonction est donc $C(n) = log_2(n)\\times O(1) = O(\\ln n )$, elle est logarithmique."
   ]
  },
  {
   "cell_type": "markdown",
   "metadata": {},
   "source": [
    "### exercice:\n",
    "\n",
    "Calculer la complexité spatiale du programme récursif suivant:"
   ]
  },
  {
   "cell_type": "code",
   "execution_count": 4,
   "metadata": {},
   "outputs": [],
   "source": [
    "def u(n):\n",
    "    if n == 0:\n",
    "        return 2.\n",
    "    else:\n",
    "        return 0.5 * (u(n-1) + 3. / u(n-1))"
   ]
  },
  {
   "cell_type": "markdown",
   "metadata": {},
   "source": [
    "### exercice\n",
    "\n",
    "Soit l une liste triée par ordre croissant et x un élément à chercher dans cette liste.\n",
    "\n",
    "Reprendre le programme récursif qui prend en argument la liste triée l et l'élément à rechercher x et qui renvoie True si x est dans l, et False si x n'est pas dans l. On utilisera une méthode de recherche par dichotomie.\n",
    "\n",
    "Puis calculer sa complexité spatiale."
   ]
  },
  {
   "cell_type": "markdown",
   "metadata": {},
   "source": [
    "# Comparaison entre itératif et récursif\n",
    "\n",
    "À travers les différents exemples rencontrés, on remarque que les programmes récursifs présentent l'avantage d'avoir une écriture plus concise que les programmes itératifs, car on n'a pas besoin d'utiliser de boucle.\n",
    "\n",
    "On remarque également que dans un contexte où une relation de récurrence existe pour résoudre le problème, le programme récursif est plus simple à écrire que le programme itératif.\n",
    "\n",
    "Par exemple écrire un programme itératif qui calcule les termes de la suite $(u_n)$ telle que :\n",
    "\n",
    "$u_0 = 2$\n",
    "\n",
    "et\n",
    "\n",
    "$u_n = \\dfrac{1}{2}\\left(u_{n-1}+\\dfrac{3}{u_{n-1}}\\right)$\n",
    "\n",
    "est plus compliqué que d'utiliser un programme récursif.\n",
    "\n",
    "Mais lors de l'écriture d'un programme récursif, il faut faire attention à la complexité.\n",
    "\n",
    "La complexité temporelle du programme si on ne fait pas attention peut être élevée, par exemple elle peut être exponentielle selon l'écriture du programme qui calcule la suite $(u_n)$. Certains cas particulier comme puissance_rapide où on divise la taille de l'argument en 2 à chaque appel peuvent présenter une complexité récursive inférieure à l'itérative correspondante.\n",
    "\n",
    "La complexité spatiale est minimale pour un programme itératif, un programme récursif utilisera toujours plus d'espace mémoire que le programme itératif correspondant."
   ]
  },
  {
   "cell_type": "markdown",
   "metadata": {},
   "source": [
    "# Terminaison\n",
    "\n",
    "Lors de l'écriture d'un programme récursif, il faut faire attention à ce que le programme s'arrête un jour.\n",
    "\n",
    "Prenons l'exemple de calcul de puissance :"
   ]
  },
  {
   "cell_type": "code",
   "execution_count": 5,
   "metadata": {},
   "outputs": [],
   "source": [
    "def puissance_rapide(x, n):\n",
    "    if n == 0:\n",
    "        return 1\n",
    "    else:\n",
    "        r = puissance_rapide(x, n // 2)\n",
    "        if n % 2 == 0:\n",
    "            return r * r\n",
    "        else:\n",
    "            return x * r * r"
   ]
  },
  {
   "cell_type": "markdown",
   "metadata": {},
   "source": [
    "Identifiez la touche qui vous permet d'interrompre l'exécution de votre programme manuellement et testez ce programme pour des puissances non entières ou des puissances négatives.\n",
    "\n",
    "Que ce passe-t-il, et pourquoi ?\n",
    "\n",
    "Il faut s'assurer lors de l'écriture d'un programme récursif qu'il possède un cas d'arrêt et que ce cas d'arrêt est atteint.\n",
    "\n",
    "De manière plus formelle, la terminaison est assurée lorsque l'on peut identifier dans le programme un entier positif qui décroît à chaque appel récursif et qui prend une valeur définissant un cas d'arrêt."
   ]
  },
  {
   "cell_type": "markdown",
   "metadata": {},
   "source": [
    "# Récursivité terminale\n",
    "\n",
    "Il s'agit d'un type de programme récursif particulier qui ont pour objectif d'être plus rapide lors de l'exécution de la pile d'appels récursifs.\n",
    "\n",
    "Les programmes récursifs écrits utilisent en général l'appel récursif dans une opération ou comme argument d'une fonction. Par exemple dans le programme suivant l'appel récursif intervient dans une multiplication"
   ]
  },
  {
   "cell_type": "code",
   "execution_count": 6,
   "metadata": {},
   "outputs": [],
   "source": [
    "def puissance_recursive(x,n) :\n",
    "    if n==0 :\n",
    "        resultat = 1\n",
    "        return resultat\n",
    "    else :\n",
    "        resultat = x*puissance_recursive(x,n-1)\n",
    "        return resultat"
   ]
  },
  {
   "cell_type": "markdown",
   "metadata": {},
   "source": [
    "Une version récursive terminale de ce programme ne fait pas intervenir l'appel récursif dans aucune opération ni comme argument de fonction, ce qui donnerait :"
   ]
  },
  {
   "cell_type": "code",
   "execution_count": 7,
   "metadata": {},
   "outputs": [],
   "source": [
    "def puissance_recursive(x,n) :\n",
    "    def puissance_recursive_terminale(x,k,intermediaire) :\n",
    "        if k == 0 :\n",
    "            return intermediaire\n",
    "        else :\n",
    "            return puissance_recursive_terminale(x,k-1,intermediaire*x)\n",
    "    return puissance_recursive_terminale(x,n,1)"
   ]
  },
  {
   "cell_type": "markdown",
   "metadata": {},
   "source": [
    "On remarque dans ce programme que puissance_recursive_terminale n'est appelé que dans les return. Les valeurs renvoyées par l'appel récursif ne sont pas utilisées dans des opérations ou en argument d'autre fonction.\n",
    "\n",
    "L'opération de récurrence est cette fois-ci effectuée en argument de la fonction récursive et non l'inverse.\n",
    "\n",
    "Si on détaille l'ordre des appels récursifs de la version terminale on a :\n",
    "\n",
    "- puissance_récursive appelle puissance_recursive_terminale(x,n,1) donc demande : \"combien vaut $x^n \\times 1$ ?\"\n",
    "\n",
    "- puissance_recursive_terminale(x,n,1) ne répond pas mais appelle puissance_recursive_terminale(x,n-1,1*x), donc demande : \"combien vaut $x^{n-1} \\times (1\\times x)$ ?\"\n",
    "\n",
    "- puissance_recursive_terminale(x,n-1,x) ne répond pas mais appelle puissance_recursive_terminale(x,n-2,x*x), donc demande : \"combien vaut $x^{n-2} \\times (x\\times x)$ ?\"\n",
    "\n",
    "- puissance_recursive_terminale(x,n-2,$x^2$) ne répond pas mais appelle puissance_recursive_terminale(x,n-3,$x^2$*x), donc demande : \"combien vaut $x^{n-3} \\times (x^2\\times x)$ ?\"\n",
    "\n",
    "- etc\n",
    "\n",
    "- jusqu'à - puissance_recursive_terminale(x,n-(n-1),$x^{n-1}$) ne répond pas, mais appelle puissance_recursive_terminale(x,0,$x^{n-1}$*x), donc demande : \"combien vaut $x^{0} \\times (x^{n-1}\\times x)$ ?\"\n",
    "\n",
    "- qui répond directement la valeur de $x^n$ sans avoir à dépiler la pile d'appels, car la variable intermédiare contient déjà le résultat voulu. "
   ]
  },
  {
   "cell_type": "markdown",
   "metadata": {},
   "source": [
    "### exercice:\n",
    "\n",
    "- Ecrire un programme itératif qui prend en entrée une fonction $f$, un entier $n$ et un élément $x$ et qui calcule $f^n(x) = f o f o f o ... o f(x) = f(f(f( ... f(x)... )))$ soit la composé n-ième de f évaluée en x.\n",
    "\n",
    "- Ecrire une version récursive de ce programme.\n",
    "\n",
    "- Ecrire une version récursive terminale de ce programme."
   ]
  }
 ],
 "metadata": {
  "kernelspec": {
   "display_name": "Python 3",
   "language": "python",
   "name": "python3"
  },
  "language_info": {
   "codemirror_mode": {
    "name": "ipython",
    "version": 3
   },
   "file_extension": ".py",
   "mimetype": "text/x-python",
   "name": "python",
   "nbconvert_exporter": "python",
   "pygments_lexer": "ipython3",
   "version": "3.7.3"
  }
 },
 "nbformat": 4,
 "nbformat_minor": 2
}
