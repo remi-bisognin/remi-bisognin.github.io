{
 "cells": [
  {
   "cell_type": "markdown",
   "metadata": {},
   "source": [
    "# Définition et premier exemple\n",
    "\n",
    "**Définition:**\n",
    "\n",
    "**Une fonction est dite récursive si elle s'appelle elle même.**"
   ]
  },
  {
   "cell_type": "markdown",
   "metadata": {},
   "source": [
    "**Exemple:**\n",
    "\n",
    "Les deux fonctions suivantes calculent la puissance $n$-ieme de $x$ en utilisant uniquement l'opération multiplication."
   ]
  },
  {
   "cell_type": "markdown",
   "metadata": {},
   "source": [
    "La première fonction utilise un algorithme \"habituel\" avec une méthode itérative basée sur une boucle for."
   ]
  },
  {
   "cell_type": "code",
   "execution_count": 1,
   "metadata": {},
   "outputs": [],
   "source": [
    "def puissance_iterative(x,n) :\n",
    "    resultat = 1\n",
    "    for i in range(n):\n",
    "        resultat = x*resultat\n",
    "    return resultat"
   ]
  },
  {
   "cell_type": "markdown",
   "metadata": {},
   "source": [
    "On peut alors tester cette fonction en calculant $2^8$"
   ]
  },
  {
   "cell_type": "code",
   "execution_count": 2,
   "metadata": {},
   "outputs": [
    {
     "name": "stdout",
     "output_type": "stream",
     "text": [
      "256\n"
     ]
    }
   ],
   "source": [
    "test_iteratif = puissance_iterative(2,8)\n",
    "print(test_iteratif)"
   ]
  },
  {
   "cell_type": "markdown",
   "metadata": {},
   "source": [
    "La deuxième fonction utilise un algorithme récursif qui s'appelle lui même."
   ]
  },
  {
   "cell_type": "code",
   "execution_count": 3,
   "metadata": {},
   "outputs": [],
   "source": [
    "def puissance_recursive(x,n) :\n",
    "    if n==0 :\n",
    "        resultat = 1\n",
    "        return resultat\n",
    "    else :\n",
    "        resultat = x*puissance_recursive(x,n-1)\n",
    "        return resultat"
   ]
  },
  {
   "cell_type": "code",
   "execution_count": 4,
   "metadata": {},
   "outputs": [
    {
     "name": "stdout",
     "output_type": "stream",
     "text": [
      "256\n"
     ]
    }
   ],
   "source": [
    "test_recursif = puissance_recursive(2,8)\n",
    "print(test_recursif)"
   ]
  },
  {
   "cell_type": "markdown",
   "metadata": {},
   "source": [
    "Les deux fonctions donnent le même résultat mais fonctionne différement.\n",
    "\n",
    "**Méthode itérative:**\n",
    "\n",
    "La fonction itérative réalise une boucle en calculant dans l'ordre :\n",
    "\n",
    "- 1 \n",
    "- puis $1 \\times 2 = 2$\n",
    "- puis $2 \\times 2=4$\n",
    "- puis $4 \\times 2 = 8$\n",
    "- puis ...\n",
    "\n",
    "Elle stocke la valeur du résultat dans un nombre à chaque tour de boucle, et retourne en fin de boucle le résultat final.\n",
    "\n",
    "**Méthode récursive:**\n",
    "\n",
    "La fonction récursive appelle les calculs dans l'ordre inverse :\n",
    "\n",
    "- si je connais le résultat de $2^7$ alors je dois calculer $2 \\times 2^7 = 2^8$\n",
    "- si je connais le résultat de $2^6$ alors je dois calculer $2 \\times 2^6 = 2^7$\n",
    "- si je connais le résultat de $2^5$ alors je dois calculer $2 \\times 2^5 = 2^6$\n",
    "- si ...\n",
    "- si je connais le résultat de $2^0$ alors je dois calculer $2 \\times 2^0 = 2^1$\n",
    "- je connais le résultat de $2^0$ c'est $1$\n",
    "- donc je peux calculer $2^1 = 2 \\times 2^0 = 2 \\times 1 = 2$\n",
    "- donc je peux calculer $2^2 = 2 \\times 2^1 = 2 \\times 2 = 4$\n",
    "- donc ...\n",
    "- donc je peux calculer $2^8 = 2 \\times 128 = 256$\n",
    "\n",
    "# Pile d'appel, critère d'arrêt et terminaison\n",
    "\n",
    "On reconnait une structure de pile dans l'appel récursif d'une fonction :\n",
    "\n",
    "- la pile d'appel est vide\n",
    "- j'empile : \"je dois calculer 2 $\\times$ puissance_recursive(2,7)\"\n",
    "- j'empile : \"je dois calculer 2 $\\times$ puissance_recursive(2,6)\"\n",
    "- j'empile : \"je dois calculer 2 $\\times$ puissance_recursive(2,5)\"\n",
    "- j'empile : ...\n",
    "- je connais puissance_recursive(2,0) = 1\n",
    "- je dépile l'appel suivant \"je dois calculer 2 $\\times$ puissance_recursive(2,0)\" et je calcule : puissance_recursive(2,1) = 2 $\\times$ 1 = 2\n",
    "- je dépile l'appel suivant \"je dois calculer 2 $\\times$ puissance_recursive(2,1)\" et je calcule : puissance_recursive(2,1) = 2 $\\times$ 1 = 2\n",
    "- je dépile : ...\n",
    "- je dépile l'appel suivant \"je dois calculer 2 $\\times$ puissance_recursive(2,7)\" et je calcule : puissance_recursive(2,8) = 2 $\\times$ 128 = 256\n",
    "- la pile d'appel est vide, j'ai finit le résultat est 256.\n",
    "\n",
    "Le critère qui nous informe quand on doit arrêter d'empiler de nouveaux appels et passer à dépiler c'est lorsque l'on rencontre ce que l'on appelle **le cas d'arrêt**, ici $2^0$, dont on connait la valeur à retourner, ici 1. Lors de l'écriture d'une fonction récursive il faut bien s'assurer que les appels successifs rencontrent le cas d'arrêt, ici l'exposant $k$ de $2^k$ diminue de 1 à chaque appel, pour assurer **la terminaison du programme**.\n",
    "\n",
    "Par exemple la fonction puissance_recursive($x$,$n$) écrite plus haut ne se termine jamais pour des valeurs de $n$ non entière ou négative, on dit que la terminaison du programme n'est pas assuré pour ces valeurs."
   ]
  },
  {
   "cell_type": "markdown",
   "metadata": {},
   "source": [
    "# Exercice d'application :\n",
    "\n",
    "Ecrire deux fonctions prenant en argument un entier positif $n$, qui retournent factorielle n ,$n!$. Une fonction utilisera une méthode itérative et l'autre une méthode récursive. Tester vos deux fonctions."
   ]
  },
  {
   "cell_type": "code",
   "execution_count": null,
   "metadata": {},
   "outputs": [],
   "source": []
  },
  {
   "cell_type": "code",
   "execution_count": null,
   "metadata": {},
   "outputs": [],
   "source": []
  },
  {
   "cell_type": "code",
   "execution_count": null,
   "metadata": {},
   "outputs": [],
   "source": []
  },
  {
   "cell_type": "code",
   "execution_count": null,
   "metadata": {},
   "outputs": [],
   "source": []
  },
  {
   "cell_type": "markdown",
   "metadata": {},
   "source": [
    "# Récursivité et récurrence\n",
    "\n",
    "On remarque qu'une fonction récursive est liée à la notion de suite définie par récurrence.\n",
    "\n",
    "Une suite définie par récurrence est une suite définie par son ou ses premiers termes et par une relation de récurrence, qui définie chaque terme à partir du ou des précédents.\n",
    "\n",
    "Par exemple la suite $(u_n)$ telle que :\n",
    "\n",
    "$u_0 = 2$\n",
    "\n",
    "et\n",
    "\n",
    "$u_n = \\dfrac{1}{2}\\left(u_{n-1}+\\dfrac{3}{u_{n-1}}\\right)$\n",
    "\n",
    "est définie par récurrence.\n",
    "\n",
    "Le premier terme correspond au cas d'arrêt, si n = 0 alors la valeur de $u_n$ est connue, c'est $u_0 = 2$.\n",
    "\n",
    "La relation de récurrence, correspond à l'appel de la fonction par elle même, $u_n$ est exprimée en fonction de $u_{n-1}$.\n",
    "\n",
    "Enfin à chaque relation de récurrence l'indice de la suite diminue de 1, on atteint donc bien le cas d'arrêt qui est $u_0 = 2$ après $n$ appel de la relation de récurrence, la terminaison du programme est assurée.\n",
    "\n",
    "**Exercice:**\n",
    "\n",
    "Ecrire une fonction récursive qui prend en argument un indice $n$ et retourne le terme de la série $u_n$. Testez votre fonction pour les premières valeurs de la suite et remarquez qu'elle converge rapidement vers $\\sqrt{3}$."
   ]
  },
  {
   "cell_type": "code",
   "execution_count": null,
   "metadata": {},
   "outputs": [],
   "source": []
  },
  {
   "cell_type": "code",
   "execution_count": null,
   "metadata": {},
   "outputs": [],
   "source": []
  },
  {
   "cell_type": "markdown",
   "metadata": {},
   "source": [
    "# Exercice: "
   ]
  },
  {
   "cell_type": "markdown",
   "metadata": {},
   "source": [
    "On définit la fonction suivante qui repère dans le plan complexe les affixes des quatres sommets d'un carré."
   ]
  },
  {
   "cell_type": "code",
   "execution_count": 5,
   "metadata": {},
   "outputs": [],
   "source": [
    "def carre(a, b):\n",
    "    return [a, b, b - 1j * (a - b), a + 1j * (b - a), a]"
   ]
  },
  {
   "cell_type": "markdown",
   "metadata": {},
   "source": [
    "On peut alors tracer un carré avec la librairie matplotlib en reliant les quatres coins du carré."
   ]
  },
  {
   "cell_type": "code",
   "execution_count": 7,
   "metadata": {},
   "outputs": [
    {
     "data": {
      "image/png": "[encoded data removed]",
      "text/plain": [
       "<Figure size 432x288 with 1 Axes>"
      ]
     },
     "metadata": {
      "needs_background": "light"
     },
     "output_type": "display_data"
    }
   ],
   "source": [
    "import matplotlib.pyplot as plt\n",
    "L = carre(1, 1 + 1j)\n",
    "plt.axis('equal')\n",
    "for a in L:\n",
    "    plt.plot([a.real for a in L], [a.imag for a in L], 'b', lw=2)\n",
    "plt.show()"
   ]
  },
  {
   "cell_type": "markdown",
   "metadata": {},
   "source": [
    "Écrire une fonction récursive qui permet d’obtenir la figure suivante"
   ]
  },
  {
   "cell_type": "code",
   "execution_count": 8,
   "metadata": {},
   "outputs": [],
   "source": []
  },
  {
   "cell_type": "code",
   "execution_count": 9,
   "metadata": {},
   "outputs": [
    {
     "data": {
      "image/png": "[encoded data removed]",
      "text/plain": [
       "<Figure size 432x288 with 1 Axes>"
      ]
     },
     "metadata": {
      "needs_background": "light"
     },
     "output_type": "display_data"
    }
   ],
   "source": []
  },
  {
   "cell_type": "markdown",
   "metadata": {},
   "source": [
    "À partir d’un segment $[a, b]$ où a et b sont complexes, on trace le segment $[a,\\dfrac{1}{4}(3a + b)]$ puis on recommence avec a $\\leftarrow$  a et b $\\leftarrow a + \\dfrac{1}{2}(b - a)e^i$ ; a $\\leftarrow$  a et b $\\leftarrow a+ \\dfrac{1}{2}(b - a)e^{ -i}$ et enfin a $\\leftarrow \\dfrac{1}{4}(3a+b)$ et b  $\\leftarrow$  b.\n",
    "\n",
    "Tracer la figure en partant de a = 0 et b = 2."
   ]
  },
  {
   "cell_type": "code",
   "execution_count": null,
   "metadata": {},
   "outputs": [],
   "source": []
  },
  {
   "cell_type": "code",
   "execution_count": null,
   "metadata": {},
   "outputs": [],
   "source": []
  }
 ],
 "metadata": {
  "kernelspec": {
   "display_name": "Python 3",
   "language": "python",
   "name": "python3"
  },
  "language_info": {
   "codemirror_mode": {
    "name": "ipython",
    "version": 3
   },
   "file_extension": ".py",
   "mimetype": "text/x-python",
   "name": "python",
   "nbconvert_exporter": "python",
   "pygments_lexer": "ipython3",
   "version": "3.7.3"
  }
 },
 "nbformat": 4,
 "nbformat_minor": 2
}
