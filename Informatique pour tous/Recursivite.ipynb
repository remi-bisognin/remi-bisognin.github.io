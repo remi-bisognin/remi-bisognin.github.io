{
 "cells": [
  {
   "cell_type": "markdown",
   "metadata": {},
   "source": [
    "# Définition et premier exemple\n",
    "\n",
    "**Définition:**\n",
    "\n",
    "**Une fonction est dite récursive si elle s'appelle elle même.**"
   ]
  },
  {
   "cell_type": "markdown",
   "metadata": {},
   "source": [
    "**Exemple:**\n",
    "\n",
    "Les deux fonctions suivantes calculent la puissance $n$-ieme de $x$ en utilisant uniquement l'opération multiplication."
   ]
  },
  {
   "cell_type": "markdown",
   "metadata": {},
   "source": [
    "La première fonction utilise un algorithme \"habituel\" avec une méthode itérative basée sur une boucle for."
   ]
  },
  {
   "cell_type": "code",
   "execution_count": 1,
   "metadata": {},
   "outputs": [],
   "source": [
    "def puissance_iterative(x,n) :\n",
    "    resultat = 1\n",
    "    for i in range(n):\n",
    "        resultat = x*resultat\n",
    "    return resultat"
   ]
  },
  {
   "cell_type": "markdown",
   "metadata": {},
   "source": [
    "On peut alors tester cette fonction en calculant $2^8$"
   ]
  },
  {
   "cell_type": "code",
   "execution_count": 2,
   "metadata": {},
   "outputs": [
    {
     "name": "stdout",
     "output_type": "stream",
     "text": [
      "256\n"
     ]
    }
   ],
   "source": [
    "test_iteratif = puissance_iterative(2,8)\n",
    "print(test_iteratif)"
   ]
  },
  {
   "cell_type": "markdown",
   "metadata": {},
   "source": [
    "La deuxième fonction utilise un algorithme récursif qui s'appelle lui même."
   ]
  },
  {
   "cell_type": "code",
   "execution_count": 3,
   "metadata": {},
   "outputs": [],
   "source": [
    "def puissance_recursive(x,n) :\n",
    "    if n==0 :\n",
    "        resultat = 1\n",
    "        return resultat\n",
    "    else :\n",
    "        resultat = x*puissance_recursive(x,n-1)\n",
    "        return resultat"
   ]
  },
  {
   "cell_type": "code",
   "execution_count": 4,
   "metadata": {},
   "outputs": [
    {
     "name": "stdout",
     "output_type": "stream",
     "text": [
      "256\n"
     ]
    }
   ],
   "source": [
    "test_recursif = puissance_recursive(2,8)\n",
    "print(test_recursif)"
   ]
  },
  {
   "cell_type": "markdown",
   "metadata": {},
   "source": [
    "Les deux fonctions donnent le même résultat mais fonctionne différement.\n",
    "\n",
    "**Méthode itérative:**\n",
    "\n",
    "La fonction itérative réalise une boucle en calculant dans l'ordre :\n",
    "\n",
    "- 1 \n",
    "- puis $1 \\times 2 = 2$\n",
    "- puis $2 \\times 2=4$\n",
    "- puis $4 \\times 2 = 8$\n",
    "- puis ...\n",
    "\n",
    "Elle stocke la valeur du résultat dans un nombre à chaque tour de boucle, et retourne en fin de boucle le résultat final.\n",
    "\n",
    "**Méthode récursive:**\n",
    "\n",
    "La fonction récursive appelle les calculs dans l'ordre inverse :\n",
    "\n",
    "- si je connais le résultat de $2^7$ alors je dois calculer $2 \\times 2^7 = 2^8$\n",
    "- si je connais le résultat de $2^6$ alors je dois calculer $2 \\times 2^6 = 2^7$\n",
    "- si je connais le résultat de $2^5$ alors je dois calculer $2 \\times 2^5 = 2^6$\n",
    "- si ...\n",
    "- si je connais le résultat de $2^0$ alors je dois calculer $2 \\times 2^0 = 2^1$\n",
    "- je connais le résultat de $2^0$ c'est $1$\n",
    "- donc je peux calculer $2^1 = 2 \\times 2^0 = 2 \\times 1 = 2$\n",
    "- donc je peux calculer $2^2 = 2 \\times 2^1 = 2 \\times 2 = 4$\n",
    "- donc ...\n",
    "- donc je peux calculer $2^8 = 2 \\times 128 = 256$\n",
    "\n",
    "# Pile d'appel, critère d'arrêt et terminaison\n",
    "\n",
    "On reconnait une structure de pile dans l'appel récursif d'une fonction :\n",
    "\n",
    "- la pile d'appel est vide\n",
    "- j'empile : \"je dois calculer 2 $\\times$ puissance_recursive(2,7)\"\n",
    "- j'empile : \"je dois calculer 2 $\\times$ puissance_recursive(2,6)\"\n",
    "- j'empile : \"je dois calculer 2 $\\times$ puissance_recursive(2,5)\"\n",
    "- j'empile : ...\n",
    "- je connais puissance_recursive(2,0) = 1\n",
    "- je dépile l'appel suivant \"je dois calculer 2 $\\times$ puissance_recursive(2,0)\" et je calcule : puissance_recursive(2,1) = 2 $\\times$ 1 = 2\n",
    "- je dépile l'appel suivant \"je dois calculer 2 $\\times$ puissance_recursive(2,1)\" et je calcule : puissance_recursive(2,1) = 2 $\\times$ 1 = 2\n",
    "- je dépile : ...\n",
    "- je dépile l'appel suivant \"je dois calculer 2 $\\times$ puissance_recursive(2,7)\" et je calcule : puissance_recursive(2,8) = 2 $\\times$ 128 = 256\n",
    "- la pile d'appel est vide, j'ai finit le résultat est 256.\n",
    "\n",
    "Le critère qui nous informe quand on doit arrêter d'empiler de nouveaux appels et passer à dépiler c'est lorsque l'on rencontre ce que l'on appelle **le cas d'arrêt**, ici $2^0$, dont on connait la valeur à retourner, ici 1. Lors de l'écriture d'une fonction récursive il faut bien s'assurer que les appels successifs rencontrent le cas d'arrêt, ici l'exposant $k$ de $2^k$ diminue de 1 à chaque appel, pour assurer **la terminaison du programme**.\n",
    "\n",
    "Par exemple la fonction puissance_recursive($x$,$n$) écrite plus haut ne se termine jamais pour des valeurs de $n$ non entière ou négative, on dit que la terminaison du programme n'est pas assuré pour ces valeurs."
   ]
  },
  {
   "cell_type": "markdown",
   "metadata": {},
   "source": [
    "# Exercice d'application :\n",
    "\n",
    "Ecrire deux fonctions prenant en argument un entier positif $n$, qui retournent factorielle n ,$n!$. Une fonction utilisera une méthode itérative et l'autre une méthode récursive. Tester vos deux fonctions."
   ]
  },
  {
   "cell_type": "code",
   "execution_count": null,
   "metadata": {},
   "outputs": [],
   "source": []
  },
  {
   "cell_type": "code",
   "execution_count": null,
   "metadata": {},
   "outputs": [],
   "source": []
  },
  {
   "cell_type": "code",
   "execution_count": null,
   "metadata": {},
   "outputs": [],
   "source": []
  },
  {
   "cell_type": "code",
   "execution_count": null,
   "metadata": {},
   "outputs": [],
   "source": []
  },
  {
   "cell_type": "markdown",
   "metadata": {},
   "source": [
    "# Récursivité et récurrence\n",
    "\n",
    "On remarque qu'une fonction récursive est liée à la notion de suite définie par récurrence.\n",
    "\n",
    "Une suite définie par récurrence est une suite définie par son ou ses premiers termes et par une relation de récurrence, qui définie chaque terme à partir du ou des précédents.\n",
    "\n",
    "Par exemple la suite $(u_n)$ telle que :\n",
    "\n",
    "$u_0 = 2$\n",
    "\n",
    "et\n",
    "\n",
    "$u_n = \\dfrac{1}{2}\\left(u_{n-1}+\\dfrac{3}{u_{n-1}}\\right)$\n",
    "\n",
    "est définie par récurrence.\n",
    "\n",
    "Le premier terme correspond au cas d'arrêt, si n = 0 alors la valeur de $u_n$ est connue, c'est $u_0 = 2$.\n",
    "\n",
    "La relation de récurrence, correspond à l'appel de la fonction par elle même, $u_n$ est exprimée en fonction de $u_{n-1}$.\n",
    "\n",
    "Enfin à chaque relation de récurrence l'indice de la suite diminue de 1, on atteint donc bien le cas d'arrêt qui est $u_0 = 2$ après $n$ appel de la relation de récurrence, la terminaison du programme est assurée.\n",
    "\n",
    "**Exercice:**\n",
    "\n",
    "Ecrire une fonction récursive qui prend en argument un indice $n$ et retourne le terme de la série $u_n$. Testez votre fonction pour les premières valeurs de la suite et remarquez qu'elle converge rapidement vers $\\sqrt{3}$."
   ]
  },
  {
   "cell_type": "code",
   "execution_count": null,
   "metadata": {},
   "outputs": [],
   "source": []
  },
  {
   "cell_type": "code",
   "execution_count": null,
   "metadata": {},
   "outputs": [],
   "source": []
  },
  {
   "cell_type": "markdown",
   "metadata": {},
   "source": [
    "# Exercice: "
   ]
  },
  {
   "cell_type": "markdown",
   "metadata": {},
   "source": [
    "On définit la fonction suivante qui repère dans le plan complexe les affixes des quatres sommets d'un carré."
   ]
  },
  {
   "cell_type": "code",
   "execution_count": 5,
   "metadata": {},
   "outputs": [],
   "source": [
    "def carre(a, b):\n",
    "    return [a, b, b - 1j * (a - b), a + 1j * (b - a), a]"
   ]
  },
  {
   "cell_type": "markdown",
   "metadata": {},
   "source": [
    "On peut alors tracer un carré avec la librairie matplotlib en reliant les quatres coins du carré."
   ]
  },
  {
   "cell_type": "code",
   "execution_count": 6,
   "metadata": {},
   "outputs": [
    {
     "data": {
      "text/plain": [
       "<Figure size 640x480 with 1 Axes>"
      ]
     },
     "metadata": {},
     "output_type": "display_data"
    }
   ],
   "source": [
    "import matplotlib.pyplot as plt\n",
    "L = carre(1, 1 + 1j)\n",
    "plt.axis('equal')\n",
    "for a in L:\n",
    "    plt.plot([a.real for a in L], [a.imag for a in L], 'b', lw=2)\n",
    "plt.show()"
   ]
  },
  {
   "cell_type": "markdown",
   "metadata": {},
   "source": [
    "Écrire une fonction récursive qui permet d’obtenir la figure suivante"
   ]
  },
  {
   "cell_type": "code",
   "execution_count": null,
   "metadata": {},
   "outputs": [],
   "source": []
  },
  {
   "cell_type": "code",
   "execution_count": null,
   "metadata": {},
   "outputs": [],
   "source": []
  },
  {
   "cell_type": "markdown",
   "metadata": {},
   "source": [
    "À partir d’un segment $[a, b]$ où a et b sont complexes, on trace le segment $[a,\\dfrac{1}{4}(3a + b)]$ puis on recommence avec a $\\leftarrow$  a et b $\\leftarrow a + \\dfrac{1}{2}(b - a)e^i$ ; a $\\leftarrow$  a et b $\\leftarrow a+ \\dfrac{1}{2}(b - a)e^{ -i}$ et enfin a $\\leftarrow \\dfrac{1}{4}(3a+b)$ et b  $\\leftarrow$  b.\n",
    "\n",
    "Tracer la figure en partant de a = 0 et b = 2."
   ]
  },
  {
   "cell_type": "code",
   "execution_count": null,
   "metadata": {},
   "outputs": [],
   "source": []
  },
  {
   "cell_type": "code",
   "execution_count": null,
   "metadata": {},
   "outputs": [],
   "source": []
  },
  {
   "cell_type": "markdown",
   "metadata": {},
   "source": [
    "# Rappels sur la complexité temporelle\n",
    "\n",
    "L'exécution d'un programme nécessite d'utiliser plus ou moins les capacités de votre ordinateur. Ceci ce quantifie avec deux facteurs principaux: le temps de calcul et la mémoire occupé lors de l'exécution. Pour être plus performant un programme doit demander le moins de ressource possible à l'ordinateur et donc avoir un temps de calcul court et une petite mémoire occupée.\n",
    "\n",
    "Pour quantifier les besoins nécessaire à l'éxécution d'un programme, on utilise la complexité. On parle de complexité temporelle lorsqu'il s'agit du temps de réponse, et de complexité spatiale pour l'espace mémoire. Ce paragraphe traitera de la complexité temporelle.\n",
    "\n",
    "Le temps exact en seconde que prend un programme à effectuer un programme dépend de nombreux facteurs techniques propores à chaque machine. On peut estimer l'influence de l'algorithme sur le temps en considérant que chaque opération élémentaire ( addition, multiplication, comparaison, ... ) représente une unité de coût sans préciser le temps en seconde pour chaque unité de coût. La complexité temporelle est le nombre total d'unité de coût pour l'exécution de cet algorithme.\n",
    "\n",
    "Enfin on étudie l'évolution de cette complexité en fonction de la taille des données à étudier. En effet l'algorithme ne fera pas le même nombre d'opération selon le problème à traiter par exemple le nombre d'élément d'une liste à trier ou la valeur du nombre à calculer. Lorsqu'on étudie la complexité on étudie donc un équivalent de l'unité de coût en fonction de la taille des données.\n",
    "\n",
    "Si C(n) est la complexité pour des données de taille n, alors on peut avoir comme résultat :\n",
    "- $C(n) = O(\\log(n))$, complexité logarithmique\n",
    "- $C(n) = O(n)$, complexité linéaire\n",
    "- $C(n) = O(n\\log(n))$, complexité quasi-linéaire\n",
    "- $C(n) = O(n^2)$, complexité quadratique\n",
    "- $C(n) = O(n^k)$, complexité polynomiale\n",
    "- $C(n) = O(\\exp(n))$, complexité exponentielle\n",
    "\n",
    "Reprenons le programme itératif calculant la puissance $n$-ième d'un nombre $x$"
   ]
  },
  {
   "cell_type": "code",
   "execution_count": 7,
   "metadata": {},
   "outputs": [],
   "source": [
    "def puissance_iterative(x,n) :\n",
    "    resultat = 1\n",
    "    for i in range(n):\n",
    "        resultat = x*resultat\n",
    "    return resultat"
   ]
  },
  {
   "cell_type": "markdown",
   "metadata": {},
   "source": [
    "Et calculons sa complexité en fonction de la puissance $n$\n",
    "\n",
    "Ce programme commence par affecter 1 à résultat donc on compte 1 unité de coût\n",
    "Ce programme fait une boucle $n$ fois donc on va multiplier par n le coût suivant:\n",
    "    dans la boucle le programme effectue une multiplication donc 1 unité de coût\n",
    "    \n",
    "La complexité du programme est donc $C(n) = 1 + n\\times 1 = O(n)$ c'est une complexité linéaire selon la puissance calculée.\n",
    "\n",
    "On peut vérifier ce résultat à l'aide du programme ci-dessous qui mesure 1000 fois le temps d'exécution de la fonction puissance_iterative pour les puissance de 2 entre 0 et 99."
   ]
  },
  {
   "cell_type": "code",
   "execution_count": 8,
   "metadata": {},
   "outputs": [
    {
     "name": "stderr",
     "output_type": "stream",
     "text": [
      "C:\\Users\\remib\\AppData\\Local\\Continuum\\anaconda3\\lib\\site-packages\\ipykernel_launcher.py:6: DeprecationWarning: time.clock has been deprecated in Python 3.3 and will be removed from Python 3.8: use time.perf_counter or time.process_time instead\n",
      "  \n",
      "C:\\Users\\remib\\AppData\\Local\\Continuum\\anaconda3\\lib\\site-packages\\ipykernel_launcher.py:8: DeprecationWarning: time.clock has been deprecated in Python 3.3 and will be removed from Python 3.8: use time.perf_counter or time.process_time instead\n",
      "  \n"
     ]
    },
    {
     "data": {
      "image/png": "[encoded data removed]",
      "text/plain": [
       "<Figure size 432x288 with 1 Axes>"
      ]
     },
     "metadata": {
      "needs_background": "light"
     },
     "output_type": "display_data"
    }
   ],
   "source": [
    "import time\n",
    "import matplotlib.pyplot as plt\n",
    "resultat = 100*[0]\n",
    "for j in range(1000):\n",
    "    for i in range(100):\n",
    "        depart = time.clock()\n",
    "        puissance_iterative(2,i)\n",
    "        arrive = time.clock()\n",
    "        resultat[i]=resultat[i]+arrive-depart\n",
    "    \n",
    "plt.plot(resultat,'.')\n",
    "plt.show()"
   ]
  },
  {
   "cell_type": "markdown",
   "metadata": {},
   "source": [
    "# La complexité temporelle dans le cas d'un programme récursif\n",
    "\n",
    "Avec un programme itératif nous avons pu estimer la complexité du programme à l'aide d'une expression explicite $C(n)$ est directement une fonction de $n$. En effet l'écriture d'un programme itératif explicite directement toutes les opérations effectuées.\n",
    "\n",
    "Ce n'est pas le cas pour un programme récursif où par définition le programme s'appelle lui même. A la lecture du code du programme on est seuleument capable d'exprimer la complexité pour une taille $n$ en fonction de la complexité pour une taille inférieure.\n",
    "\n",
    "Reprenons par exemple le programme récursif calculant aussi la puissance $n$-ième d'un nombre x."
   ]
  },
  {
   "cell_type": "code",
   "execution_count": 9,
   "metadata": {},
   "outputs": [],
   "source": [
    "def puissance_recursive(x,n) :\n",
    "    if n==0 :\n",
    "        resultat = 1\n",
    "        return resultat\n",
    "    else :\n",
    "        resultat = x*puissance_recursive(x,n-1)\n",
    "        return resultat"
   ]
  },
  {
   "cell_type": "markdown",
   "metadata": {},
   "source": [
    "Exprimons sa complexité en lisant la structure du programme.\n",
    "\n",
    "Si n = 0, alors on affecte 1 au résultat donc $C(0) = 1$\n",
    "\n",
    "Si n > 0, alors on éffectue toute les opérations pour calculer puissance_recursive(x,n-1) soit $C(n-1)$ et on ajoute une opération en multipliant par x le résultat.\n",
    "On en déduit $C(n) = C(n-1)+1$\n",
    "\n",
    "On obtient donc une relation de récurrence qui définit la complexité :\n",
    "\n",
    "$C(n) = C(n-1)+1$ et $C(0) = 1$\n",
    "\n",
    "Il s'agit d'une suite arithmétique que l'on peut résoudre avec $C(n) = n+1 = O(n)$\n",
    "On en déduit donc une complexité linéaire aussi.\n",
    "\n",
    "Et on peut vérifier ce résultat de la même façon que pour le programme itératif avec le programme suivant."
   ]
  },
  {
   "cell_type": "code",
   "execution_count": 10,
   "metadata": {},
   "outputs": [
    {
     "name": "stderr",
     "output_type": "stream",
     "text": [
      "C:\\Users\\remib\\AppData\\Local\\Continuum\\anaconda3\\lib\\site-packages\\ipykernel_launcher.py:6: DeprecationWarning: time.clock has been deprecated in Python 3.3 and will be removed from Python 3.8: use time.perf_counter or time.process_time instead\n",
      "  \n",
      "C:\\Users\\remib\\AppData\\Local\\Continuum\\anaconda3\\lib\\site-packages\\ipykernel_launcher.py:8: DeprecationWarning: time.clock has been deprecated in Python 3.3 and will be removed from Python 3.8: use time.perf_counter or time.process_time instead\n",
      "  \n"
     ]
    },
    {
     "data": {
      "image/png": "[encoded data removed]",
      "text/plain": [
       "<Figure size 432x288 with 1 Axes>"
      ]
     },
     "metadata": {
      "needs_background": "light"
     },
     "output_type": "display_data"
    }
   ],
   "source": [
    "import time\n",
    "import matplotlib.pyplot as plt\n",
    "resultat = 100*[0]\n",
    "for j in range(1000):\n",
    "    for i in range(100):\n",
    "        depart = time.clock()\n",
    "        puissance_recursive(2,i)\n",
    "        arrive = time.clock()\n",
    "        resultat[i]=resultat[i]+arrive-depart\n",
    "    \n",
    "plt.plot(resultat,'.')\n",
    "plt.show()"
   ]
  },
  {
   "cell_type": "markdown",
   "metadata": {},
   "source": [
    "Pour les deux programmes ci-dessus on obtient dans les deux cas une complexité linéaire, on dit que les deux programmes ont une complexité équivalente. Lorsque l'on veut améliorer un programme on utilise un programme ayant le même but avec une complexité inférieure. Prenons l'exemple de la fonction puissance_rapide(x, n) ci-dessous.\n",
    "\n",
    "Dans le programme ci-dessous x//y renvoi le quotient de la division euclidienne de n par 2, et x%y renvoi le reste de la division euclidienne de x par 2."
   ]
  },
  {
   "cell_type": "code",
   "execution_count": 11,
   "metadata": {},
   "outputs": [],
   "source": [
    "def puissance_rapide(x, n):\n",
    "    if n == 0:\n",
    "        return 1\n",
    "    else:\n",
    "        r = puissance_rapide(x, n // 2)\n",
    "        if n % 2 == 0:\n",
    "            return r * r\n",
    "        else:\n",
    "            return x * r * r"
   ]
  },
  {
   "cell_type": "markdown",
   "metadata": {},
   "source": [
    "Evaluons sa complexité en lisant le programme :\n",
    "\n",
    "si n=0, alors on affecte 1 au résultat donc $C(0) = 1$\n",
    "\n",
    "si n>0, alors on effectue le nombre d'opération pour calculer puissance_rapide(x, n/2) puis on effectue une multiplication, donc $C(n) = C(n/2) + 1$\n",
    "\n",
    "On a donc pour $C(n)$ la relation de récurrence $C(n) = C(n/2) + 1$ et $C(0) = 1$. Pour évaluer $C(n)$ on peut effectuer le changement de variable $n=2^k$ donc $C(2^k) = C(2^(k-1)) + 1$ et $C(2^0) = C(0)+1 = 2$. Il s'agit donc d'une suite arithmétique avec $k$ d'où $C(2^k) = k+2$ or $2^k = n$ d'où $k = \\log_2(n)$ et $C(n) = \\log_2(n)+2$.\n",
    "\n",
    "Il s'agit donc d'une complexité logarithmique et donc d'un programme plus performant que les précédents pour calculer la puissance n-ième de x. Dans certains cas un fonction récursive permet de diminuer la complexité temporelle de l'algorithme.\n",
    "Vérifions ce résultat à nouveau."
   ]
  },
  {
   "cell_type": "code",
   "execution_count": 12,
   "metadata": {},
   "outputs": [
    {
     "name": "stderr",
     "output_type": "stream",
     "text": [
      "C:\\Users\\remib\\AppData\\Local\\Continuum\\anaconda3\\lib\\site-packages\\ipykernel_launcher.py:6: DeprecationWarning: time.clock has been deprecated in Python 3.3 and will be removed from Python 3.8: use time.perf_counter or time.process_time instead\n",
      "  \n",
      "C:\\Users\\remib\\AppData\\Local\\Continuum\\anaconda3\\lib\\site-packages\\ipykernel_launcher.py:8: DeprecationWarning: time.clock has been deprecated in Python 3.3 and will be removed from Python 3.8: use time.perf_counter or time.process_time instead\n",
      "  \n"
     ]
    },
    {
     "data": {
      "image/png": "[encoded data removed]",
      "text/plain": [
       "<Figure size 432x288 with 1 Axes>"
      ]
     },
     "metadata": {
      "needs_background": "light"
     },
     "output_type": "display_data"
    }
   ],
   "source": [
    "import time\n",
    "import matplotlib.pyplot as plt\n",
    "resultat = 100*[0]\n",
    "for j in range(1000):\n",
    "    for i in range(100):\n",
    "        depart = time.clock()\n",
    "        puissance_rapide(2,i)\n",
    "        arrive = time.clock()\n",
    "        resultat[i]=resultat[i]+arrive-depart\n",
    "    \n",
    "plt.plot(resultat,'.')\n",
    "plt.show()"
   ]
  },
  {
   "cell_type": "markdown",
   "metadata": {},
   "source": [
    "On remarque que la complexité est sub-linéaire, pour s'assurer qu'il s'agit bien d'une complexité logarithmique traçons plutôt le temps d'éxecution en fonction de $\\log(n)$ avec :"
   ]
  },
  {
   "cell_type": "code",
   "execution_count": 13,
   "metadata": {},
   "outputs": [
    {
     "name": "stderr",
     "output_type": "stream",
     "text": [
      "C:\\Users\\remib\\AppData\\Local\\Continuum\\anaconda3\\lib\\site-packages\\ipykernel_launcher.py:6: DeprecationWarning: time.clock has been deprecated in Python 3.3 and will be removed from Python 3.8: use time.perf_counter or time.process_time instead\n",
      "  \n",
      "C:\\Users\\remib\\AppData\\Local\\Continuum\\anaconda3\\lib\\site-packages\\ipykernel_launcher.py:8: DeprecationWarning: time.clock has been deprecated in Python 3.3 and will be removed from Python 3.8: use time.perf_counter or time.process_time instead\n",
      "  \n"
     ]
    },
    {
     "data": {
      "image/png": "[encoded data removed]",
      "text/plain": [
       "<Figure size 432x288 with 1 Axes>"
      ]
     },
     "metadata": {
      "needs_background": "light"
     },
     "output_type": "display_data"
    }
   ],
   "source": [
    "import time\n",
    "import matplotlib.pyplot as plt\n",
    "resultat = 100*[0]\n",
    "for j in range(1000):\n",
    "    for i in range(100):\n",
    "        depart = time.clock()\n",
    "        puissance_rapide(2,i)\n",
    "        arrive = time.clock()\n",
    "        resultat[i]=resultat[i]+arrive-depart\n",
    "        \n",
    "plt.semilogx(resultat,'.')\n",
    "plt.show()"
   ]
  },
  {
   "cell_type": "markdown",
   "metadata": {},
   "source": [
    "## Exercice\n",
    "\n",
    "En reprenant les programmes ci-dessous évaluer leur complexité temporelle et vérifier votre résultat.\n",
    "\n",
    "### le calcul de factorielle itératif"
   ]
  },
  {
   "cell_type": "code",
   "execution_count": 14,
   "metadata": {},
   "outputs": [],
   "source": [
    "def factorielle_classique(n):\n",
    "    resultat = 1\n",
    "    for i in range(n):\n",
    "        resultat = (i+1)*resultat\n",
    "    return resultat"
   ]
  },
  {
   "cell_type": "code",
   "execution_count": null,
   "metadata": {},
   "outputs": [],
   "source": []
  },
  {
   "cell_type": "markdown",
   "metadata": {},
   "source": [
    "### le calcul de factorielle récursif"
   ]
  },
  {
   "cell_type": "code",
   "execution_count": 15,
   "metadata": {},
   "outputs": [],
   "source": [
    "def factorielle_recursive(n):\n",
    "    if n==1:\n",
    "        return 1\n",
    "    else :\n",
    "        resultat = n*factorielle_recursive(n-1)\n",
    "        return resultat"
   ]
  },
  {
   "cell_type": "code",
   "execution_count": null,
   "metadata": {},
   "outputs": [],
   "source": []
  },
  {
   "cell_type": "markdown",
   "metadata": {},
   "source": [
    "Que pouvez-vous conclure sur l'intérêt d'utiliser une fonction récursive par rapport à une fonction itérative pour évaluer la fonction factorielle ?\n",
    "\n",
    "### la suite définie par récurrence"
   ]
  },
  {
   "cell_type": "code",
   "execution_count": 16,
   "metadata": {},
   "outputs": [],
   "source": [
    "def u(n):\n",
    "    if n == 0:\n",
    "        return 2.\n",
    "    else:\n",
    "        return 0.5 * (u(n-1) + 3. / u(n-1))"
   ]
  },
  {
   "cell_type": "code",
   "execution_count": null,
   "metadata": {},
   "outputs": [],
   "source": []
  },
  {
   "cell_type": "markdown",
   "metadata": {},
   "source": [
    "si on compare au même programme mais écrit légèrement différement suivant"
   ]
  },
  {
   "cell_type": "code",
   "execution_count": 17,
   "metadata": {},
   "outputs": [],
   "source": [
    "def u(n):\n",
    "    if n == 0:\n",
    "        return 2.\n",
    "    else:\n",
    "        intermediaire = u(n-1)\n",
    "        return 0.5 * (intermediaire + 3. / intermediaire)"
   ]
  },
  {
   "cell_type": "code",
   "execution_count": null,
   "metadata": {},
   "outputs": [],
   "source": []
  },
  {
   "cell_type": "markdown",
   "metadata": {},
   "source": [
    "On en déduit que la récursivité permet d'écrire naturellement les relations de récurrence, mais qu'il faut faire attention à la complexité.\n",
    "\n",
    "## Exercice\n",
    "\n",
    "Soit l une liste triée par ordre croissant et x un élément à chercher dans cette liste.\n",
    "\n",
    "Ecrire un programme récursif qui prend en argument la liste triée l et l'élément à rechercher x et qui renvoie True si x est dans l, et False si x n'est pas dans l. On utilisera une méthode de recherche par dichotomie.\n",
    "\n",
    "Puis évaluer et vérifier sa complexité."
   ]
  },
  {
   "cell_type": "code",
   "execution_count": null,
   "metadata": {},
   "outputs": [],
   "source": []
  },
  {
   "cell_type": "markdown",
   "metadata": {},
   "source": [
    "## Exercice\n",
    "\n",
    "On considère la suite de Fibonacci définie par :\n",
    "\n",
    "$F_0 = 0$\n",
    "\n",
    "$F_1 = 1$\n",
    "\n",
    "$F_n = F_{n-1}+F_{n-2}$\n",
    "\n",
    "Écrire une fonction récursive basée sur ces relations qui prend n en argument et renvoie $F_n$.\n",
    "\n",
    "Quelle est sa complexité ?\n",
    "\n",
    "Accélérer le calcul de $F_n$ en écrivant plutôt une fonction récursive auxiliaire qui prend en arguments $F_{n−1}$,\n",
    "$F_n$ et $k > 0$ et renvoie $F_{n+k}$ (on pourra poser $F_{-1} = 1$).\n",
    "\n",
    "Quelle est la nouvelle complexité ?"
   ]
  },
  {
   "cell_type": "code",
   "execution_count": null,
   "metadata": {},
   "outputs": [],
   "source": []
  },
  {
   "cell_type": "markdown",
   "metadata": {},
   "source": [
    "# Complexité spatiale\n",
    "\n",
    "La complexité spatiale est analogue à la complexité temporelle, sauf qu'on évalue l'espace mémoire nécessaire à l'exécution de la fonction en fonction de la taille des données.\n",
    "\n",
    "Prenons l'exemple de la fonction itérative de calcul de la puissance n-ième de x"
   ]
  },
  {
   "cell_type": "code",
   "execution_count": 18,
   "metadata": {},
   "outputs": [],
   "source": [
    "def puissance_iterative(x,n) :\n",
    "    resultat = 1\n",
    "    for i in range(n):\n",
    "        resultat = x*resultat\n",
    "    return resultat"
   ]
  },
  {
   "cell_type": "markdown",
   "metadata": {},
   "source": [
    "Ce programme exécute une boucle de 0 à n-1 et affecte la nouvelle valeur de resultat. L'espace mémoire utilisé est juste 1 nombre stocké dans la variable resultat. On obtient donc une complexité spatiale C(n) = O(1), elle est indépendante de $n$. \n",
    "\n",
    "Prenons maintenant l'exemple de la fonction récursive"
   ]
  },
  {
   "cell_type": "code",
   "execution_count": 19,
   "metadata": {},
   "outputs": [],
   "source": [
    "def puissance_recursive(x,n) :\n",
    "    if n==0 :\n",
    "        resultat = 1\n",
    "        return resultat\n",
    "    else :\n",
    "        resultat = x*puissance_recursive(x,n-1)\n",
    "        return resultat"
   ]
  },
  {
   "cell_type": "markdown",
   "metadata": {},
   "source": [
    "Cette fois-ci un appel de la fonction puissance_recursive consiste à stocker une valeur de résultat. Pour un appel de la fonction, on a donc une complexité spatiale de O(1). Mais n appels récursifs sont stockés dans la pile d'appels lors de l'exécution de la fonction, en effet puissance(x,n) demande d'appeler puissance(x,n-1) puis puissance(x,n-2) puis ... jusqu'au critère d'arrêt puissance(x,0). Donc la complexité spatiale totale est de $C(n) = n\\times O(1) = O(n)$, elle est linéaire.\n",
    "\n",
    "Enfin pour la fonction récursive accélérée"
   ]
  },
  {
   "cell_type": "code",
   "execution_count": 20,
   "metadata": {},
   "outputs": [],
   "source": [
    "def puissance_rapide(x, n):\n",
    "    if n == 0:\n",
    "        return 1\n",
    "    else:\n",
    "        r = puissance_rapide(x, n // 2)\n",
    "        if n % 2 == 0:\n",
    "            return r * r\n",
    "        else:\n",
    "            return x * r * r"
   ]
  },
  {
   "cell_type": "markdown",
   "metadata": {},
   "source": [
    "Encore une fois on stocke un nombre r pour un appel donc la complexité d'un appel est $O(1)$. Pour calculer le nombre d'appels on introduit k tel que $n = 2^k$ et on fait réalise les appels suivant puissance_rapide(x, $n = 2^k$ ), puis puissance_rapide(x, $n/2 = 2^{k-1}$ ),  puis puissance_rapide(x, $n/4 = 2^{k-2}$ ), ... Donc on effectue $k = log_2(n)$ appels. La complexité spatiale de la fonction est donc $C(n) = log_2(n)\\times O(1) = O(\\ln n )$, elle est logarithmique.\n",
    "\n",
    "### exercice:\n",
    "\n",
    "Calculer la complexité spatiale du programme récursif suivant:"
   ]
  },
  {
   "cell_type": "code",
   "execution_count": 21,
   "metadata": {},
   "outputs": [],
   "source": [
    "def u(n):\n",
    "    if n == 0:\n",
    "        return 2.\n",
    "    else:\n",
    "        return 0.5 * (u(n-1) + 3. / u(n-1))"
   ]
  },
  {
   "cell_type": "markdown",
   "metadata": {},
   "source": [
    "### exercice\n",
    "\n",
    "Soit l une liste triée par ordre croissant et x un élément à chercher dans cette liste.\n",
    "\n",
    "Reprendre le programme récursif qui prend en argument la liste triée l et l'élément à rechercher x et qui renvoie True si x est dans l, et False si x n'est pas dans l. On utilisera une méthode de recherche par dichotomie.\n",
    "\n",
    "Puis calculer sa complexité spatiale.\n",
    "\n",
    "# Comparaison entre itératif et récursif\n",
    "\n",
    "À travers les différents exemples rencontrés, on remarque que les programmes récursifs présentent l'avantage d'avoir une écriture plus concise que les programmes itératifs, car on n'a pas besoin d'utiliser de boucle.\n",
    "\n",
    "On remarque également que dans un contexte où une relation de récurrence existe pour résoudre le problème, le programme récursif est plus simple à écrire que le programme itératif.\n",
    "\n",
    "Par exemple écrire un programme itératif qui calcule les termes de la suite $(u_n)$ telle que :\n",
    "\n",
    "$u_0 = 2$\n",
    "\n",
    "et\n",
    "\n",
    "$u_n = \\dfrac{1}{2}\\left(u_{n-1}+\\dfrac{3}{u_{n-1}}\\right)$\n",
    "\n",
    "est plus compliqué que d'utiliser un programme récursif.\n",
    "\n",
    "Mais lors de l'écriture d'un programme récursif, il faut faire attention à la complexité.\n",
    "\n",
    "La complexité temporelle du programme si on ne fait pas attention peut être élevée, par exemple elle peut être exponentielle selon l'écriture du programme qui calcule la suite $(u_n)$. Certains cas particulier comme puissance_rapide où on divise la taille de l'argument en 2 à chaque appel peuvent présenter une complexité récursive inférieure à l'itérative correspondante.\n",
    "\n",
    "La complexité spatiale est minimale pour un programme itératif, un programme récursif utilisera toujours plus d'espace mémoire que le programme itératif correspondant.\n",
    "\n",
    "# Terminaison\n",
    "\n",
    "Lors de l'écriture d'un programme récursif, il faut faire attention à ce que le programme s'arrête un jour.\n",
    "\n",
    "Prenons l'exemple de calcul de puissance :\n",
    "\n"
   ]
  },
  {
   "cell_type": "code",
   "execution_count": 22,
   "metadata": {},
   "outputs": [],
   "source": [
    "def puissance_rapide(x, n):\n",
    "    if n == 0:\n",
    "        return 1\n",
    "    else:\n",
    "        r = puissance_rapide(x, n // 2)\n",
    "        if n % 2 == 0:\n",
    "            return r * r\n",
    "        else:\n",
    "            return x * r * r"
   ]
  },
  {
   "cell_type": "markdown",
   "metadata": {},
   "source": [
    "Identifiez la touche qui vous permet d'interrompre l'exécution de votre programme manuellement et testez ce programme pour des puissances non entières ou des puissances négatives.\n",
    "\n",
    "Que ce passe-t-il, et pourquoi ?\n",
    "\n",
    "Il faut s'assurer lors de l'écriture d'un programme récursif qu'il possède un cas d'arrêt et que ce cas d'arrêt est atteint.\n",
    "\n",
    "De manière plus formelle, la terminaison est assurée lorsque l'on peut identifier dans le programme un entier positif qui décroît à chaque appel récursif et qui prend une valeur définissant un cas d'arrêt.\n",
    "\n",
    "# Récursivité terminale\n",
    "\n",
    "Il s'agit d'un type de programme récursif particulier qui ont pour objectif d'être plus rapide lors de l'exécution de la pile d'appels récursifs.\n",
    "\n",
    "Les programmes récursifs écrits utilisent en général l'appel récursif dans une opération ou comme argument d'une fonction. Par exemple dans le programme suivant l'appel récursif intervient dans une multiplication"
   ]
  },
  {
   "cell_type": "code",
   "execution_count": 23,
   "metadata": {},
   "outputs": [],
   "source": [
    "def puissance_recursive(x,n) :\n",
    "    if n==0 :\n",
    "        resultat = 1\n",
    "        return resultat\n",
    "    else :\n",
    "        resultat = x*puissance_recursive(x,n-1)\n",
    "        return resultat"
   ]
  },
  {
   "cell_type": "markdown",
   "metadata": {},
   "source": [
    "Une version récursive terminale de ce programme ne fait pas intervenir l'appel récursif dans aucune opération ni comme argument de fonction, ce qui donnerait :"
   ]
  },
  {
   "cell_type": "code",
   "execution_count": 24,
   "metadata": {},
   "outputs": [],
   "source": [
    "def puissance_recursive(x,n) :\n",
    "    def puissance_recursive_terminale(x,k,intermediaire) :\n",
    "        if k == 0 :\n",
    "            return intermediaire\n",
    "        else :\n",
    "            return puissance_recursive_terminale(x,k-1,intermediaire*x)\n",
    "    return puissance_recursive_terminale(x,n,1)"
   ]
  },
  {
   "cell_type": "markdown",
   "metadata": {},
   "source": [
    "On remarque dans ce programme que puissance_recursive_terminale n'est appelé que dans les return. Les valeurs renvoyées par l'appel récursif ne sont pas utilisées dans des opérations ou en argument d'autre fonction.\n",
    "\n",
    "L'opération de récurrence est cette fois-ci effectuée en argument de la fonction récursive et non l'inverse.\n",
    "\n",
    "Si on détaille l'ordre des appels récursifs de la version terminale on a :\n",
    "\n",
    "- puissance_récursive appelle puissance_recursive_terminale(x,n,1) donc demande : \"combien vaut $x^n \\times 1$ ?\"\n",
    "\n",
    "- puissance_recursive_terminale(x,n,1) ne répond pas mais appelle puissance_recursive_terminale(x,n-1,1*x), donc demande : \"combien vaut $x^{n-1} \\times (1\\times x)$ ?\"\n",
    "\n",
    "- puissance_recursive_terminale(x,n-1,x) ne répond pas mais appelle puissance_recursive_terminale(x,n-2,x*x), donc demande : \"combien vaut $x^{n-2} \\times (x\\times x)$ ?\"\n",
    "\n",
    "- puissance_recursive_terminale(x,n-2,$x^2$) ne répond pas mais appelle puissance_recursive_terminale(x,n-3,$x^2$*x), donc demande : \"combien vaut $x^{n-3} \\times (x^2\\times x)$ ?\"\n",
    "\n",
    "- etc\n",
    "\n",
    "- jusqu'à - puissance_recursive_terminale(x,n-(n-1),$x^{n-1}$) ne répond pas, mais appelle puissance_recursive_terminale(x,0,$x^{n-1}$*x), donc demande : \"combien vaut $x^{0} \\times (x^{n-1}\\times x)$ ?\"\n",
    "\n",
    "- qui répond directement la valeur de $x^n$ sans avoir à dépiler la pile d'appels, car la variable intermédiare contient déjà le résultat voulu. \n",
    "\n",
    "### exercice:\n",
    "\n",
    "- Ecrire un programme itératif qui prend en entrée une fonction $f$, un entier $n$ et un élément $x$ et qui calcule $f^n(x) = f o f o f o ... o f(x) = f(f(f( ... f(x)... )))$ soit la composé n-ième de f évaluée en x.\n",
    "\n",
    "- Ecrire une version récursive de ce programme.\n",
    "\n",
    "- Ecrire une version récursive terminale de ce programme."
   ]
  },
  {
   "cell_type": "code",
   "execution_count": null,
   "metadata": {},
   "outputs": [],
   "source": []
  }
 ],
 "metadata": {
  "kernelspec": {
   "display_name": "Python 3",
   "language": "python",
   "name": "python3"
  },
  "language_info": {
   "codemirror_mode": {
    "name": "ipython",
    "version": 3
   },
   "file_extension": ".py",
   "mimetype": "text/x-python",
   "name": "python",
   "nbconvert_exporter": "python",
   "pygments_lexer": "ipython3",
   "version": "3.7.3"
  }
 },
 "nbformat": 4,
 "nbformat_minor": 2
}
