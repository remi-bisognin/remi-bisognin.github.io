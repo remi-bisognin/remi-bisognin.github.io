{
 "cells": [
  {
   "cell_type": "markdown",
   "metadata": {},
   "source": [
    "# Comparaison des tris\n",
    "\n",
    "On a vu trois principaux méthodes de tri: insertion, fusion, rapide. Ces trois tris effectuent la même tache à savoir trier les éléments d'une liste par ordre croissant.\n",
    "\n",
    "On peut donc les comparer via leur complexité. L'algorithme le plus performant étant l'algorithme ayant la meilleure complexité. Faisons un tableau listant les complexités déterminées précédemment :\n",
    "\n",
    "\n",
    "<table>\n",
    "    <tr>\n",
    "        <td>\n",
    "algorithme\n",
    "            \n",
    "meilleur des cas\n",
    "\n",
    "pire des cas\n",
    "        </td>\n",
    "        <td>\n",
    "tri par insertion\n",
    "    \n",
    "O(n)\n",
    "\n",
    "O(n$^2$)\n",
    "        </td>\n",
    "        <td>\n",
    "tri par fusion\n",
    "    \n",
    "O(n$\\log n$)\n",
    "\n",
    "O(n$\\log n$)\n",
    "        </td>\n",
    "        <td>\n",
    "tri rapide\n",
    "    \n",
    "O(n$\\log n$)\n",
    "\n",
    "O(n$^2$)\n",
    "        </td>\n",
    "    </tr>\n",
    "</table>\n",
    "\n",
    "On remarque qu'il n'est pas facile de conclure, sur la base des complexités dans le meilleur et le pire des cas. En effet dans le meilleur des cas c'est le tri par insertion qui a une complexité linaire inférieure aux deux autres. Dans le pire des cas c'est le tri fusion qui a une complexité quasi-linéaire et inférieure aux deux autres.\n",
    "\n",
    "Il nous faut plutôt la complexité moyenne des algorithmes lorsqu'on tire au hasard des listes à trier. Nous n'avons pas à notre disposition d'outil de probabilité pour calculer la complexité moyenne, mais nous pouvons l'obtenir par simulation numérique."
   ]
  },
  {
   "cell_type": "code",
   "execution_count": 1,
   "metadata": {},
   "outputs": [],
   "source": [
    "def echange(L, i, j):\n",
    "    L[i], L[j] = L[j], L[i]\n",
    "    \n",
    "def insertion(L, i):\n",
    "    j = i\n",
    "    while j > 0 and L[j] < L[j - 1]:\n",
    "        echange(L, j - 1, j)\n",
    "        j -= 1\n",
    "        \n",
    "def tri_insertion(L):\n",
    "    L_prime = []\n",
    "    L_prime.append(L[0])\n",
    "    for i in range(1, len(L)):\n",
    "        L_prime.append(L[i])\n",
    "        insertion(L_prime, i)\n",
    "    return L_prime\n",
    "\n",
    "\n",
    "def diviser(L):\n",
    "    n = len(L)\n",
    "    milieu = n//2\n",
    "    return L[:milieu], L[milieu:]\n",
    "\n",
    "def fusion(L_1,L_2) :\n",
    "    i=0\n",
    "    j=0\n",
    "    L = []\n",
    "    while (i<len(L_1))and(j<len(L_2)):\n",
    "        if L_1[i]<L_2[j] :\n",
    "            L.append(L_1[i])\n",
    "            i += 1\n",
    "        else :\n",
    "            L.append(L_2[j])\n",
    "            j +=1\n",
    "    if i == len(L_1) :\n",
    "        L += L_2[j:]\n",
    "    elif j == len(L_2) :\n",
    "        L += L_1[i:]\n",
    "    return L\n",
    "\n",
    "def tri_fusion(L):\n",
    "    if len(L) == 1:\n",
    "        return L\n",
    "    else:\n",
    "        L_1,L_2 = diviser(L)\n",
    "        L_1 = tri_fusion(L_1)\n",
    "        L_2 = tri_fusion(L_2)\n",
    "        return fusion(L_1,L_2)\n",
    "    \n",
    "def positionnement_pivot(L,debut,fin):\n",
    "    p = L[debut]\n",
    "    j = debut\n",
    "    for i in range(debut,fin):\n",
    "        if p > L[i] :\n",
    "            L = L[:j]+[L[i]]+L[j:i]+L[i+1:]\n",
    "            j +=1\n",
    "            \n",
    "    return j,L\n",
    "\n",
    "def tri_rapide_rec(L,debut,fin):\n",
    "    if debut+1>=fin :\n",
    "        return L\n",
    "    else :\n",
    "        j,L = positionnement_pivot(L,debut,fin)\n",
    "        debut_1 = debut\n",
    "        fin_1 = j\n",
    "        L = tri_rapide_rec(L,debut_1,fin_1)\n",
    "        debut_2 = j+1\n",
    "        fin_2 = fin\n",
    "        L = tri_rapide_rec(L,debut_2,fin_2)\n",
    "        return L\n",
    "    \n",
    "def tri_rapide(L) :\n",
    "    L = tri_rapide_rec(L,0,len(L))\n",
    "    return L"
   ]
  },
  {
   "cell_type": "code",
   "execution_count": 11,
   "metadata": {},
   "outputs": [
    {
     "name": "stderr",
     "output_type": "stream",
     "text": [
      "C:\\Users\\remib\\AppData\\Local\\Continuum\\anaconda3\\lib\\site-packages\\ipykernel_launcher.py:16: DeprecationWarning: time.clock has been deprecated in Python 3.3 and will be removed from Python 3.8: use time.perf_counter or time.process_time instead\n",
      "  app.launch_new_instance()\n",
      "C:\\Users\\remib\\AppData\\Local\\Continuum\\anaconda3\\lib\\site-packages\\ipykernel_launcher.py:18: DeprecationWarning: time.clock has been deprecated in Python 3.3 and will be removed from Python 3.8: use time.perf_counter or time.process_time instead\n"
     ]
    },
    {
     "data": {
      "image/png": "[encoded data removed]",
      "text/plain": [
       "<Figure size 432x288 with 1 Axes>"
      ]
     },
     "metadata": {
      "needs_background": "light"
     },
     "output_type": "display_data"
    }
   ],
   "source": [
    "import time\n",
    "import matplotlib.pyplot as plt\n",
    "import numpy as np\n",
    "import random as rd\n",
    "\n",
    "def complexite_moyenne(n_min,n_max,pas,nbre_moyenne,algorithme):\n",
    "    duree = []\n",
    "    taille = []\n",
    "    i = 0\n",
    "    for n in range(n_min,n_max,pas):\n",
    "        taille.append(n)\n",
    "        duree.append(0)\n",
    "        L=list(range(n))\n",
    "        for m in range(nbre_moyenne):\n",
    "            rd.shuffle(L)\n",
    "            depart = time.clock()\n",
    "            algorithme(L)\n",
    "            arrive = time.clock()\n",
    "            duree[i]=duree[i]+arrive-depart\n",
    "        i += 1\n",
    "    return taille, duree\n",
    "   \n",
    "n_min,n_max,pas,nbre_moyenne = 10,1000,10,10\n",
    "    \n",
    "taille_insertion, duree_insertion = complexite_moyenne(n_min,n_max,pas,nbre_moyenne,tri_insertion)\n",
    "taille_fusion, duree_fusion = complexite_moyenne(n_min,n_max,pas,nbre_moyenne,tri_fusion)\n",
    "taille_rapide, duree_rapide = complexite_moyenne(n_min,n_max,pas,nbre_moyenne,tri_rapide)\n",
    "\n",
    "plt.loglog(taille_insertion,duree_insertion,'-')\n",
    "plt.loglog(taille_fusion,duree_fusion,'-')\n",
    "plt.loglog(taille_rapide,duree_rapide,'-')\n",
    "plt.xlabel('taille de la liste à trier')\n",
    "plt.ylabel(\"temps d'exécution de l'algorithme\")\n",
    "plt.legend(('tri par insertion','tri par fusion','tri rapide'), loc='upper left')\n",
    "\n",
    "plt.show()"
   ]
  },
  {
   "cell_type": "markdown",
   "metadata": {},
   "source": [
    "On peut alors déterminer selon la taille de la liste quel est l'algorithme le plus performant en moyenne."
   ]
  },
  {
   "cell_type": "markdown",
   "metadata": {},
   "source": [
    "# Recherche de la médiane\n",
    "\n",
    "## Premières méthodes\n",
    "\n",
    "Une application du tri d'une liste est la recherche de la médiane de ses éléments.\n",
    "\n",
    "Une première méthode directe serait de prendre après avoir trié la liste l'élément au centre de la liste. En effet on aura alors autant d'élément supérieur que inférieur à celui placé au centre, c'est la définition de la médiane.\n",
    "\n",
    "Un premier exemple simple d'algorithme de recherche de la médiane serait donc le suivant."
   ]
  },
  {
   "cell_type": "code",
   "execution_count": 3,
   "metadata": {},
   "outputs": [],
   "source": [
    "def mediane_rapide(L):\n",
    "    L = tri_rapide(L)\n",
    "    return L[len(L)//2]"
   ]
  },
  {
   "cell_type": "markdown",
   "metadata": {},
   "source": [
    "on peut l'essayer sur plusieurs listes exemples"
   ]
  },
  {
   "cell_type": "code",
   "execution_count": 4,
   "metadata": {},
   "outputs": [
    {
     "data": {
      "text/plain": [
       "4"
      ]
     },
     "execution_count": 4,
     "metadata": {},
     "output_type": "execute_result"
    }
   ],
   "source": [
    "L = [14, 1, 4, 3]\n",
    "mediane_rapide(L)"
   ]
  },
  {
   "cell_type": "code",
   "execution_count": 5,
   "metadata": {},
   "outputs": [
    {
     "data": {
      "text/plain": [
       "9"
      ]
     },
     "execution_count": 5,
     "metadata": {},
     "output_type": "execute_result"
    }
   ],
   "source": [
    "L = [15,4,2,9,55,16,0,1]\n",
    "mediane_rapide(L)"
   ]
  },
  {
   "cell_type": "markdown",
   "metadata": {},
   "source": [
    "on peut aussi utiliser les autres méthodes de tri à savoir par insertion et par fusion"
   ]
  },
  {
   "cell_type": "code",
   "execution_count": 6,
   "metadata": {},
   "outputs": [
    {
     "name": "stdout",
     "output_type": "stream",
     "text": [
      "4 9\n"
     ]
    }
   ],
   "source": [
    "def mediane_insertion(L):\n",
    "    L = tri_insertion(L)\n",
    "    return L[len(L)//2]\n",
    "\n",
    "print(mediane_insertion([14, 1, 4, 3]), mediane_insertion([15,4,2,9,55,16,0,1]))"
   ]
  },
  {
   "cell_type": "code",
   "execution_count": 7,
   "metadata": {},
   "outputs": [
    {
     "name": "stdout",
     "output_type": "stream",
     "text": [
      "4 9\n"
     ]
    }
   ],
   "source": [
    "def mediane_fusion(L):\n",
    "    L = tri_fusion(L)\n",
    "    return L[len(L)//2]\n",
    "\n",
    "print(mediane_fusion([14, 1, 4, 3]), mediane_fusion([15,4,2,9,55,16,0,1]))"
   ]
  },
  {
   "cell_type": "markdown",
   "metadata": {},
   "source": [
    "On peut aussi profiter de la structure du tri en pivot pour accélérer la recherche de la médiane. En effet on a juste besoin de trouver l'élément au centre de la liste triée. Il n'est alors pas nécessaire de trier la liste en totalité.\n",
    "\n",
    "On peut donc mofifier le tri rapide pour qu'il cherche plus rapidement la médiane.\n",
    "\n",
    "Un exemple de modification est la suivante :\n",
    "- on prend à nouveau un élément pivot,\n",
    "- on le positionne correctement dans la liste,\n",
    "- si le pivot se trouve au centre de la liste on s'arrête,\n",
    "- sinon on re-applique la même procédure pour la liste qui contient l'élément au centre de la liste.\n",
    "\n",
    "Il s'agira à nouveau d'un algorithme récursif mais avec uniquement un appel récursif dans la fonction."
   ]
  },
  {
   "cell_type": "code",
   "execution_count": 8,
   "metadata": {},
   "outputs": [],
   "source": [
    "def positionnement_pivot(L,debut,fin):\n",
    "    p = L[debut]\n",
    "    j = debut\n",
    "    for i in range(debut,fin):\n",
    "        if p > L[i] :\n",
    "            L = L[:j]+[L[i]]+L[j:i]+L[i+1:]\n",
    "            j +=1\n",
    "            \n",
    "    return j,L\n",
    "\n",
    "def mediane_rapide_deux_rec(L,debut,fin):\n",
    "    if debut+1>=fin :\n",
    "        return L[debut]\n",
    "    else :\n",
    "        j,L = positionnement_pivot(L,debut,fin)\n",
    "        if j == len(L)//2 :\n",
    "            m = L[j]\n",
    "            return m\n",
    "        elif j < len(L)//2 :\n",
    "            debut_1 = j+1\n",
    "            fin_1 = fin\n",
    "            m = mediane_rapide_deux_rec(L,debut_1,fin_1)\n",
    "            return m\n",
    "        elif j  > len(L)//2 :\n",
    "            debut_2 = debut\n",
    "            fin_2 = j\n",
    "            m = mediane_rapide_deux_rec(L,debut_2,fin_2)\n",
    "            return m\n",
    "    \n",
    "def mediane_rapide_deux(L) :\n",
    "    m = mediane_rapide_deux_rec(L,0,len(L))\n",
    "    return m"
   ]
  },
  {
   "cell_type": "code",
   "execution_count": 9,
   "metadata": {},
   "outputs": [
    {
     "data": {
      "text/plain": [
       "9"
      ]
     },
     "execution_count": 9,
     "metadata": {},
     "output_type": "execute_result"
    }
   ],
   "source": [
    "L = [15,4,2,9,55,16,0,1]\n",
    "mediane_rapide_deux(L)"
   ]
  },
  {
   "cell_type": "code",
   "execution_count": 10,
   "metadata": {},
   "outputs": [
    {
     "name": "stderr",
     "output_type": "stream",
     "text": [
      "C:\\Users\\remib\\AppData\\Local\\Continuum\\anaconda3\\lib\\site-packages\\ipykernel_launcher.py:16: DeprecationWarning: time.clock has been deprecated in Python 3.3 and will be removed from Python 3.8: use time.perf_counter or time.process_time instead\n",
      "  app.launch_new_instance()\n",
      "C:\\Users\\remib\\AppData\\Local\\Continuum\\anaconda3\\lib\\site-packages\\ipykernel_launcher.py:18: DeprecationWarning: time.clock has been deprecated in Python 3.3 and will be removed from Python 3.8: use time.perf_counter or time.process_time instead\n"
     ]
    },
    {
     "data": {
      "image/png": "[encoded data removed]",
      "text/plain": [
       "<Figure size 432x288 with 1 Axes>"
      ]
     },
     "metadata": {
      "needs_background": "light"
     },
     "output_type": "display_data"
    }
   ],
   "source": [
    "import time\n",
    "import matplotlib.pyplot as plt\n",
    "import numpy as np\n",
    "import random as rd\n",
    "\n",
    "def complexite_moyenne(n_min,n_max,pas,nbre_moyenne,algorithme):\n",
    "    duree = []\n",
    "    taille = []\n",
    "    i = 0\n",
    "    for n in range(n_min,n_max,pas):\n",
    "        taille.append(n)\n",
    "        duree.append(0)\n",
    "        L=list(range(n))\n",
    "        for m in range(nbre_moyenne):\n",
    "            rd.shuffle(L)\n",
    "            depart = time.clock()\n",
    "            algorithme(L)\n",
    "            arrive = time.clock()\n",
    "            duree[i]=duree[i]+arrive-depart\n",
    "        i += 1\n",
    "    return taille, duree\n",
    "   \n",
    "n_min,n_max,pas,nbre_moyenne = 10,1000,10,10\n",
    "\n",
    "taille_rapide, duree_rapide = complexite_moyenne(n_min,n_max,pas,nbre_moyenne,mediane_rapide)\n",
    "taille_rapide_deux, duree_rapide_deux = complexite_moyenne(n_min,n_max,pas,nbre_moyenne,mediane_rapide_deux)\n",
    "\n",
    "plt.loglog(taille_rapide,duree_rapide,'-')\n",
    "plt.loglog(taille_rapide_deux,duree_rapide_deux,'-')\n",
    "plt.xlabel('taille de la liste où chercher')\n",
    "plt.ylabel(\"temps d'exécution de l'algorithme\")\n",
    "plt.legend(('médiane rapide','médiane rapide modifié'), loc='upper left')\n",
    "\n",
    "plt.show()"
   ]
  },
  {
   "cell_type": "markdown",
   "metadata": {},
   "source": [
    "## Exercice:\n",
    "\n",
    "L’algorithme que l’on écrit ici permet de déterminer la\n",
    "médiane, et même plus généralement le k-ième élément d’un tableau, sans le trier intégralement. Il est\n",
    "linéaire dans le pire des cas.\n",
    "\n",
    "- Écrire une fonction qui prend en argument un tableau de cinq éléments et calcule sa médiane.\n",
    "- Écrire une fonction qui prend en argument un tableau quelconque, le divise en groupes de cinq éléments\n",
    "et construit le tableau des médianes de chaque groupe de cinq.\n",
    "- Modifier la fonction précédente pour qu’elle s’appelle récursivement sur le « tableau des médianes »\n",
    "construit.\n",
    "- Enfin, écrire une fonction qui effectue une partition du tableau de départ avec pour pivot la « médiane\n",
    "des médianes » calculée précédemment.\n",
    "Pour trouver le k-ième élément du tableau, où doit-on le chercher en fonction des tailles des deux\n",
    "sous-tableaux délimités par la partition ? Programmer l’appel récursif correspondant.\n",
    "- Pourquoi n’est-ce pas une bonne idée d’extraire les groupes de cinq éléments avec la construction\n",
    "t[i:i+5] ? Comment peut-on procéder autrement ?\n",
    "- De même, on pourra chercher une façon de construire en place le tableau des médianes."
   ]
  }
 ],
 "metadata": {
  "kernelspec": {
   "display_name": "Python 3",
   "language": "python",
   "name": "python3"
  },
  "language_info": {
   "codemirror_mode": {
    "name": "ipython",
    "version": 3
   },
   "file_extension": ".py",
   "mimetype": "text/x-python",
   "name": "python",
   "nbconvert_exporter": "python",
   "pygments_lexer": "ipython3",
   "version": "3.7.3"
  }
 },
 "nbformat": 4,
 "nbformat_minor": 2
}
