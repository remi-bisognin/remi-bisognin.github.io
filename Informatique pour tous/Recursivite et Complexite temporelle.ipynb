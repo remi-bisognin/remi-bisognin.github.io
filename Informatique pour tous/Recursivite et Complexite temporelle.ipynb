{
 "cells": [
  {
   "cell_type": "markdown",
   "metadata": {},
   "source": [
    "# Rappels sur la complexité temporelle\n",
    "\n",
    "L'exécution d'un programme nécessite d'utiliser plus ou moins les capacités de votre ordinateur. Ceci ce quantifie avec deux facteurs principaux: le temps de calcul et la mémoire occupé lors de l'exécution. Pour être plus performant un programme doit demander le moins de ressource possible à l'ordinateur et donc avoir un temps de calcul court et une petite mémoire occupée.\n",
    "\n",
    "Pour quantifier les besoins nécessaire à l'éxécution d'un programme, on utilise la complexité. On parle de complexité temporelle lorsqu'il s'agit du temps de réponse, et de complexité spatiale pour l'espace mémoire. Ce paragraphe traitera de la complexité temporelle.\n",
    "\n",
    "Le temps exact en seconde que prend un programme à effectuer un programme dépend de nombreux facteurs techniques propores à chaque machine. On peut estimer l'influence de l'algorithme sur le temps en considérant que chaque opération élémentaire ( addition, multiplication, comparaison, ... ) représente une unité de coût sans préciser le temps en seconde pour chaque unité de coût. La complexité temporelle est le nombre total d'unité de coût pour l'exécution de cet algorithme.\n",
    "\n",
    "Enfin on étudie l'évolution de cette complexité en fonction de la taille des données à étudier. En effet l'algorithme ne fera pas le même nombre d'opération selon le problème à traiter par exemple le nombre d'élément d'une liste à trier ou la valeur du nombre à calculer. Lorsqu'on étudie la complexité on étudie donc un équivalent de l'unité de coût en fonction de la taille des données.\n",
    "\n",
    "Si C(n) est la complexité pour des données de taille n, alors on peut avoir comme résultat :\n",
    "- $C(n) = O(\\log(n))$, complexité logarithmique\n",
    "- $C(n) = O(n)$, complexité linéaire\n",
    "- $C(n) = O(n\\log(n))$, complexité quasi-linéaire\n",
    "- $C(n) = O(n^2)$, complexité quadratique\n",
    "- $C(n) = O(n^k)$, complexité polynomiale\n",
    "- $C(n) = O(\\exp(n))$, complexité exponentielle\n",
    "\n",
    "Reprenons le programme itératif calculant la puissance $n$-ième d'un nombre $x$"
   ]
  },
  {
   "cell_type": "code",
   "execution_count": 1,
   "metadata": {},
   "outputs": [],
   "source": [
    "def puissance_iterative(x,n) :\n",
    "    resultat = 1\n",
    "    for i in range(n):\n",
    "        resultat = x*resultat\n",
    "    return resultat"
   ]
  },
  {
   "cell_type": "markdown",
   "metadata": {},
   "source": [
    "Et calculons sa complexité en fonction de la puissance $n$\n",
    "\n",
    "Ce programme commence par affecter 1 à résultat donc on compte 1 unité de coût\n",
    "Ce programme fait une boucle $n$ fois donc on va multiplier par n le coût suivant:\n",
    "    dans la boucle le programme effectue une multiplication donc 1 unité de coût\n",
    "    \n",
    "La complexité du programme est donc $C(n) = 1 + n\\times 1 = O(n)$ c'est une complexité linéaire selon la puissance calculée.\n",
    "\n",
    "On peut vérifier ce résultat à l'aide du programme ci-dessous qui mesure 1000 fois le temps d'exécution de la fonction puissance_iterative pour les puissance de 2 entre 0 et 99."
   ]
  },
  {
   "cell_type": "code",
   "execution_count": 3,
   "metadata": {},
   "outputs": [
    {
     "name": "stderr",
     "output_type": "stream",
     "text": [
      "C:\\Users\\remib\\AppData\\Local\\Continuum\\anaconda3\\lib\\site-packages\\ipykernel_launcher.py:6: DeprecationWarning: time.clock has been deprecated in Python 3.3 and will be removed from Python 3.8: use time.perf_counter or time.process_time instead\n",
      "  \n",
      "C:\\Users\\remib\\AppData\\Local\\Continuum\\anaconda3\\lib\\site-packages\\ipykernel_launcher.py:8: DeprecationWarning: time.clock has been deprecated in Python 3.3 and will be removed from Python 3.8: use time.perf_counter or time.process_time instead\n",
      "  \n"
     ]
    },
    {
     "data": {
      "image/png": "[encoded data removed]",
      "text/plain": [
       "<Figure size 432x288 with 1 Axes>"
      ]
     },
     "metadata": {
      "needs_background": "light"
     },
     "output_type": "display_data"
    }
   ],
   "source": [
    "import time\n",
    "import matplotlib.pyplot as plt\n",
    "resultat = 100*[0]\n",
    "for j in range(1000):\n",
    "    for i in range(100):\n",
    "        depart = time.clock()\n",
    "        puissance_iterative(2,i)\n",
    "        arrive = time.clock()\n",
    "        resultat[i]=resultat[i]+arrive-depart\n",
    "    \n",
    "plt.plot(resultat,'.')\n",
    "plt.show()"
   ]
  },
  {
   "cell_type": "markdown",
   "metadata": {},
   "source": [
    "# La complexité temporelle dans le cas d'un programme récursif"
   ]
  },
  {
   "cell_type": "markdown",
   "metadata": {},
   "source": [
    "Avec un programme itératif nous avons pu estimer la complexité du programme à l'aide d'une expression explicite $C(n)$ est directement une fonction de $n$. En effet l'écriture d'un programme itératif explicite directement toutes les opérations effectuées.\n",
    "\n",
    "Ce n'est pas le cas pour un programme récursif où par définition le programme s'appelle lui même. A la lecture du code du programme on est seuleument capable d'exprimer la complexité pour une taille $n$ en fonction de la complexité pour une taille inférieure.\n",
    "\n",
    "Reprenons par exemple le programme récursif calculant aussi la puissance $n$-ième d'un nombre x."
   ]
  },
  {
   "cell_type": "code",
   "execution_count": 4,
   "metadata": {},
   "outputs": [],
   "source": [
    "def puissance_recursive(x,n) :\n",
    "    if n==0 :\n",
    "        resultat = 1\n",
    "        return resultat\n",
    "    else :\n",
    "        resultat = x*puissance_recursive(x,n-1)\n",
    "        return resultat"
   ]
  },
  {
   "cell_type": "markdown",
   "metadata": {},
   "source": [
    "Exprimons sa complexité en lisant la structure du programme.\n",
    "\n",
    "Si n = 0, alors on affecte 1 au résultat donc $C(0) = 1$\n",
    "\n",
    "Si n > 0, alors on éffectue toute les opérations pour calculer puissance_recursive(x,n-1) soit $C(n-1)$ et on ajoute une opération en multipliant par x le résultat.\n",
    "On en déduit $C(n) = C(n-1)+1$\n",
    "\n",
    "On obtient donc une relation de récurrence qui définit la complexité :\n",
    "\n",
    "$C(n) = C(n-1)+1$ et $C(0) = 1$\n",
    "\n",
    "Il s'agit d'une suite arithmétique que l'on peut résoudre avec $C(n) = n+1 = O(n)$\n",
    "On en déduit donc une complexité linéaire aussi.\n",
    "\n",
    "Et on peut vérifier ce résultat de la même façon que pour le programme itératif avec le programme suivant."
   ]
  },
  {
   "cell_type": "code",
   "execution_count": 4,
   "metadata": {},
   "outputs": [
    {
     "name": "stderr",
     "output_type": "stream",
     "text": [
      "C:\\Users\\remib\\AppData\\Local\\Continuum\\anaconda3\\lib\\site-packages\\ipykernel_launcher.py:6: DeprecationWarning: time.clock has been deprecated in Python 3.3 and will be removed from Python 3.8: use time.perf_counter or time.process_time instead\n",
      "  \n",
      "C:\\Users\\remib\\AppData\\Local\\Continuum\\anaconda3\\lib\\site-packages\\ipykernel_launcher.py:8: DeprecationWarning: time.clock has been deprecated in Python 3.3 and will be removed from Python 3.8: use time.perf_counter or time.process_time instead\n",
      "  \n"
     ]
    },
    {
     "data": {
      "image/png": "[encoded data removed]",
      "text/plain": [
       "<Figure size 432x288 with 1 Axes>"
      ]
     },
     "metadata": {
      "needs_background": "light"
     },
     "output_type": "display_data"
    }
   ],
   "source": [
    "import time\n",
    "import matplotlib.pyplot as plt\n",
    "resultat = 100*[0]\n",
    "for j in range(1000):\n",
    "    for i in range(100):\n",
    "        depart = time.clock()\n",
    "        puissance_recursive(2,i)\n",
    "        arrive = time.clock()\n",
    "        resultat[i]=resultat[i]+arrive-depart\n",
    "    \n",
    "plt.plot(resultat,'.')\n",
    "plt.show()"
   ]
  },
  {
   "cell_type": "markdown",
   "metadata": {},
   "source": [
    "Pour les deux programmes ci-dessus on obtient dans les deux cas une complexité linéaire, on dit que les deux programmes ont une complexité équivalente. Lorsque l'on veut améliorer un programme on utilise un programme ayant le même but avec une complexité inférieure. Prenons l'exemple de la fonction puissance_rapide(x, n) ci-dessous.\n",
    "\n",
    "Dans le programme ci-dessous x//y renvoi le quotient de la division euclidienne de n par 2, et x%y renvoi le reste de la division euclidienne de x par 2."
   ]
  },
  {
   "cell_type": "code",
   "execution_count": 5,
   "metadata": {},
   "outputs": [],
   "source": [
    "def puissance_rapide(x, n):\n",
    "    if n == 0:\n",
    "        return 1\n",
    "    else:\n",
    "        r = puissance_rapide(x, n // 2)\n",
    "        if n % 2 == 0:\n",
    "            return r * r\n",
    "        else:\n",
    "            return x * r * r"
   ]
  },
  {
   "cell_type": "markdown",
   "metadata": {},
   "source": [
    "Evaluons sa complexité en lisant le programme :\n",
    "\n",
    "si n=0, alors on affecte 1 au résultat donc $C(0) = 1$\n",
    "\n",
    "si n>0, alors on effectue le nombre d'opération pour calculer puissance_rapide(x, n/2) puis on effectue une multiplication, donc $C(n) = C(n/2) + 1$\n",
    "\n",
    "On a donc pour $C(n)$ la relation de récurrence $C(n) = C(n/2) + 1$ et $C(0) = 1$. Pour évaluer $C(n)$ on peut effectuer le changement de variable $n=2^k$ donc $C(2^k) = C(2^(k-1)) + 1$ et $C(2^0) = C(0)+1 = 2$. Il s'agit donc d'une suite arithmétique avec $k$ d'où $C(2^k) = k+2$ or $2^k = n$ d'où $k = \\log_2(n)$ et $C(n) = \\log_2(n)+2$.\n",
    "\n",
    "Il s'agit donc d'une complexité logarithmique et donc d'un programme plus performant que les précédents pour calculer la puissance n-ième de x. Dans certains cas un fonction récursive permet de diminuer la complexité temporelle de l'algorithme.\n",
    "Vérifions ce résultat à nouveau."
   ]
  },
  {
   "cell_type": "code",
   "execution_count": 6,
   "metadata": {},
   "outputs": [
    {
     "name": "stderr",
     "output_type": "stream",
     "text": [
      "C:\\Users\\remib\\AppData\\Local\\Continuum\\anaconda3\\lib\\site-packages\\ipykernel_launcher.py:6: DeprecationWarning: time.clock has been deprecated in Python 3.3 and will be removed from Python 3.8: use time.perf_counter or time.process_time instead\n",
      "  \n",
      "C:\\Users\\remib\\AppData\\Local\\Continuum\\anaconda3\\lib\\site-packages\\ipykernel_launcher.py:8: DeprecationWarning: time.clock has been deprecated in Python 3.3 and will be removed from Python 3.8: use time.perf_counter or time.process_time instead\n",
      "  \n"
     ]
    },
    {
     "data": {
      "image/png": "[encoded data removed]",
      "text/plain": [
       "<Figure size 432x288 with 1 Axes>"
      ]
     },
     "metadata": {
      "needs_background": "light"
     },
     "output_type": "display_data"
    }
   ],
   "source": [
    "import time\n",
    "import matplotlib.pyplot as plt\n",
    "resultat = 100*[0]\n",
    "for j in range(1000):\n",
    "    for i in range(100):\n",
    "        depart = time.clock()\n",
    "        puissance_rapide(2,i)\n",
    "        arrive = time.clock()\n",
    "        resultat[i]=resultat[i]+arrive-depart\n",
    "    \n",
    "plt.plot(resultat,'.')\n",
    "plt.show()"
   ]
  },
  {
   "cell_type": "markdown",
   "metadata": {},
   "source": [
    "On remarque que la complexité est sub-linéaire, pour s'assurer qu'il s'agit bien d'une complexité logarithmique traçons plutôt le temps d'éxecution en fonction de $\\log(n)$ avec :"
   ]
  },
  {
   "cell_type": "code",
   "execution_count": 7,
   "metadata": {},
   "outputs": [
    {
     "name": "stderr",
     "output_type": "stream",
     "text": [
      "C:\\Users\\remib\\AppData\\Local\\Continuum\\anaconda3\\lib\\site-packages\\ipykernel_launcher.py:6: DeprecationWarning: time.clock has been deprecated in Python 3.3 and will be removed from Python 3.8: use time.perf_counter or time.process_time instead\n",
      "  \n",
      "C:\\Users\\remib\\AppData\\Local\\Continuum\\anaconda3\\lib\\site-packages\\ipykernel_launcher.py:8: DeprecationWarning: time.clock has been deprecated in Python 3.3 and will be removed from Python 3.8: use time.perf_counter or time.process_time instead\n",
      "  \n"
     ]
    },
    {
     "data": {
      "image/png": "[encoded data removed]",
      "text/plain": [
       "<Figure size 432x288 with 1 Axes>"
      ]
     },
     "metadata": {
      "needs_background": "light"
     },
     "output_type": "display_data"
    }
   ],
   "source": [
    "import time\n",
    "import matplotlib.pyplot as plt\n",
    "resultat = 100*[0]\n",
    "for j in range(1000):\n",
    "    for i in range(100):\n",
    "        depart = time.clock()\n",
    "        puissance_rapide(2,i)\n",
    "        arrive = time.clock()\n",
    "        resultat[i]=resultat[i]+arrive-depart\n",
    "        \n",
    "plt.semilogx(resultat,'.')\n",
    "plt.show()"
   ]
  },
  {
   "cell_type": "markdown",
   "metadata": {},
   "source": [
    "## Exercice\n",
    "\n",
    "En reprenant les programmes ci-dessous écrit pour le sujet précédent évaluer leur complexité temporelle et vérifier votre résultat."
   ]
  },
  {
   "cell_type": "markdown",
   "metadata": {},
   "source": [
    "### le calcul de factorielle itératif"
   ]
  },
  {
   "cell_type": "code",
   "execution_count": 8,
   "metadata": {},
   "outputs": [],
   "source": [
    "def factorielle_classique(n):\n",
    "    resultat = 1\n",
    "    for i in range(n):\n",
    "        resultat = (i+1)*resultat\n",
    "    return resultat"
   ]
  },
  {
   "cell_type": "markdown",
   "metadata": {},
   "source": []
  },
  {
   "cell_type": "code",
   "execution_count": null,
   "metadata": {},
   "outputs": [],
   "source": []
  },
  {
   "cell_type": "markdown",
   "metadata": {},
   "source": [
    "### le calcul de factorielle récursif"
   ]
  },
  {
   "cell_type": "code",
   "execution_count": 10,
   "metadata": {},
   "outputs": [],
   "source": [
    "def factorielle_recursive(n):\n",
    "    if n==1:\n",
    "        return 1\n",
    "    else :\n",
    "        resultat = n*factorielle_recursive(n-1)\n",
    "        return resultat"
   ]
  },
  {
   "cell_type": "markdown",
   "metadata": {},
   "source": []
  },
  {
   "cell_type": "code",
   "execution_count": null,
   "metadata": {},
   "outputs": [],
   "source": []
  },
  {
   "cell_type": "markdown",
   "metadata": {},
   "source": [
    "Que pouvez-vous conclure sur l'intérêt d'utiliser une fonction récursive par rapport à une fonction itérative pour évaluer la fonction factorielle ?"
   ]
  },
  {
   "cell_type": "markdown",
   "metadata": {},
   "source": [
    "### la suite définie par récurrence"
   ]
  },
  {
   "cell_type": "code",
   "execution_count": 12,
   "metadata": {},
   "outputs": [],
   "source": [
    "def u(n):\n",
    "    if n == 0:\n",
    "        return 2.\n",
    "    else:\n",
    "        return 0.5 * (u(n-1) + 3. / u(n-1))"
   ]
  },
  {
   "cell_type": "markdown",
   "metadata": {},
   "source": []
  },
  {
   "cell_type": "code",
   "execution_count": null,
   "metadata": {},
   "outputs": [],
   "source": []
  },
  {
   "cell_type": "markdown",
   "metadata": {},
   "source": [
    "si on compare au même programme mais écrit légèrement différement suivant"
   ]
  },
  {
   "cell_type": "code",
   "execution_count": 15,
   "metadata": {},
   "outputs": [],
   "source": [
    "def u(n):\n",
    "    if n == 0:\n",
    "        return 2.\n",
    "    else:\n",
    "        intermediaire = u(n-1)\n",
    "        return 0.5 * (intermediaire + 3. / intermediaire)"
   ]
  },
  {
   "cell_type": "markdown",
   "metadata": {},
   "source": []
  },
  {
   "cell_type": "code",
   "execution_count": null,
   "metadata": {},
   "outputs": [],
   "source": []
  },
  {
   "cell_type": "markdown",
   "metadata": {},
   "source": [
    "On en déduit que la récursivité permet d'écrire naturellement les relations de récurrence, mais qu'il faut faire attention à la complexité."
   ]
  },
  {
   "cell_type": "markdown",
   "metadata": {},
   "source": [
    "## Exercice\n",
    "\n",
    "Soit l une liste triée par ordre croissant et x un élément à chercher dans cette liste.\n",
    "\n",
    "Ecrire un programme récursif qui prend en argument la liste triée l et l'élément à rechercher x et qui renvoie True si x est dans l, et False si x n'est pas dans l. On utilisera une méthode de recherche par dichotomie.\n",
    "\n",
    "Puis évaluer et vérifier sa complexité."
   ]
  },
  {
   "cell_type": "code",
   "execution_count": 17,
   "metadata": {},
   "outputs": [],
   "source": []
  },
  {
   "cell_type": "markdown",
   "metadata": {},
   "source": []
  },
  {
   "cell_type": "code",
   "execution_count": null,
   "metadata": {},
   "outputs": [],
   "source": []
  },
  {
   "cell_type": "code",
   "execution_count": null,
   "metadata": {},
   "outputs": [],
   "source": []
  },
  {
   "cell_type": "markdown",
   "metadata": {},
   "source": [
    "## Exercice\n",
    "\n",
    "On considère la suite de Fibonacci définie par :\n",
    "\n",
    "$F_0 = 0$\n",
    "\n",
    "$F_1 = 1$\n",
    "\n",
    "$F_n = F_{n-1}+F_{n-2}$\n",
    "\n",
    "Écrire une fonction récursive basée sur ces relations qui prend n en argument et renvoie $F_n$.\n",
    "\n",
    "Quelle est sa complexité ?\n",
    "\n",
    "Accélérer le calcul de $F_n$ en écrivant plutôt une fonction récursive auxiliaire qui prend en arguments $F_{n−1}$,\n",
    "$F_n$ et $k > 0$ et renvoie $F_{n+k}$ (on pourra poser $F_{-1} = 1$).\n",
    "\n",
    "Quelle est la nouvelle complexité ?"
   ]
  },
  {
   "cell_type": "code",
   "execution_count": null,
   "metadata": {},
   "outputs": [],
   "source": []
  }
 ],
 "metadata": {
  "kernelspec": {
   "display_name": "Python 3",
   "language": "python",
   "name": "python3"
  },
  "language_info": {
   "codemirror_mode": {
    "name": "ipython",
    "version": 3
   },
   "file_extension": ".py",
   "mimetype": "text/x-python",
   "name": "python",
   "nbconvert_exporter": "python",
   "pygments_lexer": "ipython3",
   "version": "3.7.3"
  }
 },
 "nbformat": 4,
 "nbformat_minor": 2
}
