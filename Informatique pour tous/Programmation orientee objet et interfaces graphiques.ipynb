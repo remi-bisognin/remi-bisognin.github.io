{
 "cells": [
  {
   "cell_type": "markdown",
   "metadata": {},
   "source": [
    "# Notion d'objet en Python\n",
    "\n",
    "Pour illustrer la notion d'objet en python, nous allons analyser ce que fait une courte suite d'instruction."
   ]
  },
  {
   "cell_type": "code",
   "execution_count": null,
   "metadata": {},
   "outputs": [],
   "source": [
    "a = [0]\n",
    "b = [0]\n",
    "a[0] = 1\n",
    "b[0] = a[0]\n",
    "print(b)\n",
    "a[0] = 2 \n",
    "print(b)"
   ]
  },
  {
   "cell_type": "markdown",
   "metadata": {},
   "source": [
    "On obtient bien le résultat attendu en raisonnant de la manière suivante :"
   ]
  },
  {
   "cell_type": "code",
   "execution_count": null,
   "metadata": {},
   "outputs": [],
   "source": [
    "a = [0] # On initialise a comme [0]\n",
    "b = [0] # On initialise b comme [0]\n",
    "a[0] = 1 # On modifie a comme [1]\n",
    "b[0] = a[0] # On modifie b comme a soit [1]\n",
    "print(b) # On affiche la valeur courante de b soit [1]\n",
    "a[0] = 2 # On modifie a comme [2]\n",
    "print(b) # Mais b n'a pas changé donc on affiche toujours [1]"
   ]
  },
  {
   "cell_type": "markdown",
   "metadata": {},
   "source": [
    "Appliquons ce même raisonnement aux lignes de commandes suivantes"
   ]
  },
  {
   "cell_type": "code",
   "execution_count": null,
   "metadata": {},
   "outputs": [],
   "source": [
    "a = [1] # On initialise directement a comme [1]\n",
    "b = a # On initialise directement b comme a donc [1]\n",
    "print(b) # On affiche b donc [1]\n",
    "a[0] = 2 # On modifie a comme [2]\n",
    "print(b) # Mais b n'a pas changé donc on affiche toujours [1]"
   ]
  },
  {
   "cell_type": "markdown",
   "metadata": {},
   "source": [
    "On ne trouve pas le résultat attendu cette fois. On a l'impression que la modification de a a entrainé automatiquement la modification de b. C'est parce qu'il faut raisonner comme dans la vie de tout les jours en terme d'objet."
   ]
  },
  {
   "cell_type": "code",
   "execution_count": null,
   "metadata": {},
   "outputs": [],
   "source": [
    "a = [1] # a est l'objet [1]\n",
    "b = a # b est le même objet que a\n",
    "print(b) # On affiche b donc on affiche a soit [1]\n",
    "a[0] = 2 # On modifie a le premier élément de a soit de l'objet [1] qui devient [2]\n",
    "print(b) # Mais b n'a pas changé, b est toujours le même objet que a, soit maintenant [2]"
   ]
  },
  {
   "cell_type": "markdown",
   "metadata": {},
   "source": [
    "Si on initialise b comme un autre objet indépendament de a, on retrouvera alors qu'une modification de a, ne change pas l'objet b. Pour cela il faut écrire :"
   ]
  },
  {
   "cell_type": "code",
   "execution_count": null,
   "metadata": {},
   "outputs": [],
   "source": [
    "a = [1] # a est un objet [1]\n",
    "b = [1] # b est un autre objet qui vaut aussi [1]\n",
    "print(b) # On affiche b soit [1]\n",
    "a[0] = 2 # On modifie l'objet a pour [2]\n",
    "print(b) # b est toujours le même objet, [1]."
   ]
  },
  {
   "cell_type": "markdown",
   "metadata": {},
   "source": [
    "Lorsqu'on définit a et b comme les mêmes objets on a observé que toutes modifications de a entraîne une modification de b. Il en est de même aussi pour toute modification de b entraîne une modification de a."
   ]
  },
  {
   "cell_type": "code",
   "execution_count": null,
   "metadata": {},
   "outputs": [],
   "source": [
    "a = [1]\n",
    "b = a\n",
    "print(b)\n",
    "b[0] = 2 \n",
    "print(a)"
   ]
  },
  {
   "cell_type": "markdown",
   "metadata": {},
   "source": [
    "Revenons sur la première séries d'instruction et interprétons-la en terme d'objet."
   ]
  },
  {
   "cell_type": "code",
   "execution_count": null,
   "metadata": {},
   "outputs": [],
   "source": [
    "a = [0] # a est un objet [0]\n",
    "b = [0] # b est un autre objet [0]\n",
    "a[0] = 1 # on modifie le premier élément de l'objet a pour [1]\n",
    "b[0] = a[0] # on modifie le premier élément de l'objet b par le premier élément de l'objet a soit [1],\n",
    "            # mais ces deux objets restent indépendants.\n",
    "print(b) # on affiche l'objet b soit [1]\n",
    "a[0] = 2 # on modifie le premier élément de l'objet a pour [2]\n",
    "print(b) # b est toujours le même objet [1]"
   ]
  },
  {
   "cell_type": "markdown",
   "metadata": {},
   "source": [
    "L'interprétation en terme d'objet est donc plus proche d'une interprétation d'un objet \"réel\" que l'interprétation habituelle qu'on a faite des variables en informatique.\n",
    "\n",
    "Jusqu'à présent on considère les variables (ici a et b) comme des espaces mémoires séparés et l'opération a = qqch comme l'affectation de qqch dans l'espace mémoire de a. En programmation orienté objet les variables sont des noms que l'on donne à un objet. Lorsque l'on écrit a = un élément comme par exemple a = [1], on définit un objet [1] et on le nomme par la variable a. Quand on écrit l'égalité entre deux noms d'objet par exemple a = b, on définit que ces deux noms désignent le même objet, donc a et b pointent vers le même espace mémoire. Alors si on modifie l'espace mémoire en utilisant le nom a ou b le résultat est le même."
   ]
  },
  {
   "cell_type": "markdown",
   "metadata": {},
   "source": [
    "## exercices\n",
    "\n",
    "Déterminer le résultat des cellules suivantes."
   ]
  },
  {
   "cell_type": "code",
   "execution_count": null,
   "metadata": {},
   "outputs": [],
   "source": [
    "a = 3 \n",
    "b = a + 4\n",
    "c = a\n",
    "a = b\n",
    "c = 3.14\n",
    "\n",
    "print(a,b,c)"
   ]
  },
  {
   "cell_type": "code",
   "execution_count": null,
   "metadata": {},
   "outputs": [],
   "source": [
    "a = [2,3,7]\n",
    "b = a\n",
    "print(b[1])\n",
    "a[1] = 4\n",
    "print(b[1])\n",
    "a = [5,6,7,8]\n",
    "print(b[1])"
   ]
  },
  {
   "cell_type": "code",
   "execution_count": null,
   "metadata": {},
   "outputs": [],
   "source": [
    "def exemple(arg):\n",
    "    print(arg[1])\n",
    "    arg[1] = 4\n",
    "    print(arg[1])\n",
    "    arg = [5,6,7,8]\n",
    "\n",
    "a = [1,2,3,4]\n",
    "exemple(a)\n",
    "print(a[1])"
   ]
  },
  {
   "cell_type": "code",
   "execution_count": null,
   "metadata": {},
   "outputs": [],
   "source": [
    "a = [1,2,34,45]\n",
    "b = a\n",
    "c = a[1]\n",
    "a[2] = 1\n",
    "a[1] = 5\n",
    "print(b[2]+c)"
   ]
  },
  {
   "cell_type": "markdown",
   "metadata": {},
   "source": [
    "# Classes, attributs, et méthodes\n",
    "\n",
    "Pour rendre les objets plus facile d'utilisation, par l'utilisateur d'un programme informatique on définit trois notions propres aux objets (classe, attributs, et méthodes), qui les raprochent d'objet réels.\n",
    "\n",
    "Une classe est un groupe d'objet qui vont partager des points communs. C'est donc un ensemble dans lequel on va classer des objets. On peut chercher par exemple à remplir son annuaire. On va donc définir une classe d'objet que sont les personnes avec :"
   ]
  },
  {
   "cell_type": "code",
   "execution_count": null,
   "metadata": {},
   "outputs": [],
   "source": [
    "class Personne():\n",
    "    \"\"\"Classe des personnes\"\"\"\n",
    "    nom = \"\""
   ]
  },
  {
   "cell_type": "markdown",
   "metadata": {},
   "source": [
    "On peut alors définir un nouvel objet de cette classe avec la commande : nom_de_variable = nom_de_classe()"
   ]
  },
  {
   "cell_type": "code",
   "execution_count": null,
   "metadata": {},
   "outputs": [],
   "source": [
    "le_prof = Personne()"
   ]
  },
  {
   "cell_type": "markdown",
   "metadata": {},
   "source": [
    "On vient alors de définir que le_prof est une personne ou plutôt le_prof est un objet appartenant à la classe d'objet Personne. Testons quel est le type de l'objet le_prof"
   ]
  },
  {
   "cell_type": "code",
   "execution_count": null,
   "metadata": {},
   "outputs": [],
   "source": [
    "type(le_prof)"
   ]
  },
  {
   "cell_type": "markdown",
   "metadata": {},
   "source": [
    "Python nous répond bien qu'il s'agit d'un objet de la classe Personne.\n",
    "\n",
    "On peut vouloir maintenant donner des informations sur un objet de la classe Personne, par exemple son nom et son prénom. Pour cela on utilise des attributs, on remarque que l'attribut nom est déjà définit à l'initialisation d'un objet de la classe Personne comme une chaîne de caractère vide.\n",
    "\n",
    "On peut appeler l'attribut nom d'un objet grace à la commande objet.attribut, par exemple l'attribut nom de le_prof est une chaine de caractère vide."
   ]
  },
  {
   "cell_type": "code",
   "execution_count": null,
   "metadata": {},
   "outputs": [],
   "source": [
    "print(le_prof.nom)"
   ]
  },
  {
   "cell_type": "markdown",
   "metadata": {},
   "source": [
    "On peut ensuite modifier cet attribut de l'objet en lui assignant une autre valeur."
   ]
  },
  {
   "cell_type": "code",
   "execution_count": null,
   "metadata": {},
   "outputs": [],
   "source": [
    "le_prof.nom = \"Bisognin\"\n",
    "\n",
    "print(le_prof.nom)"
   ]
  },
  {
   "cell_type": "markdown",
   "metadata": {},
   "source": [
    "On peut ensuite rajouter d'autres attributs, soit à la définition de la classe, comme:"
   ]
  },
  {
   "cell_type": "code",
   "execution_count": null,
   "metadata": {},
   "outputs": [],
   "source": [
    "class Personne():\n",
    "    \"\"\"Classe des personnes\"\"\"\n",
    "    nom = \"\"\n",
    "    prenom = \"\""
   ]
  },
  {
   "cell_type": "code",
   "execution_count": null,
   "metadata": {},
   "outputs": [],
   "source": [
    "le_prof.prenom = \"Rémi\"\n",
    "\n",
    "print(le_prof.prenom, le_prof.nom)"
   ]
  },
  {
   "cell_type": "markdown",
   "metadata": {},
   "source": [
    "soit directement en affectant une valeur à cet attribut, comme :"
   ]
  },
  {
   "cell_type": "code",
   "execution_count": null,
   "metadata": {},
   "outputs": [],
   "source": [
    "le_prof.email = \"remi.bisognin@ac-versailles.fr\"\n",
    "\n",
    "print(le_prof.prenom, le_prof.nom, le_prof.email)"
   ]
  },
  {
   "cell_type": "markdown",
   "metadata": {},
   "source": [
    "on remarque que c'est une façon très explicite de stocker les informations comparée à une structure de données comme une liste où il faut se souvenir que l'indice 0 correspond au nom, l'indice 1 au prénom, ...\n",
    "\n",
    "On peut enfin définir des méthodes pour chaque classe d'objet. Une méthode est une fonction définie pour une classe qui prend en argument un objet avec ses attributs et peut aussi prendre d'autres arguments. L'utilisateur n'a alors plus à se poser la question de quelle fonction écrire, c'est lors de la définition de la classe que la fonction adaptée à l'objet a été définie.\n",
    "\n",
    "Lorsqu'une fonction est définie dans une classe, on parle alors de méthode. Cette méthode est une fonction qui prend en argument l'objet lui même qui est noté par convention self et peut prendre d'autre argument si besoin.\n",
    "\n",
    "Par exemple on peut définir la méthode qui dit bonjour à une personne avec :"
   ]
  },
  {
   "cell_type": "code",
   "execution_count": null,
   "metadata": {},
   "outputs": [],
   "source": [
    "class Personne():\n",
    "    \"\"\"Classe des personnes\"\"\"\n",
    "    nom = \"\"\n",
    "    prenom = \"\"\n",
    "    le_prof.email = \"remi.bisognin@ac-versailles.fr\"\n",
    "    \n",
    "    def bonjour(self):\n",
    "        print(\"Bonjour\", self.prenom, self.nom, '!')"
   ]
  },
  {
   "cell_type": "markdown",
   "metadata": {},
   "source": [
    "Pour appeler une méthode sur un objet self on utilise alors la commande self.methode()"
   ]
  },
  {
   "cell_type": "code",
   "execution_count": null,
   "metadata": {},
   "outputs": [],
   "source": [
    "le_prof = Personne()\n",
    "le_prof.nom = \"Bisognin\"\n",
    "le_prof.prenom = \"Rémi\"\n",
    "le_prof.bonjour()"
   ]
  },
  {
   "cell_type": "markdown",
   "metadata": {},
   "source": [
    "Lorsque les méthodes sont correctement définies dans les classes, elle sont ensuite plus facile d'utilisation car lorsqu'on veut faire une action avec un objet, on possède une liste de méthode qui réalise l'action appropriée pour chaque type d'objet.\n",
    "\n",
    "## exercice \n",
    "\n",
    "On souhaite manipuler la liste des amis d'une personne dans la classe Personne. Créer les attributs correspondant, puis les méthodes pour ajouter un ami et afficher un ami.\n",
    "\n",
    "Tester votre classe en créant une suite de Personne avec des liens d'amitiés.\n",
    "\n",
    "Ecrire une méthode qui permet de mettre à jour automatiquement les attributs d'une personne de manière à ce que : \"les amis de mes amis soient mes amis.\""
   ]
  },
  {
   "cell_type": "code",
   "execution_count": null,
   "metadata": {},
   "outputs": [],
   "source": []
  },
  {
   "cell_type": "markdown",
   "metadata": {},
   "source": [
    "Certaines méthodes spéciales existent avec des rôles prédéfinis.\n",
    "\n",
    "La méthode \\_\\_init__ sera appelée automatiquement lors de la création de l’objet. On peut l’utiliser pour initialiser\n",
    "des attributs."
   ]
  },
  {
   "cell_type": "code",
   "execution_count": null,
   "metadata": {},
   "outputs": [],
   "source": [
    "class Personne():\n",
    "    def __init__(self, nom=\"\", prenom=\"\"): #Initialisation avec possiblité de passer des attributs en argument.\n",
    "                                    #En l'absence d'argument les valeurs par défaut sont ici \"\" et \"\"\n",
    "        self.nom = nom\n",
    "        self.prenom = prenom\n",
    "    def bonjour(self):\n",
    "        print(\"Bonjour\", self.prenom, self.nom, '!')"
   ]
  },
  {
   "cell_type": "code",
   "execution_count": null,
   "metadata": {},
   "outputs": [],
   "source": [
    "le_prof = Personne(\"Bisognin\", \"Rémi\")\n",
    "le_prof.bonjour()"
   ]
  },
  {
   "cell_type": "markdown",
   "metadata": {},
   "source": [
    "La méthode \\_\\_repr__ sert a représenter l’objet sous forme d’une chaîne de caractère par la\n",
    "fonction print.\n",
    "\n",
    "En effet si on teste la fonction print sur l'objet ou l'objet directement on obtient un résultat peu lisible :"
   ]
  },
  {
   "cell_type": "code",
   "execution_count": null,
   "metadata": {},
   "outputs": [],
   "source": [
    "print(le_prof)"
   ]
  },
  {
   "cell_type": "code",
   "execution_count": null,
   "metadata": {},
   "outputs": [],
   "source": [
    "le_prof"
   ]
  },
  {
   "cell_type": "markdown",
   "metadata": {},
   "source": [
    "On peut vouloir modifier cette fonction pour afficher le nom complet"
   ]
  },
  {
   "cell_type": "code",
   "execution_count": null,
   "metadata": {},
   "outputs": [],
   "source": [
    "class Personne():\n",
    "    def __init__(self, nom=\"\", prenom=\"\"):\n",
    "        self.nom = nom\n",
    "        self.prenom = prenom\n",
    "    def bonjour(self):\n",
    "        print(\"Bonjour\", self.prenom, self.nom, '!')\n",
    "    def __repr__(self):\n",
    "        return self.prenom + \" \" + self.nom"
   ]
  },
  {
   "cell_type": "code",
   "execution_count": null,
   "metadata": {},
   "outputs": [],
   "source": [
    "le_prof = Personne(\"Bisognin\", \"Rémi\")\n",
    "print(le_prof)"
   ]
  },
  {
   "cell_type": "code",
   "execution_count": null,
   "metadata": {},
   "outputs": [],
   "source": [
    "le_prof"
   ]
  },
  {
   "cell_type": "markdown",
   "metadata": {},
   "source": [
    "Il existe aussi la possibilité de redéfinir des méthodes existantes, par exemple la méthode def \\_\\_add__(self,other): sera appelée par la commande self+other. La méthode def \\_\\_or__(self,other): sera appelée par la commande self|other.\n",
    "\n",
    "## exercice\n",
    "\n",
    "Ré-écrire la méthode d'ajout des amis tel que l'opération + ajoute les amis de deux personnes. Soit personne3 = personne2 + personne1, donne la personne3 est la personne2 avec les amis de la personne1 en plus."
   ]
  },
  {
   "cell_type": "code",
   "execution_count": null,
   "metadata": {},
   "outputs": [],
   "source": []
  },
  {
   "cell_type": "markdown",
   "metadata": {},
   "source": [
    "Enfin nous avons vu comment définir une classe d’objet. Dans cette classe, nous avons défini l’ensemble des attributs\n",
    "et des méthodes. Il est cependant possible d’hériter des méthodes d’une autre classe - ce qui permet\n",
    "d’avoir plusieurs classes possédant des méthodes identiques.\n",
    "\n",
    "Continuons notre exemple de personne: suivant la nationalité, je souhaite pouvoir écrire un message de bonjour\n",
    "différent. Pour cela, je vais créer une classe PersonneFrancaise et PersonneAnglaise qui hérite des attributs et méthodes de la classe Personne, mais qui ont chacune une méthode bonjour() adaptée à la nationnalité de la personne."
   ]
  },
  {
   "cell_type": "code",
   "execution_count": null,
   "metadata": {},
   "outputs": [],
   "source": [
    "class Personne():\n",
    "    def __init__(self, nom=\"\", prenom=\"\"):\n",
    "        self.nom = nom\n",
    "        self.prenom = prenom\n",
    "        self.liste_ami = set()\n",
    "    def __repr__(self):\n",
    "        return self.prenom + \" \" + self.nom\n",
    "\n",
    "class PersonneAnglaise(Personne):\n",
    "    def bonjour(self):\n",
    "        print(\"Hello\", self.prenom, self.nom, '!')\n",
    "\n",
    "class PersonneFrancaise(Personne):\n",
    "    def bonjour(self):\n",
    "        print(\"Bonjour\", self.prenom, self.nom, '!')"
   ]
  },
  {
   "cell_type": "code",
   "execution_count": null,
   "metadata": {},
   "outputs": [],
   "source": [
    "la_prof = PersonneAnglaise(prenom=\"Mme\", nom=\"Guilheneuf\")\n",
    "la_prof.bonjour()"
   ]
  },
  {
   "cell_type": "code",
   "execution_count": null,
   "metadata": {},
   "outputs": [],
   "source": [
    "le_prof = PersonneFrancaise(prenom=\"Rémi\", nom=\"Bisognin\")\n",
    "le_prof.bonjour()"
   ]
  },
  {
   "cell_type": "markdown",
   "metadata": {},
   "source": [
    "Cette propriétée d'hériatage permet d'éviter à l'auteur du programme d'avoir à recopier l'ensemble des attributs et méthodes pré-existante.\n",
    "\n",
    "Et il permet à l'utilisateur de ne pas avoir besoin de savoir si le_prof ou la_prof est anglais ou français, .bonjour() sera toujours la méthode adaptée à l'objet."
   ]
  },
  {
   "cell_type": "markdown",
   "metadata": {},
   "source": [
    "# Exercice : une classe de vecteur\n",
    "\n",
    "On souhaite effectuer des calculs vectoriel en 3D en python. Définir une classe d'objet vecteur qui représente un vecteur par une liste de ses trois composantes. On pourra hériter des propriétés des objets de la classe list et définir des méthodes de calcul vectoriel comme le produit scalaire, la norme, les produits scalaires et vectoriels. On remarquera que la somme + de deux listes est une méthode pré-définie pour les listes qui consiste à concatener deux listes. Or la somme de deux vecteurs est une méthode différente, on modifiera la méthode + pour un objet vecteur.\n",
    "\n",
    "Testez votre classe pour faire des opérations entre vecteur."
   ]
  },
  {
   "cell_type": "code",
   "execution_count": null,
   "metadata": {},
   "outputs": [],
   "source": []
  },
  {
   "cell_type": "markdown",
   "metadata": {},
   "source": [
    "# Exercice : Impédance complexe d'un dipôle électrique\n",
    "\n",
    "L'objectif est de calculer à l'aide de python l'impédance équivalente de n'importe quel dipôle consistué d'une association de résistance, condensateur et bobine.\n",
    "\n",
    "Créez des classes dipôle, résistance, bobine, ... et les méthodes de tracer des impédances complexes et des lois d'association série et parallèle. On cherchera à ce qu'un utilisateur puisse rapidement calculer et afficher l'impédance complexe du dipôle équivalent d'un circuit."
   ]
  },
  {
   "cell_type": "code",
   "execution_count": null,
   "metadata": {},
   "outputs": [],
   "source": []
  },
  {
   "cell_type": "markdown",
   "metadata": {},
   "source": [
    "# Interfaces graphiques\n",
    "\n",
    "Nous allons dans cette partie reconnaître le caractère orienté objet dans la réalisation d'interfaces graphiques à l'aide de la bibliothèque tkinter."
   ]
  },
  {
   "cell_type": "code",
   "execution_count": null,
   "metadata": {},
   "outputs": [],
   "source": [
    "from tkinter import * \n",
    "\n",
    "fenetre = Tk()\n",
    "\n",
    "label = Label(fenetre, text=\"Hello World\")\n",
    "label.pack()\n",
    "\n",
    "fenetre.mainloop()"
   ]
  },
  {
   "cell_type": "markdown",
   "metadata": {},
   "source": [
    "Executer les lignes de commandes ci-dessus et en déduire quels sont les objets, attributs et méthodes utilisés.\n",
    "\n",
    "La bibliothèque tkinter est très utiles pour créer des interfaces graphiques car elle possède de nombreux widgets. Un widget est un élément graphique que l'on vient rajouter à la fenêtre de notre interface utilisateur.\n",
    "\n",
    "On reconnaîtra pour chaque widgets une structure de la forme \n",
    "\n",
    "un_widget = UnWidget(widget_parent, un_parametre='une_valeur')\n",
    "\n",
    "On a déjà utilisé un widget celui d'un Label pour écrire le message Hello World.\n",
    "\n",
    "On peut voir d'autre widget qui permettent à l'utilisateur d'interagir avec la fenêtre comme par exemple par l'utilisation d'un bouton."
   ]
  },
  {
   "cell_type": "code",
   "execution_count": null,
   "metadata": {},
   "outputs": [],
   "source": [
    "fenetre = Tk()\n",
    "\n",
    "bouton=Button(fenetre, text=\"Fermer\", command=fenetre.quit)\n",
    "bouton.pack()\n",
    "\n",
    "fenetre.mainloop()"
   ]
  },
  {
   "cell_type": "markdown",
   "metadata": {},
   "source": [
    "Il y a aussi plein d'autres éléments graphiques pour permettre à l'utilisateur d'intéragir avec l'interface graphique, à vous de choisir."
   ]
  },
  {
   "cell_type": "code",
   "execution_count": null,
   "metadata": {},
   "outputs": [],
   "source": [
    "# checkbutton\n",
    "bouton = Checkbutton(fenetre, text=\"Nouveau?\")\n",
    "bouton.pack()\n",
    "\n",
    "# entrée\n",
    "value = StringVar() \n",
    "value.set(\"texte par défaut\")\n",
    "entree = Entry(fenetre, textvariable=string, width=30)\n",
    "entree.pack()\n",
    "\n",
    "# radiobutton\n",
    "value = StringVar() \n",
    "bouton1 = Radiobutton(fenetre, text=\"Oui\", variable=value, value=1)\n",
    "bouton2 = Radiobutton(fenetre, text=\"Non\", variable=value, value=2)\n",
    "bouton3 = Radiobutton(fenetre, text=\"Peu être\", variable=value, value=3)\n",
    "bouton1.pack()\n",
    "bouton2.pack()\n",
    "bouton3.pack()"
   ]
  },
  {
   "cell_type": "markdown",
   "metadata": {},
   "source": [
    "Vous pouvez aussi vouloir en placer plusieurs à la fois soit sans rien préciser et ils seront placé automatiquement, soit en utilisant la méthode .grid(column = 0, row = 0) qui place les widgets sur des lignes et colonnes numérotés.\n",
    "\n",
    "Par exemple le programme ci-dessous place le message \"Hello\" \"World\" à la suite au à la ligne."
   ]
  },
  {
   "cell_type": "code",
   "execution_count": null,
   "metadata": {},
   "outputs": [],
   "source": [
    "fenetre = Tk()\n",
    "\n",
    "label1 = Label(fenetre, text=\"Hello\")\n",
    "label1.grid(column=0, row=0)\n",
    "label2 = Label(fenetre, text=\"World\")\n",
    "label2.grid(column=1, row=0)\n",
    "\n",
    "fenetre.mainloop()"
   ]
  },
  {
   "cell_type": "code",
   "execution_count": null,
   "metadata": {},
   "outputs": [],
   "source": [
    "fenetre = Tk()\n",
    "\n",
    "label1 = Label(fenetre, text=\"Hello\")\n",
    "label1.grid(column=0, row=0)\n",
    "label2 = Label(fenetre, text=\"World\")\n",
    "label2.grid(column=0, row=1)\n",
    "\n",
    "fenetre.mainloop()"
   ]
  },
  {
   "cell_type": "markdown",
   "metadata": {},
   "source": [
    "En explorant la documentation de tkinter vous pouvez explorer toutes les possibilités de réalisation. Ci-dessous deux exemples:\n",
    "\n",
    "- une fenêtre de calculatrice.\n",
    "\n",
    "- une application pour montrer le code couleur d'une résistance à partir de sa valeur.\n",
    "\n",
    "On pourra essayer de reconnaître le fonctionnement de chaque application.\n",
    "\n",
    "Puis on pourra modifier la calculatrice pour essayer de faire une calculatrice avec des boutons."
   ]
  },
  {
   "cell_type": "code",
   "execution_count": null,
   "metadata": {},
   "outputs": [],
   "source": [
    "from math import *\n",
    "\n",
    "def evaluer(event) :\n",
    "    chaine.configure(text = '=> ' + str(eval(entree.get())))\n",
    "\n",
    "# Programme principal ~~~~~~~~~~~~~~~~~~~~~~~~~~~~~~~~~~~~~~~~~~~~~~~~~~~~~~~~\n",
    "fenetre = Tk()\n",
    "entree = Entry(fenetre)\n",
    "entree.bind('<Return>', evaluer)\n",
    "chaine = Label(fenetre)\n",
    "entree.pack()\n",
    "chaine.pack()\n",
    "\n",
    "fenetre.mainloop()"
   ]
  },
  {
   "cell_type": "code",
   "execution_count": null,
   "metadata": {},
   "outputs": [],
   "source": [
    "class Application:\n",
    "    def __init__(self):\n",
    "        \"\"\"Constructeur de la fenêtre principale\"\"\"\n",
    "        self.root =Tk()\n",
    "        self.root.title('Code des couleurs')\n",
    "        self.dessineResistance()\n",
    "        Label(self.root,\n",
    "              text =\"Entrez la valeur de la résistance, en ohms :\").grid(row =2)\n",
    "        Button(self.root, text ='Montrer',\n",
    "               command =self.changeCouleurs).grid(row =3, sticky = W)\n",
    "        Button(self.root, text ='Quitter',\n",
    "               command =self.root.quit).grid(row =3, sticky = E)\n",
    "        self.entree = Entry(self.root, width =14)\n",
    "        self.entree.grid(row =3)\n",
    "        # Code des couleurs pour les valeurs de zéro à neuf :\n",
    "        self.cc = ['black','brown','red','orange','yellow',\n",
    "                   'green','blue','purple','grey','white']\n",
    "        self.root.mainloop()\n",
    "\n",
    "    def dessineResistance(self):\n",
    "        \"\"\"Canevas avec un modèle de résistance à trois lignes colorées\"\"\"\n",
    "        self.can = Canvas(self.root, width=250, height =100, bg ='ivory')\n",
    "        self.can.grid(row =1, pady =5, padx =5)\n",
    "        self.can.create_line(10, 50, 240, 50, width =5)        # fils\n",
    "        self.can.create_rectangle(65, 30, 185, 70, fill ='light grey', width =2)\n",
    "        # Dessin des trois lignes colorées (noires au départ) :\n",
    "        self.ligne =[]           # on mémorisera les trois lignes dans 1 liste\n",
    "        for x in range(85,150,24):\n",
    "            self.ligne.append(self.can.create_rectangle(x, 30, x+12, 70, fill='black', width=0))\n",
    "\n",
    "    def changeCouleurs(self):\n",
    "        \"\"\"Affichage des couleurs correspondant à la valeur entrée\"\"\"\n",
    "        self.v1ch = self.entree.get()     # la méthode get() renvoie une chaîne\n",
    "        try:\n",
    "            v = float(self.v1ch)          # conversion en valeur numérique\n",
    "        except:\n",
    "            err =1                        # erreur : entrée non numérique\n",
    "        else:\n",
    "            err =0\n",
    "        if err ==1 or v < 10 or v > 1e11 :\n",
    "            self.signaleErreur()          # entrée incorrecte ou hors limites\n",
    "        else:\n",
    "            li =[0]*3                     # liste des 3 codes à afficher\n",
    "            logv = int(log10(v))          # partie entière du logarithme\n",
    "            ordgr = 10**logv              # ordre de grandeur\n",
    "            # extraction du premier chiffre significatif :\n",
    "            li[0] = int(v/ordgr)          # partie entière\n",
    "            decim = v/ordgr - li[0]       # partie décimale\n",
    "            # extraction du second chiffre significatif :\n",
    "            li[1] = int(decim*10 +.5)     # +.5 pour arrondir correctement\n",
    "            # nombre de zéros à accoler aux 2 chiffres significatifs :\n",
    "            li[2] = logv -1\n",
    "            # Coloration des 3 lignes :\n",
    "            for n in range(3):\n",
    "                self.can.itemconfigure(self.ligne[n], fill =self.cc[li[n]])\n",
    "\n",
    "    def signaleErreur(self):\n",
    "        self.entree.configure(bg ='red')  # colorer le fond du champ\n",
    "        self.root.after(1000, self.videEntree) # après 1 seconde, effacer\n",
    "\n",
    "    def videEntree(self):\n",
    "        self.entree.configure(bg ='white')     # rétablir le fond blanc\n",
    "        self.entree.delete(0, len(self.v1ch))  # enlever les car. présents\n",
    "\n",
    "# Programme principal :\n",
    "f = Application()        # instanciation de l'objet application"
   ]
  },
  {
   "cell_type": "code",
   "execution_count": null,
   "metadata": {},
   "outputs": [],
   "source": []
  }
 ],
 "metadata": {
  "kernelspec": {
   "display_name": "Python 3",
   "language": "python",
   "name": "python3"
  },
  "language_info": {
   "codemirror_mode": {
    "name": "ipython",
    "version": 3
   },
   "file_extension": ".py",
   "mimetype": "text/x-python",
   "name": "python",
   "nbconvert_exporter": "python",
   "pygments_lexer": "ipython3",
   "version": "3.7.3"
  }
 },
 "nbformat": 4,
 "nbformat_minor": 2
}
