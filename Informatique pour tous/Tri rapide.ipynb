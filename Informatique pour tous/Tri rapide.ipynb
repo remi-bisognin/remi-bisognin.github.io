{
 "cells": [
  {
   "cell_type": "markdown",
   "metadata": {},
   "source": [
    "# Principe\n",
    "\n",
    "Le tri rapide est basée sur un élément de la liste appelé pivot. Cet élément pivot a deux fonctions :\n",
    "- il est placé à sa place finale dans la liste à chaque appel.\n",
    "- il divise la liste en deux sous listes qui sont triées de manière récursive par la même fonction.\n",
    "\n",
    "On commence par choisir au hasard un élément pivot p par exemple le premier élément de la liste initiale L avec p = L[0].\n",
    "\n",
    "On a donc pour une liste de taille n, une liste à trier L = [ p, L[1], L[2], ... , L[n-1] ].\n",
    "\n",
    "Le pivot se trouve à sa place finale quand tous les éléments qui le précédent lui sont inférieurs, et tous les éléments qui le succèdent lui sont supérieurs. Pour arriver à ce résultat, on compare p avec tous les autres éléments L[i] allant de L[1] jusqu'à L[n-1]. Si L[i] est inférieur à p, alors on le déplace avant p, si L[i] est supérieur à p, alors on le laisse après p.\n",
    "\n",
    "On a donc une liste L = [L[a], L[b], ... , p, L[$\\alpha$], L[$\\beta$], ...  ] avec tous les éléments L[a], L[b], ... $\\leq$ p $\\leq$ L[$\\alpha$], L[$\\beta$], ...\n",
    "\n",
    "Cette liste peut être séparée en deux autour du pivot comme L = [ L_1, p, L_2 ], comme tous les éléments de L_1 sont inférieur à p qui est inférieur à tous les éléments de L_2, il n'y a pas de fusion à faire L_1, p, et L_2 sont bien ordonnées. Par contre il faut trier L_1 et L_2, pour cela la fonction de tri rapide s'appelle elle même pour trier L_1 et L_2.\n",
    "\n",
    "On réalise un appel récursif, il faut donc prévoir un cas d'arrêt. Ici si L est de taille 1 ou 0, on a rien à faire la liste est déjà triée ou vide.\n",
    "\n",
    "Il faut aussi prévoir la terminaison de l'algorithme. Ici la taille de la liste à trier décroit d'au moins 1 à chaque appel récursif jusqu'à atteindre le cas d'arrêt 0 ou 1. En effet le pivot est retiré de la liste à trier à chaque appel ce qui diminue la taille de la liste restante d'au moins 1. Et la taille n d'une liste est un entier positif donc on atteint bien le cas d'arrêt et en un nombre fini d'appel.\n",
    "\n",
    "\n",
    "# Exemple de tri rapide\n",
    "\n",
    "Déroulons les opérations sucessives du tri rapide sur un exemple $L = [14, \\; 1, \\; 4, \\; 3 ]$:\n",
    "\n",
    "- on choisit le pivot p = L[0] = 14\n",
    "- on compare p et L[1] = 1, 1 < 14, donc on réarrangera L en [1, 14, ... ]\n",
    "- on compare p et L[2] = 4, 4 < 14 donc on réarrangera L en [1, 4, 14, ... ]\n",
    "- on compare p et L[3] = 3, 3 < 14 donc on réarrangera L en [1, 4, 3, 14 ]\n",
    "- on obtient L = [1, 4, 3, 14 ], on divise L en [L_1, p, L_2] avec L_1 = [1, 4, 3] et L_2 = []\n",
    "- L_2 est vide donc est déjà triée c'est le cas d'arrêt\n",
    "- on choisit le pivot p_1 = L_1[0] = 1\n",
    "- on compare p_1 et L_1[1] = 4, 1 < 4 donc on laissera [1, 4, ... ]\n",
    "- on compare p_1 et L_1[2] = 3, 1 < 3 donc on laissera [1, 4, 3]\n",
    "- on obtient L_1 = [1, 4, 3], on divise L_1 en [L_{11}, p_1, L_{12}] avec L_{11} = [] et L_{12} = [4, 3]\n",
    "- L_{11} est vide donc déjà triée c'est le cas d'arrêt\n",
    "- on choisit le pivot p_{12} = L_{12}[0] = 4\n",
    "- on compare p_{12} et L_{12}[1] = 3, 3 < 4 donc on réangerra L_{12} en [3, 4]\n",
    "- on obtient L_{12} = [3, 4], on divise L_{12} en [L_{121}, p_{12}, L_{122}] avec L_{121} = [3] et L_{122} = []\n",
    "- L_{122} est vide c'est le cas d'arrêt et L_{121} est déjà triée donc c'est le deuxième cas d'arrêt.\n",
    "- on dépile la pile d'appel récursif:\n",
    "    - L_{121} = [3], p_{12} = 4, L_{122} = [] donc L_{12} = [3, 4]\n",
    "    - L_{11} = [], p_1 = 1, L_{12} = [3, 4] donc L_1 = [1, 3, 4]\n",
    "    - L_1 = [1, 3, 4], p = 14, L_2 = [] donc L = [1, 3, 4, 14]\n",
    "\n",
    "    \n",
    "# Réalisation\n",
    "\n",
    "Ecrivons l'algorithme de tri en le décomposant en chaque fonction élémentaire.\n",
    "\n",
    "La première fonction consiste à choisir et placer le pivot dans la portion de liste entre les indices debut et fin.\n",
    "\n",
    "Cette fonction renvoie un tuple avec la nouvelle position du pivot et la liste avec le pivot positionné."
   ]
  },
  {
   "cell_type": "code",
   "execution_count": 2,
   "metadata": {},
   "outputs": [],
   "source": [
    "def positionnement_pivot(L,debut,fin):\n",
    "    p = L[debut]\n",
    "    j = debut\n",
    "    for i in range(debut,fin):\n",
    "        if p > L[i] :\n",
    "            L = L[:j]+[L[i]]+L[j:i]+L[i+1:]\n",
    "            j +=1\n",
    "            \n",
    "    return j,L"
   ]
  },
  {
   "cell_type": "markdown",
   "metadata": {},
   "source": [
    "On peut par exemple positionner le pivot de $L = [14, \\; 1, \\; 4, \\; 3 ]$ avec:"
   ]
  },
  {
   "cell_type": "code",
   "execution_count": 3,
   "metadata": {},
   "outputs": [
    {
     "data": {
      "text/plain": [
       "(3, [1, 4, 3, 14])"
      ]
     },
     "execution_count": 3,
     "metadata": {},
     "output_type": "execute_result"
    }
   ],
   "source": [
    "L = [14, 1, 4, 3]\n",
    "positionnement_pivot(L,0,len(L))"
   ]
  },
  {
   "cell_type": "markdown",
   "metadata": {},
   "source": [
    "La deuxième fonction constitue l'appel récursif du tri rapide.\n",
    "\n",
    "Elle effectue le tri rapide complet sur la portion de tableau allant de debut à fin."
   ]
  },
  {
   "cell_type": "code",
   "execution_count": 4,
   "metadata": {},
   "outputs": [],
   "source": [
    "def tri_rapide_rec(L,debut,fin):\n",
    "    if debut+1>=fin :\n",
    "        return L\n",
    "    else :\n",
    "        j,L = positionnement_pivot(L,debut,fin)\n",
    "        debut_1 = debut\n",
    "        fin_1 = j\n",
    "        L = tri_rapide_rec(L,debut_1,fin_1)\n",
    "        debut_2 = j+1\n",
    "        fin_2 = fin\n",
    "        L = tri_rapide_rec(L,debut_2,fin_2)\n",
    "        return L\n",
    "  "
   ]
  },
  {
   "cell_type": "markdown",
   "metadata": {},
   "source": [
    "On peut par exemple l'appeler pour [14, 1, 4, 3] entre 0 et 4"
   ]
  },
  {
   "cell_type": "code",
   "execution_count": 5,
   "metadata": {},
   "outputs": [
    {
     "data": {
      "text/plain": [
       "[1, 3, 4, 14]"
      ]
     },
     "execution_count": 5,
     "metadata": {},
     "output_type": "execute_result"
    }
   ],
   "source": [
    "L = [14, 1, 4, 3]\n",
    "tri_rapide_rec(L,0,4)"
   ]
  },
  {
   "cell_type": "markdown",
   "metadata": {},
   "source": [
    "La fonction tri rapide est donc simplement l'exécution de l'appel récursif sur l'ensemble du tableau"
   ]
  },
  {
   "cell_type": "code",
   "execution_count": 6,
   "metadata": {},
   "outputs": [],
   "source": [
    "def tri_rapide(L) :\n",
    "    L = tri_rapide_rec(L,0,len(L))\n",
    "    return L"
   ]
  },
  {
   "cell_type": "code",
   "execution_count": 7,
   "metadata": {},
   "outputs": [
    {
     "data": {
      "text/plain": [
       "[1, 3, 4, 14]"
      ]
     },
     "execution_count": 7,
     "metadata": {},
     "output_type": "execute_result"
    }
   ],
   "source": [
    "L = [14, 1, 4, 3]\n",
    "tri_rapide(L)"
   ]
  },
  {
   "cell_type": "markdown",
   "metadata": {},
   "source": [
    "par exemple on peut visualiser les différentes étapes du tri de la liste $[14 \\; 1 \\; 4 \\; 3 ]$ avec les lignes de commandes suivantes"
   ]
  },
  {
   "cell_type": "code",
   "execution_count": 6,
   "metadata": {},
   "outputs": [
    {
     "name": "stdout",
     "output_type": "stream",
     "text": [
      "[14, 1, 4, 3]\n",
      "[1, 14, 4, 3]\n",
      "[1, 4, 14, 3]\n",
      "[1, 4, 3, 14]\n",
      "[1, 4, 3, 14]\n",
      "[1, 3, 4, 14]\n"
     ]
    },
    {
     "data": {
      "text/plain": [
       "[1, 3, 4, 14]"
      ]
     },
     "execution_count": 6,
     "metadata": {},
     "output_type": "execute_result"
    }
   ],
   "source": [
    "def positionnement_pivot_visualisation(L,debut,fin):\n",
    "    p = L[debut]\n",
    "    j = debut\n",
    "    for i in range(debut,fin):\n",
    "        if p > L[i] :\n",
    "            L = L[:j]+[L[i]]+L[j:i]+L[i+1:]\n",
    "            j +=1\n",
    "        print(L)\n",
    "    return j,L\n",
    "\n",
    "def tri_rapide_rec_visualisation(L,debut,fin):\n",
    "    if debut+1>=fin :\n",
    "        return L\n",
    "    else :\n",
    "        j,L = positionnement_pivot_visualisation(L,debut,fin)\n",
    "        print(L)\n",
    "        debut_1 = debut\n",
    "        fin_1 = j\n",
    "        L = tri_rapide_rec(L,debut_1,fin_1)\n",
    "        debut_2 = j+1\n",
    "        fin_2 = fin\n",
    "        L = tri_rapide_rec(L,debut_2,fin_2)\n",
    "        return L\n",
    "\n",
    "def tri_rapide_visualisation(L) :\n",
    "    L = tri_rapide_rec_visualisation(L,0,len(L))\n",
    "    print(L)\n",
    "    return L\n",
    "\n",
    "L = [14, 1, 4, 3]\n",
    "tri_rapide_visualisation(L)"
   ]
  },
  {
   "cell_type": "markdown",
   "metadata": {},
   "source": [
    "# Complexité temporelle\n",
    "\n",
    "Le positionnement du pivot dépend de la liste initiale, on se retrouve à nouveau dans le cas d'une étude de la complexité qui peut varier selon que l'on est dans le pire des cas ou le meilleur des cas.\n",
    "\n",
    "## Calcul de la complexité dans le meilleur des cas\n",
    "\n",
    "Le meilleur des cas est une liste pour laquelle le pivot se place au centre de la liste de taille n et la divise en deux listes de taille n/2.\n",
    "\n",
    "Le nombre d'opérations à effectuer est alors de $n-1$ pour le positionnement du pivot puis toutes les opérations pour trier les deux listes de taille n/2, soit $2\\times C(n/2)$.\n",
    "\n",
    "On a donc une relation de récurrence $C(n) = 2C(n/2)+n-1$, comme pour le tri par fusion.\n",
    "\n",
    "Dans le meilleur des cas, nous avons de même que pour le tri fusion une complexité $C(n) = O(n\\log n )$, soit une complexité quasi-linéaire.\n",
    "\n",
    "## Calcul de la complexité dans le pire des cas\n",
    "\n",
    "Le pire des cas est une liste pour laquelle le pivot se place en début ou en fin de la liste initiale et la divise en deux listes de taille 0 et n.\n",
    "\n",
    "Le nombre d'opération à effectuer est alors de $n-1$ pour le positionnement du pivot puis toutes les opérations pour trier une liste de taille n-1, soit $n-1$.\n",
    "\n",
    "On a donc une relation de récurrence $C(n) = n-1+C(n-1)$. Si on développe le calcul de la relation de récurrence $C(n) = n-1+C(n-1) = n-1 + n-2 + C(n-2) = n-1 + n-2 + n-3 + ... + 1 + C(1) = \\sum_{i = n-1}^{1} i = \\dfrac{(n-1)(n-2)}{2}$.\n",
    "\n",
    "Dans le pire des cas nous avons de même que pour le tri par insertion une complexité $C(n) = O(n^2)$, soit une complexité quadratique."
   ]
  },
  {
   "cell_type": "markdown",
   "metadata": {},
   "source": [
    "# Exercices\n",
    "\n",
    "## exercice : meilleur et pire des cas\n",
    "\n",
    "- Dérouler chaque étape de l’algorithme de tri rapide sur la liste $[15,4,2,9,55,16,0,1]$\n",
    "\n",
    "- Ecrire cette même liste où les éléments sont ordonnés dans le meilleur des cas et dérouler chaque étape de son tri\n",
    "\n",
    "- Ecrire cette même liste où les éléments sont ordonnés dans le pire des cas et dérouler chaque étape de son tri"
   ]
  },
  {
   "cell_type": "markdown",
   "metadata": {},
   "source": [
    "## exercice : calcul numérique de la complexité temporelle\n",
    "\n",
    "- à l'aide de tirage au sort successif de liste de différentes tailles, mesurer numériquement le temps mis pour l'exécution du tri rapide sur ces listes et tracer le temps d'éxécution en fonction de la taille des listes à trier.\n",
    "\n",
    "- est-ce cohérent avec le calcul de complexité effectué précédemment ?"
   ]
  },
  {
   "cell_type": "markdown",
   "metadata": {},
   "source": [
    "## exercice : complexité spatiale\n",
    "\n",
    "- calculer la complexité spatiale d'un algorithme de tri rapide"
   ]
  },
  {
   "cell_type": "markdown",
   "metadata": {},
   "source": [
    "## exercice : tri rapide avec pivot en sentinelle\n",
    "\n",
    "Dans cet exercice nous allons programmer une version du tri rapide différent de celui présenté plus haut.\n",
    "\n",
    "Un pivot est toujours choisit dans la liste, mais nous allons considérer une autre méthode pour trier les deux sous listes d'élément inférieur et supérieur au pivot.\n",
    "\n",
    "Au cours de l'organisation des éléments autour du pivot la liste est orientée comme suit :\n",
    "\n",
    "L = [ p, L[1], L[2], ... , L[i-1], L[i], ... , L[j-1], L[j], ... ]\n",
    "\n",
    "avec p le pivot,\n",
    "\n",
    "tous les éléments de L[1] à L[i-1] sont inférieurs à p,\n",
    "\n",
    "tous les éléments de L[i] à L[j-1] sont encore inconnus,\n",
    "\n",
    "tous les éléments de L[j] jusqu'à la fin de la liste sont supérieurs à p.\n",
    "\n",
    "\n",
    "Considérons l’algorithme suivant prenant en entrée 1 une liste.\n",
    "\n",
    "(0) Choisir pour pivot le premier élément de la liste. Initialiser judicieusement les variables i et j.\n",
    "\n",
    "(1) Augmenter i tant que ça ne modifie pas l’organisation de la liste.\n",
    "\n",
    "(2) Diminuer j tant que ça ne brise pas l’organisation de la liste.\n",
    "\n",
    "(3) Si la zone de points d’interrogation est vide, arrêter l’algorithme et renvoyer i.\n",
    "\n",
    "(4) Échanger L[i] et L[j], augmenter i de 1 et diminuer j de 1.\n",
    "\n",
    "(5) Retourner à l’étape (1).\n",
    "\n",
    "- Écrire une fonction implémentant cet algorithme en Python.\n",
    "- Pourquoi l’étape (4) de l’algorithme conserve toujours la bonne organisation de la liste ?\n",
    "- Quelle est la complexité de cette fonction ?\n",
    "- Utiliser cette fonction pour écrire une fonction permettant d’implémenter le tri rapide comme vu plus haut."
   ]
  }
 ],
 "metadata": {
  "kernelspec": {
   "display_name": "Python 3",
   "language": "python",
   "name": "python3"
  },
  "language_info": {
   "codemirror_mode": {
    "name": "ipython",
    "version": 3
   },
   "file_extension": ".py",
   "mimetype": "text/x-python",
   "name": "python",
   "nbconvert_exporter": "python",
   "pygments_lexer": "ipython3",
   "version": "3.7.3"
  }
 },
 "nbformat": 4,
 "nbformat_minor": 2
}
