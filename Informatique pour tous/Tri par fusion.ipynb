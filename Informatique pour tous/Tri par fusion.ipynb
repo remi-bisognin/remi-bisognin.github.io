{
 "cells": [
  {
   "cell_type": "markdown",
   "metadata": {},
   "source": [
    "# Principe\n",
    "\n",
    "Le tri fusion est une méthode de tri récursive.\n",
    "\n",
    "Pour trier une liste L de taille n :\n",
    "\n",
    "- elle divise d'abord la liste en deux sous-liste de taille n/2, par exemple L_1 = L[:n//2] et L_2 = L[n//2:]\n",
    "- elle s'appelle elle même pour trier les deux sous-listes de taille n/2, tri_fusion(L_1) et tri_fusion(L_2)\n",
    "- elle fusionne les deux sous-listes triées pour obtenir L.\n",
    "    \n",
    "Comme toute fonction récursive, elle doit avoir un critère d'arrêt : ici il s'agit d'une liste de taille n=1, c'est une liste déjà triée. Et on doit s'assurer de la terminaison du programme : ici le critère d'arrêt est atteint pour une taille de liste en argument de 1, et la taille des listes appelées est divisée par 2 à chaque appel récursif donc on atteint bien le critère d'arrêt. En effet on appelle tri fusion pour une liste de taille n, puis n/2, puis n/4, ... , 1.\n",
    "\n",
    "L'opération de division de la liste à trier en deux est réalisée grace aux opérations sur les indices.\n",
    "\n",
    "L'opération de fusion consiste à remplir successivement la liste finale avec le plus petit élément entre les deux sous-listes déjà triés. La liste finale se remplie alors du plus petit élément au plus grand. Cette procédure peut se faire car les sous-listes étant déjà triées, on a accès à leur plus petit élément comm étant le premier élément de la sous-liste.\n",
    "\n",
    "Cette procédure d'appel récursif pour des objets de taille divisé par 2 à chaque appel, est appelée diviser pour régner. On \"divise\" le problème en triant séparement chaque moitié de liste, on \"règne\" en fusionnant les deux sous-listes plus facile à trier séparement.\n",
    "\n",
    "# Exemple de tri par fusion\n",
    "\n",
    "Déroulons les opérations sucessives du tri par fusion sur un exemple $L = [14, \\; 1, \\; 4, \\; 3 ]$:\n",
    "\n",
    "- on n'est pas au cas d'arrêt donc on divise L -> L_1 = [14, 1] et L_2 = [4, 3]\n",
    "- on n'est pas au cas d'arrêt donc on divise L_1 -> L_{11} = [14] et L_{12} = [1] et L_2 -> L_{21} = [4] et L_{22} = [3]\n",
    "- on est au cas d'arrêt les sous-listes L_{11}, L_{12}, L_{21}, et L_{22} sont déjà triées\n",
    "- on fusionne L_{11} = [14] et L_{12} = [1] comme L_{11} = 14 > L_{12} =1 on a L_1 = [L_{12}, L_{11}] = [1, 14]\n",
    "- on fusionne L_{21} = [4] et L_{22} = [3] comme L_{21} = 4 > L_{22} = 3 on a L_2 = [L_{22}, L_{21}] = [3, 4]\n",
    "- on fusionne L_1 = [1, 14] et L_2 = [3, 4] en plusieurs étapes :\n",
    "    - comme 1 < 3 on rempli L avec 1 donc L = [1]\n",
    "    - puis on compare [14] et [3, 4]: comme 14 > 3 on rempli L avec 3 donc L = [1, 3]\n",
    "    - puis on compare [14] et [4]: comme 14 > 4 on rempli L avec 4 donc L = [1, 3, 4]\n",
    "    - enfin on place 14 donc L = [1, 3, 4, 14]\n",
    "    \n",
    "# Réalisation\n",
    "\n",
    "Ecrivons l'algorithme de tri en le décomposant en chaque fonction élémentaire.\n",
    "\n",
    "La première fonction doit diviser une liste en deux sous-listes de taille moitiés.\n",
    "\n",
    "La foncion ci-dessous prend en argument une liste L de taille n>1 et renvoie un tuple formé de deux listes de taille n/2"
   ]
  },
  {
   "cell_type": "code",
   "execution_count": 1,
   "metadata": {},
   "outputs": [],
   "source": [
    "def diviser(L):\n",
    "    n = len(L)\n",
    "    milieu = n//2\n",
    "    return L[:milieu], L[milieu:]"
   ]
  },
  {
   "cell_type": "markdown",
   "metadata": {},
   "source": [
    "on peut par exemple diviser $L = [14, \\; 1, \\; 4, \\; 3 ]$ avec:"
   ]
  },
  {
   "cell_type": "code",
   "execution_count": 2,
   "metadata": {},
   "outputs": [
    {
     "name": "stdout",
     "output_type": "stream",
     "text": [
      "([14, 1], [4, 3])\n"
     ]
    }
   ],
   "source": [
    "L = [14, 1, 4, 3]\n",
    "print(diviser(L))"
   ]
  },
  {
   "cell_type": "markdown",
   "metadata": {},
   "source": [
    "Pour fusionner les deux listes déjà triées L_1 et L_2 on parcourt L_1 et L_2 avec deux indices i et j. On compare les éléments L_1[i] et L_2[j] et on rempli la liste à retourner avec le plus petit élément et on incrémente l'indice correspondant. "
   ]
  },
  {
   "cell_type": "code",
   "execution_count": 3,
   "metadata": {},
   "outputs": [],
   "source": [
    "def fusion(L_1,L_2) :\n",
    "    i=0\n",
    "    j=0\n",
    "    L = []\n",
    "    while (i<len(L_1))and(j<len(L_2)):\n",
    "        if L_1[i]<L_2[j] :\n",
    "            L.append(L_1[i])\n",
    "            i += 1\n",
    "        else :\n",
    "            L.append(L_2[j])\n",
    "            j +=1\n",
    "    if i == len(L_1) :\n",
    "        L += L_2[j:]\n",
    "    elif j == len(L_2) :\n",
    "        L += L_1[i:]\n",
    "    return L"
   ]
  },
  {
   "cell_type": "markdown",
   "metadata": {},
   "source": [
    "On peut par exemple fusionner L_1=[1, 14] et L_2=[3, 4]"
   ]
  },
  {
   "cell_type": "code",
   "execution_count": 4,
   "metadata": {},
   "outputs": [
    {
     "name": "stdout",
     "output_type": "stream",
     "text": [
      "[1, 3, 4, 14]\n"
     ]
    }
   ],
   "source": [
    "L_1 = [1, 14]\n",
    "L_2 = [3, 4]\n",
    "print(fusion(L_1,L_2))"
   ]
  },
  {
   "cell_type": "markdown",
   "metadata": {},
   "source": [
    "La fonction tri fusion devient avec le cas d'arrêt taille de la liste égal à 1"
   ]
  },
  {
   "cell_type": "code",
   "execution_count": 5,
   "metadata": {},
   "outputs": [],
   "source": [
    "def tri_fusion(L):\n",
    "    if len(L) == 1:\n",
    "        return L\n",
    "    else:\n",
    "        L_1,L_2 = diviser(L)\n",
    "        L_1 = tri_fusion(L_1)\n",
    "        L_2 = tri_fusion(L_2)\n",
    "        return fusion(L_1,L_2)"
   ]
  },
  {
   "cell_type": "markdown",
   "metadata": {},
   "source": [
    "par exemple on peut visualiser les différentes étapes du tri de la liste $[14 \\; 1 \\; 4 \\; 3 ]$ avec les lignes de commandes suivantes"
   ]
  },
  {
   "cell_type": "code",
   "execution_count": 6,
   "metadata": {},
   "outputs": [
    {
     "name": "stdout",
     "output_type": "stream",
     "text": [
      "[14, 1] [4, 3]\n",
      "[14] [1]\n",
      "[14] [1]\n",
      "[4] [3]\n",
      "[4] [3]\n",
      "[1, 14] [3, 4]\n"
     ]
    },
    {
     "data": {
      "text/plain": [
       "[1, 3, 4, 14]"
      ]
     },
     "execution_count": 6,
     "metadata": {},
     "output_type": "execute_result"
    }
   ],
   "source": [
    "L = [14, 1, 4, 3]\n",
    "\n",
    "def tri_fusion_visualisation(L):\n",
    "    if len(L) == 1:\n",
    "        return L\n",
    "    else:\n",
    "        L_1,L_2 = diviser(L)\n",
    "        print(L_1,L_2)\n",
    "        L_1 = tri_fusion_visualisation(L_1)\n",
    "        L_2 = tri_fusion_visualisation(L_2)\n",
    "        print(L_1,L_2)\n",
    "        return fusion(L_1,L_2)\n",
    "    \n",
    "tri_fusion_visualisation(L)"
   ]
  },
  {
   "cell_type": "markdown",
   "metadata": {},
   "source": [
    "# Complexité temporelle\n",
    "\n",
    "Cette fois-ci la complexité temporelle du tri par fusion ne dépend pas de l'arrangement initial de la liste à trier L. Il n'y a pas de compléxité dans le pire des cas ou dans le meilleur des cas, car l'algorithme effectue toujours le même nombre d'opération pour une taille $n$ de la liste $L$.\n",
    "\n",
    "On peut le montrer en calculant la complexité du tri. Soit $C(n)$ la complexité d'un appel de la fonction tri pour une liste de taille $n$. Lors d'un appel de la fonction tri on appelle :\n",
    "- la fonction diviser de complexité 1,\n",
    "- deux fois la fonction tri pour des listes de taille $n/2$ de complexité $C(n/2)$,\n",
    "- et la fonction fusion qui parcour les deux listes de taille n/2 une fois donc est de complexité $n/2+n/2 = n$\n",
    "    \n",
    "donc $C(n) = 1 + 2C(n/2) + n$\n",
    "\n",
    "posons k tel que $n = 2^k$\n",
    "\n",
    "donc $C(2^k) = 1 + 2C(2^{k-1}) + 2^k$\n",
    "\n",
    "donc $C(k) = 1 + 2C(k-1) + 2^k = 1 + 2 + 4C(k-2) + 2^k + 2^k = \\sum_{0}^{k-1} 2^i + 2^kC(1) + k2^k = 2^k (1+C(1)+k)$\n",
    "\n",
    "or $k = \\log_2(n)$ donc $C(n) = n(1+C(1)+\\log_2(n)) = O(n\\log(n))$ c'est une complexité quasi-linéaire"
   ]
  },
  {
   "cell_type": "markdown",
   "metadata": {},
   "source": [
    "# Exercices\n",
    "\n",
    "## exercice : absence de meilleur ou pire des cas\n",
    "\n",
    "- Dérouler chaque étape de l’algorithme de tri par insertion sur la liste $[15,4,2,9,55,16,0,1]$\n",
    "\n",
    "- Montrer qu'il n'y a pas de meilleur ou pire des cas en déroulant chaque étape du tri sur une liste ordonné ou dans l'ordre inverse."
   ]
  },
  {
   "cell_type": "markdown",
   "metadata": {},
   "source": [
    "## exercice : calcul numérique de la complexité temporelle\n",
    "\n",
    "- à l'aide de tirage au sort successif de liste de différentes tailles, mesurer numériquement le temps mis pour l'exécution du tri par fusion sur ces listes et tracer le temps d'éxécution en fonction de la taille des listes à trier.\n",
    "\n",
    "- est-ce cohérent avec le calcul de complexité effectué précédemment ?"
   ]
  },
  {
   "cell_type": "markdown",
   "metadata": {},
   "source": [
    "## exercice : complexité spatiale\n",
    "\n",
    "- calculer la complexité spatiale d'un algorithme de tri par insertion"
   ]
  },
  {
   "cell_type": "markdown",
   "metadata": {},
   "source": [
    "## exercice : classement\n",
    "\n",
    "Plusieurs joueurs ont joué au pendu, nous disposons d’une liste de scores contenant les noms et\n",
    "scores (le taux de réussite) de chaque joueur. La liste est de cette forme :\n",
    "[['Marc', 0.87], ['Maryam', 0.99], ['Jean-Loup', 0.91], ['Hubert', 0.84]].\n",
    "\n",
    "- Écrire une fonction tri_score(L) qui trie une liste de scores par score décroissant, en utilisant le tri fusion."
   ]
  },
  {
   "cell_type": "markdown",
   "metadata": {},
   "source": [
    "## exercice : optimisation du tri par fusion\n",
    "\n",
    "Une façon d’optimiser le tri par fusion consiste à éviter la fusion lorsque, à\n",
    "l’issue des deux appels récursifs, les éléments d'une liste se trouvent être tous plus petits que les\n",
    "éléments de l'autre moitié. On le teste facilement en comparant l’élément le plus grand d'une moitié\n",
    "et l’élément le plus petit de l'autre.\n",
    "\n",
    "- Modifier le tri fusion en suivant cette idée."
   ]
  },
  {
   "cell_type": "markdown",
   "metadata": {},
   "source": [
    "## exercice : accélération par hybridation tri par insertion et fusion\n",
    "\n",
    "Une idée classique pour accélérer un algorithme de tri consiste à effectuer un tri par\n",
    "insertion quand le nombre d’éléments à trier est petit, c’est-à-dire devient inférieur à une constante fixée à\n",
    "l’avance (par exemple 5).\n",
    "\n",
    "- Modifier le tri par fusion pour prendre en compte cette idée. On pourra reprendre la fonction de tri par insertion."
   ]
  },
  {
   "cell_type": "markdown",
   "metadata": {},
   "source": [
    "## exercice : tri fusion en place\n",
    "\n",
    "\n",
    "- Modifier l'algorithme de tri par fusion pour obtenir un tri en place, sans créer toutes les listes auxiliaires."
   ]
  },
  {
   "cell_type": "markdown",
   "metadata": {},
   "source": [
    "## exercice : tri fusion intératif\n",
    "\n",
    "- Modifier l'algorithme de tri par fusion pour obtenir une version itérative du tri par fusion."
   ]
  }
 ],
 "metadata": {
  "kernelspec": {
   "display_name": "Python 3",
   "language": "python",
   "name": "python3"
  },
  "language_info": {
   "codemirror_mode": {
    "name": "ipython",
    "version": 3
   },
   "file_extension": ".py",
   "mimetype": "text/x-python",
   "name": "python",
   "nbconvert_exporter": "python",
   "pygments_lexer": "ipython3",
   "version": "3.7.3"
  }
 },
 "nbformat": 4,
 "nbformat_minor": 2
}
