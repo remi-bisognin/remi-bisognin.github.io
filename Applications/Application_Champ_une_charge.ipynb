{
 "cells": [
  {
   "cell_type": "code",
   "execution_count": null,
   "metadata": {},
   "outputs": [],
   "source": [
    "import matplotlib.pyplot as plt\n",
    "%matplotlib inline \n",
    "import numpy as np\n",
    "import ipywidgets as widgets\n",
    "from ipywidgets import interact, interact_manual\n",
    "\n",
    "@interact\n",
    "def Champs_charge_ponctuelle(charge=(-2,2,1)):\n",
    "    plt.figure(figsize=[9.6, 9.6])\n",
    "    plt.axis(\"equal\")    \n",
    "    plt.axis([-5, 5, -5, 5])\n",
    "    plt.grid(True)\n",
    "    \n",
    "    r = (np.arange(1,5**(3/2),1)**(2/3))\n",
    "    theta = np.arange(-np.pi,np.pi,np.pi/12)\n",
    "    \n",
    "    R,THETA = np.meshgrid(r,theta)\n",
    "    \n",
    "    X = R*np.cos(THETA)\n",
    "    Y = R*np.sin(THETA)\n",
    "    \n",
    "    F_x = 0.5*charge*X/(X**2+Y**2)**(3/2)\n",
    "    F_y = 0.5*charge*Y/(X**2+Y**2)**(3/2)\n",
    "    \n",
    "    size = (np.abs(charge)+1)*200\n",
    "    if charge < 0 :\n",
    "        color = 'blue'\n",
    "    elif charge == 0 :\n",
    "        color = 'green'\n",
    "    elif charge > 0 :\n",
    "        color = 'red'\n",
    "    plt.scatter(0,0,s=size,c=color)\n",
    "    plt.quiver(X,Y,F_x,F_y,units='xy', scale = 1)\n",
    "\n",
    "    plt.show()"
   ]
  }
 ],
 "metadata": {
  "kernelspec": {
   "display_name": "Python 3",
   "language": "python",
   "name": "python3"
  },
  "language_info": {
   "codemirror_mode": {
    "name": "ipython",
    "version": 3
   },
   "file_extension": ".py",
   "mimetype": "text/x-python",
   "name": "python",
   "nbconvert_exporter": "python",
   "pygments_lexer": "ipython3",
   "version": "3.7.3"
  }
 },
 "nbformat": 4,
 "nbformat_minor": 2
}
