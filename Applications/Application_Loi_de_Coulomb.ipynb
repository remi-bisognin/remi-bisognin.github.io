{
 "cells": [
  {
   "cell_type": "code",
   "execution_count": 2,
   "metadata": {},
   "outputs": [
    {
     "data": {
      "image/png": "[encoded data removed]",
      "text/plain": [
       "<Figure size 432x288 with 1 Axes>"
      ]
     },
     "metadata": {
      "needs_background": "light"
     },
     "output_type": "display_data"
    }
   ],
   "source": [
    "import matplotlib.pyplot as plt\n",
    "%matplotlib inline \n",
    "import numpy as np\n",
    "import ipywidgets as widgets\n",
    "from ipywidgets import interact, interact_manual\n",
    "\n",
    "\n",
    "\n",
    "@interact\n",
    "def Loi_de_Coulomb(r=(1,3,1),theta=(-np.pi,np.pi,np.pi/6),charge=(-2,2,1)):\n",
    "    \n",
    "    plt.figure(figsize=[9.6, 9.6])\n",
    "    plt.axis(\"equal\")    \n",
    "    plt.axis([-5, 5, -5, 5])\n",
    "    plt.grid(True)\n",
    "    \n",
    "    x = r*np.cos(theta)\n",
    "    y = r*np.sin(theta)\n",
    "    \n",
    "    F_x = 3*charge*x/(x**2+y**2)**(3/2)\n",
    "    F_y = 3*charge*y/(x**2+y**2)**(3/2)\n",
    "    \n",
    "    plt.scatter(0,0,s=400,c='red')\n",
    "    \n",
    "    size = (np.abs(charge)+1)*200\n",
    "    if charge < 0 :\n",
    "        color = 'blue'\n",
    "    elif charge == 0 :\n",
    "        color = 'green'\n",
    "    elif charge > 0 :\n",
    "        color = 'red'\n",
    "    plt.scatter(x,y,s=size,c=color)\n",
    "    plt.quiver(x,y,F_x,F_y,units='xy', scale = 1)"
   ]
  },
  {
   "cell_type": "code",
   "execution_count": null,
   "metadata": {},
   "outputs": [],
   "source": []
  }
 ],
 "metadata": {
  "kernelspec": {
   "display_name": "Python 3",
   "language": "python",
   "name": "python3"
  },
  "language_info": {
   "codemirror_mode": {
    "name": "ipython",
    "version": 3
   },
   "file_extension": ".py",
   "mimetype": "text/x-python",
   "name": "python",
   "nbconvert_exporter": "python",
   "pygments_lexer": "ipython3",
   "version": "3.7.3"
  }
 },
 "nbformat": 4,
 "nbformat_minor": 4
}
